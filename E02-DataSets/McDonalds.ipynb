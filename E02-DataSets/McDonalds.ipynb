{
 "cells": [
  {
   "cell_type": "code",
   "execution_count": 142,
   "metadata": {},
   "outputs": [],
   "source": [
    "import numpy as np\n",
    "import matplotlib.pyplot as plt\n",
    "import pandas as pd\n",
    "from sklearn.preprocessing import StandardScaler\n",
    "from sklearn.decomposition import PCA"
   ]
  },
  {
   "cell_type": "code",
   "execution_count": 143,
   "metadata": {},
   "outputs": [],
   "source": [
    "filename='./data/macdonald.csv'\n",
    "df=pd.read_csv(filename,sep=',')"
   ]
  },
  {
   "cell_type": "code",
   "execution_count": 145,
   "metadata": {},
   "outputs": [
    {
     "data": {
      "text/html": [
       "<div>\n",
       "<style scoped>\n",
       "    .dataframe tbody tr th:only-of-type {\n",
       "        vertical-align: middle;\n",
       "    }\n",
       "\n",
       "    .dataframe tbody tr th {\n",
       "        vertical-align: top;\n",
       "    }\n",
       "\n",
       "    .dataframe thead th {\n",
       "        text-align: right;\n",
       "    }\n",
       "</style>\n",
       "<table border=\"1\" class=\"dataframe\">\n",
       "  <thead>\n",
       "    <tr style=\"text-align: right;\">\n",
       "      <th></th>\n",
       "      <th>Menu Category</th>\n",
       "      <th>Menu Items</th>\n",
       "      <th>gOrml</th>\n",
       "      <th>Per Serve Size</th>\n",
       "      <th>Energy (kCal)</th>\n",
       "      <th>Protein (g)</th>\n",
       "      <th>Total fat (g)</th>\n",
       "      <th>Sat Fat (g)</th>\n",
       "      <th>Trans fat (g)</th>\n",
       "      <th>Cholesterols (mg)</th>\n",
       "      <th>Total carbohydrate (g)</th>\n",
       "      <th>Total Sugars (g)</th>\n",
       "      <th>Added Sugars (g)</th>\n",
       "      <th>Sodium (mg)</th>\n",
       "    </tr>\n",
       "  </thead>\n",
       "  <tbody>\n",
       "    <tr>\n",
       "      <th>0</th>\n",
       "      <td>Regular Menu</td>\n",
       "      <td>McVeggie™ Burger</td>\n",
       "      <td>g</td>\n",
       "      <td>168.0</td>\n",
       "      <td>402.05</td>\n",
       "      <td>10.24</td>\n",
       "      <td>13.83</td>\n",
       "      <td>5.34</td>\n",
       "      <td>0.16</td>\n",
       "      <td>2.49</td>\n",
       "      <td>56.54</td>\n",
       "      <td>7.90</td>\n",
       "      <td>4.49</td>\n",
       "      <td>706.13</td>\n",
       "    </tr>\n",
       "    <tr>\n",
       "      <th>1</th>\n",
       "      <td>Regular Menu</td>\n",
       "      <td>McAloo Tikki Burger®</td>\n",
       "      <td>g</td>\n",
       "      <td>146.0</td>\n",
       "      <td>339.52</td>\n",
       "      <td>8.50</td>\n",
       "      <td>11.31</td>\n",
       "      <td>4.27</td>\n",
       "      <td>0.20</td>\n",
       "      <td>1.47</td>\n",
       "      <td>50.27</td>\n",
       "      <td>7.05</td>\n",
       "      <td>4.07</td>\n",
       "      <td>545.34</td>\n",
       "    </tr>\n",
       "    <tr>\n",
       "      <th>2</th>\n",
       "      <td>Regular Menu</td>\n",
       "      <td>McSpicy™ Paneer Burger</td>\n",
       "      <td>g</td>\n",
       "      <td>199.0</td>\n",
       "      <td>652.76</td>\n",
       "      <td>20.29</td>\n",
       "      <td>39.45</td>\n",
       "      <td>17.12</td>\n",
       "      <td>0.18</td>\n",
       "      <td>21.85</td>\n",
       "      <td>52.33</td>\n",
       "      <td>8.35</td>\n",
       "      <td>5.27</td>\n",
       "      <td>1074.58</td>\n",
       "    </tr>\n",
       "    <tr>\n",
       "      <th>3</th>\n",
       "      <td>Regular Menu</td>\n",
       "      <td>Spicy Paneer Wrap</td>\n",
       "      <td>g</td>\n",
       "      <td>250.0</td>\n",
       "      <td>674.68</td>\n",
       "      <td>20.96</td>\n",
       "      <td>39.10</td>\n",
       "      <td>19.73</td>\n",
       "      <td>0.26</td>\n",
       "      <td>40.93</td>\n",
       "      <td>59.27</td>\n",
       "      <td>3.50</td>\n",
       "      <td>1.08</td>\n",
       "      <td>1087.46</td>\n",
       "    </tr>\n",
       "    <tr>\n",
       "      <th>4</th>\n",
       "      <td>Regular Menu</td>\n",
       "      <td>American Veg Burger</td>\n",
       "      <td>g</td>\n",
       "      <td>177.0</td>\n",
       "      <td>512.17</td>\n",
       "      <td>15.30</td>\n",
       "      <td>23.45</td>\n",
       "      <td>10.51</td>\n",
       "      <td>0.17</td>\n",
       "      <td>25.24</td>\n",
       "      <td>56.96</td>\n",
       "      <td>7.85</td>\n",
       "      <td>4.76</td>\n",
       "      <td>1051.24</td>\n",
       "    </tr>\n",
       "    <tr>\n",
       "      <th>5</th>\n",
       "      <td>Regular Menu</td>\n",
       "      <td>Veg Maharaja Mac</td>\n",
       "      <td>g</td>\n",
       "      <td>306.0</td>\n",
       "      <td>832.67</td>\n",
       "      <td>24.17</td>\n",
       "      <td>37.94</td>\n",
       "      <td>16.83</td>\n",
       "      <td>0.28</td>\n",
       "      <td>36.19</td>\n",
       "      <td>93.84</td>\n",
       "      <td>11.52</td>\n",
       "      <td>6.92</td>\n",
       "      <td>1529.22</td>\n",
       "    </tr>\n",
       "    <tr>\n",
       "      <th>6</th>\n",
       "      <td>Regular Menu</td>\n",
       "      <td>Green Chilli Aloo Naan</td>\n",
       "      <td>g</td>\n",
       "      <td>132.0</td>\n",
       "      <td>356.09</td>\n",
       "      <td>7.91</td>\n",
       "      <td>15.08</td>\n",
       "      <td>6.11</td>\n",
       "      <td>0.24</td>\n",
       "      <td>9.45</td>\n",
       "      <td>46.36</td>\n",
       "      <td>4.53</td>\n",
       "      <td>1.15</td>\n",
       "      <td>579.60</td>\n",
       "    </tr>\n",
       "    <tr>\n",
       "      <th>7</th>\n",
       "      <td>Regular Menu</td>\n",
       "      <td>Pizza Puff</td>\n",
       "      <td>g</td>\n",
       "      <td>87.0</td>\n",
       "      <td>228.21</td>\n",
       "      <td>5.45</td>\n",
       "      <td>11.44</td>\n",
       "      <td>5.72</td>\n",
       "      <td>0.09</td>\n",
       "      <td>5.17</td>\n",
       "      <td>24.79</td>\n",
       "      <td>2.73</td>\n",
       "      <td>0.35</td>\n",
       "      <td>390.74</td>\n",
       "    </tr>\n",
       "    <tr>\n",
       "      <th>8</th>\n",
       "      <td>Regular Menu</td>\n",
       "      <td>Mc chicken Burger</td>\n",
       "      <td>g</td>\n",
       "      <td>173.0</td>\n",
       "      <td>400.80</td>\n",
       "      <td>15.66</td>\n",
       "      <td>15.70</td>\n",
       "      <td>5.47</td>\n",
       "      <td>0.16</td>\n",
       "      <td>31.17</td>\n",
       "      <td>47.98</td>\n",
       "      <td>5.53</td>\n",
       "      <td>4.49</td>\n",
       "      <td>766.33</td>\n",
       "    </tr>\n",
       "    <tr>\n",
       "      <th>9</th>\n",
       "      <td>Regular Menu</td>\n",
       "      <td>FILLET-O-FISH Burger</td>\n",
       "      <td>g</td>\n",
       "      <td>136.0</td>\n",
       "      <td>348.11</td>\n",
       "      <td>15.44</td>\n",
       "      <td>14.16</td>\n",
       "      <td>5.79</td>\n",
       "      <td>0.21</td>\n",
       "      <td>32.83</td>\n",
       "      <td>38.85</td>\n",
       "      <td>5.58</td>\n",
       "      <td>3.54</td>\n",
       "      <td>530.54</td>\n",
       "    </tr>\n",
       "    <tr>\n",
       "      <th>10</th>\n",
       "      <td>Regular Menu</td>\n",
       "      <td>Mc Spicy Chicken Burger</td>\n",
       "      <td>g</td>\n",
       "      <td>186.0</td>\n",
       "      <td>451.92</td>\n",
       "      <td>21.46</td>\n",
       "      <td>19.36</td>\n",
       "      <td>7.63</td>\n",
       "      <td>0.18</td>\n",
       "      <td>66.04</td>\n",
       "      <td>46.08</td>\n",
       "      <td>5.88</td>\n",
       "      <td>4.49</td>\n",
       "      <td>928.52</td>\n",
       "    </tr>\n",
       "    <tr>\n",
       "      <th>11</th>\n",
       "      <td>Regular Menu</td>\n",
       "      <td>Spicy Chicken Wrap</td>\n",
       "      <td>g</td>\n",
       "      <td>257.0</td>\n",
       "      <td>567.19</td>\n",
       "      <td>23.74</td>\n",
       "      <td>26.89</td>\n",
       "      <td>12.54</td>\n",
       "      <td>0.27</td>\n",
       "      <td>87.63</td>\n",
       "      <td>57.06</td>\n",
       "      <td>2.52</td>\n",
       "      <td>1.08</td>\n",
       "      <td>1152.38</td>\n",
       "    </tr>\n",
       "    <tr>\n",
       "      <th>12</th>\n",
       "      <td>Regular Menu</td>\n",
       "      <td>Chicken Maharaja Mac</td>\n",
       "      <td>g</td>\n",
       "      <td>296.0</td>\n",
       "      <td>689.12</td>\n",
       "      <td>34.00</td>\n",
       "      <td>36.69</td>\n",
       "      <td>10.33</td>\n",
       "      <td>0.25</td>\n",
       "      <td>81.49</td>\n",
       "      <td>55.39</td>\n",
       "      <td>8.92</td>\n",
       "      <td>6.14</td>\n",
       "      <td>1854.71</td>\n",
       "    </tr>\n",
       "    <tr>\n",
       "      <th>13</th>\n",
       "      <td>Regular Menu</td>\n",
       "      <td>American Chicken Burger</td>\n",
       "      <td>g</td>\n",
       "      <td>165.0</td>\n",
       "      <td>446.95</td>\n",
       "      <td>20.29</td>\n",
       "      <td>22.94</td>\n",
       "      <td>7.28</td>\n",
       "      <td>0.15</td>\n",
       "      <td>47.63</td>\n",
       "      <td>38.54</td>\n",
       "      <td>7.48</td>\n",
       "      <td>4.76</td>\n",
       "      <td>1132.30</td>\n",
       "    </tr>\n",
       "    <tr>\n",
       "      <th>14</th>\n",
       "      <td>Regular Menu</td>\n",
       "      <td>Chicken Kebab Burger</td>\n",
       "      <td>g</td>\n",
       "      <td>138.0</td>\n",
       "      <td>357.05</td>\n",
       "      <td>8.64</td>\n",
       "      <td>14.02</td>\n",
       "      <td>4.84</td>\n",
       "      <td>0.13</td>\n",
       "      <td>1.51</td>\n",
       "      <td>47.90</td>\n",
       "      <td>5.08</td>\n",
       "      <td>3.49</td>\n",
       "      <td>548.79</td>\n",
       "    </tr>\n",
       "    <tr>\n",
       "      <th>15</th>\n",
       "      <td>Regular Menu</td>\n",
       "      <td>Green Chilli Kebab naan</td>\n",
       "      <td>g</td>\n",
       "      <td>138.0</td>\n",
       "      <td>230.95</td>\n",
       "      <td>5.67</td>\n",
       "      <td>9.32</td>\n",
       "      <td>3.27</td>\n",
       "      <td>0.19</td>\n",
       "      <td>8.74</td>\n",
       "      <td>31.06</td>\n",
       "      <td>3.64</td>\n",
       "      <td>1.15</td>\n",
       "      <td>410.78</td>\n",
       "    </tr>\n",
       "    <tr>\n",
       "      <th>16</th>\n",
       "      <td>Regular Menu</td>\n",
       "      <td>Mc Egg Masala Burger</td>\n",
       "      <td>g</td>\n",
       "      <td>126.2</td>\n",
       "      <td>290.42</td>\n",
       "      <td>12.45</td>\n",
       "      <td>12.27</td>\n",
       "      <td>3.64</td>\n",
       "      <td>0.11</td>\n",
       "      <td>213.09</td>\n",
       "      <td>32.89</td>\n",
       "      <td>4.89</td>\n",
       "      <td>3.64</td>\n",
       "      <td>757.91</td>\n",
       "    </tr>\n",
       "    <tr>\n",
       "      <th>17</th>\n",
       "      <td>Regular Menu</td>\n",
       "      <td>Mc Egg Burger for Happy Meal</td>\n",
       "      <td>g</td>\n",
       "      <td>123.0</td>\n",
       "      <td>282.98</td>\n",
       "      <td>12.29</td>\n",
       "      <td>12.21</td>\n",
       "      <td>3.63</td>\n",
       "      <td>0.11</td>\n",
       "      <td>213.09</td>\n",
       "      <td>31.32</td>\n",
       "      <td>4.66</td>\n",
       "      <td>3.64</td>\n",
       "      <td>399.41</td>\n",
       "    </tr>\n",
       "    <tr>\n",
       "      <th>18</th>\n",
       "      <td>Regular Menu</td>\n",
       "      <td>Ghee Rice with Mc Spicy Fried Chicken 1 pc</td>\n",
       "      <td>g</td>\n",
       "      <td>325.0</td>\n",
       "      <td>720.30</td>\n",
       "      <td>26.91</td>\n",
       "      <td>29.20</td>\n",
       "      <td>5.08</td>\n",
       "      <td>0.30</td>\n",
       "      <td>31.32</td>\n",
       "      <td>77.47</td>\n",
       "      <td>3.28</td>\n",
       "      <td>0.35</td>\n",
       "      <td>2399.49</td>\n",
       "    </tr>\n",
       "    <tr>\n",
       "      <th>19</th>\n",
       "      <td>Regular Menu</td>\n",
       "      <td>McSpicy Fried Chicken 1 pc</td>\n",
       "      <td>g</td>\n",
       "      <td>115.0</td>\n",
       "      <td>248.76</td>\n",
       "      <td>17.33</td>\n",
       "      <td>14.29</td>\n",
       "      <td>2.82</td>\n",
       "      <td>0.06</td>\n",
       "      <td>31.11</td>\n",
       "      <td>12.70</td>\n",
       "      <td>0.58</td>\n",
       "      <td>0.00</td>\n",
       "      <td>873.89</td>\n",
       "    </tr>\n",
       "    <tr>\n",
       "      <th>20</th>\n",
       "      <td>Regular Menu</td>\n",
       "      <td>4 piece Chicken McNuggets</td>\n",
       "      <td>g</td>\n",
       "      <td>64.0</td>\n",
       "      <td>169.68</td>\n",
       "      <td>10.03</td>\n",
       "      <td>9.54</td>\n",
       "      <td>4.45</td>\n",
       "      <td>0.06</td>\n",
       "      <td>24.66</td>\n",
       "      <td>10.50</td>\n",
       "      <td>0.32</td>\n",
       "      <td>0.00</td>\n",
       "      <td>313.25</td>\n",
       "    </tr>\n",
       "    <tr>\n",
       "      <th>21</th>\n",
       "      <td>Regular Menu</td>\n",
       "      <td>6 piece Chicken McNuggets</td>\n",
       "      <td>g</td>\n",
       "      <td>96.0</td>\n",
       "      <td>254.52</td>\n",
       "      <td>15.04</td>\n",
       "      <td>14.30</td>\n",
       "      <td>6.68</td>\n",
       "      <td>0.10</td>\n",
       "      <td>36.99</td>\n",
       "      <td>15.74</td>\n",
       "      <td>0.48</td>\n",
       "      <td>0.00</td>\n",
       "      <td>469.87</td>\n",
       "    </tr>\n",
       "    <tr>\n",
       "      <th>22</th>\n",
       "      <td>Regular Menu</td>\n",
       "      <td>9 piece Chicken McNuggets</td>\n",
       "      <td>g</td>\n",
       "      <td>144.0</td>\n",
       "      <td>381.77</td>\n",
       "      <td>22.56</td>\n",
       "      <td>21.46</td>\n",
       "      <td>10.02</td>\n",
       "      <td>0.14</td>\n",
       "      <td>55.48</td>\n",
       "      <td>23.62</td>\n",
       "      <td>0.72</td>\n",
       "      <td>0.00</td>\n",
       "      <td>704.81</td>\n",
       "    </tr>\n",
       "    <tr>\n",
       "      <th>23</th>\n",
       "      <td>Regular Menu</td>\n",
       "      <td>2 piece Chicken Strips</td>\n",
       "      <td>g</td>\n",
       "      <td>58.0</td>\n",
       "      <td>164.44</td>\n",
       "      <td>10.17</td>\n",
       "      <td>12.38</td>\n",
       "      <td>11.41</td>\n",
       "      <td>0.06</td>\n",
       "      <td>30.10</td>\n",
       "      <td>2.68</td>\n",
       "      <td>0.29</td>\n",
       "      <td>0.00</td>\n",
       "      <td>477.22</td>\n",
       "    </tr>\n",
       "    <tr>\n",
       "      <th>24</th>\n",
       "      <td>Regular Menu</td>\n",
       "      <td>3 piece Chicken Strips</td>\n",
       "      <td>g</td>\n",
       "      <td>87.0</td>\n",
       "      <td>246.65</td>\n",
       "      <td>15.26</td>\n",
       "      <td>18.57</td>\n",
       "      <td>17.12</td>\n",
       "      <td>0.09</td>\n",
       "      <td>45.15</td>\n",
       "      <td>4.02</td>\n",
       "      <td>0.44</td>\n",
       "      <td>0.00</td>\n",
       "      <td>715.83</td>\n",
       "    </tr>\n",
       "    <tr>\n",
       "      <th>25</th>\n",
       "      <td>Regular Menu</td>\n",
       "      <td>5 piece Chicken Strips</td>\n",
       "      <td>g</td>\n",
       "      <td>145.0</td>\n",
       "      <td>411.09</td>\n",
       "      <td>25.43</td>\n",
       "      <td>28.54</td>\n",
       "      <td>0.15</td>\n",
       "      <td>75.26</td>\n",
       "      <td>6.70</td>\n",
       "      <td>0.73</td>\n",
       "      <td>0.72</td>\n",
       "      <td>0.00</td>\n",
       "      <td>1193.05</td>\n",
       "    </tr>\n",
       "    <tr>\n",
       "      <th>26</th>\n",
       "      <td>Regular Menu</td>\n",
       "      <td>Regular Fries</td>\n",
       "      <td>g</td>\n",
       "      <td>77.0</td>\n",
       "      <td>224.59</td>\n",
       "      <td>3.38</td>\n",
       "      <td>10.39</td>\n",
       "      <td>4.97</td>\n",
       "      <td>0.08</td>\n",
       "      <td>0.77</td>\n",
       "      <td>27.08</td>\n",
       "      <td>0.39</td>\n",
       "      <td>0.00</td>\n",
       "      <td>153.15</td>\n",
       "    </tr>\n",
       "    <tr>\n",
       "      <th>27</th>\n",
       "      <td>Regular Menu</td>\n",
       "      <td>Medium Fries</td>\n",
       "      <td>g</td>\n",
       "      <td>109.0</td>\n",
       "      <td>317.92</td>\n",
       "      <td>4.79</td>\n",
       "      <td>14.70</td>\n",
       "      <td>7.04</td>\n",
       "      <td>0.11</td>\n",
       "      <td>1.09</td>\n",
       "      <td>38.34</td>\n",
       "      <td>0.55</td>\n",
       "      <td>0.00</td>\n",
       "      <td>216.79</td>\n",
       "    </tr>\n",
       "    <tr>\n",
       "      <th>28</th>\n",
       "      <td>Regular Menu</td>\n",
       "      <td>Large Fries</td>\n",
       "      <td>g</td>\n",
       "      <td>154.0</td>\n",
       "      <td>449.17</td>\n",
       "      <td>6.76</td>\n",
       "      <td>20.77</td>\n",
       "      <td>9.95</td>\n",
       "      <td>0.15</td>\n",
       "      <td>1.54</td>\n",
       "      <td>54.16</td>\n",
       "      <td>0.77</td>\n",
       "      <td>0.00</td>\n",
       "      <td>306.29</td>\n",
       "    </tr>\n",
       "    <tr>\n",
       "      <th>29</th>\n",
       "      <td>Regular Menu</td>\n",
       "      <td>Regular Wedges</td>\n",
       "      <td>g</td>\n",
       "      <td>114.0</td>\n",
       "      <td>204.65</td>\n",
       "      <td>3.97</td>\n",
       "      <td>7.15</td>\n",
       "      <td>3.39</td>\n",
       "      <td>0.10</td>\n",
       "      <td>0.97</td>\n",
       "      <td>28.74</td>\n",
       "      <td>0.48</td>\n",
       "      <td>0.00</td>\n",
       "      <td>356.44</td>\n",
       "    </tr>\n",
       "  </tbody>\n",
       "</table>\n",
       "</div>"
      ],
      "text/plain": [
       "   Menu Category                                  Menu Items gOrml  \\\n",
       "0   Regular Menu                            McVeggie™ Burger     g   \n",
       "1   Regular Menu                        McAloo Tikki Burger®     g   \n",
       "2   Regular Menu                      McSpicy™ Paneer Burger     g   \n",
       "3   Regular Menu                           Spicy Paneer Wrap     g   \n",
       "4   Regular Menu                         American Veg Burger     g   \n",
       "5   Regular Menu                            Veg Maharaja Mac     g   \n",
       "6   Regular Menu                      Green Chilli Aloo Naan     g   \n",
       "7   Regular Menu                                  Pizza Puff     g   \n",
       "8   Regular Menu                           Mc chicken Burger     g   \n",
       "9   Regular Menu                        FILLET-O-FISH Burger     g   \n",
       "10  Regular Menu                     Mc Spicy Chicken Burger     g   \n",
       "11  Regular Menu                          Spicy Chicken Wrap     g   \n",
       "12  Regular Menu                        Chicken Maharaja Mac     g   \n",
       "13  Regular Menu                     American Chicken Burger     g   \n",
       "14  Regular Menu                        Chicken Kebab Burger     g   \n",
       "15  Regular Menu                     Green Chilli Kebab naan     g   \n",
       "16  Regular Menu                        Mc Egg Masala Burger     g   \n",
       "17  Regular Menu                Mc Egg Burger for Happy Meal     g   \n",
       "18  Regular Menu  Ghee Rice with Mc Spicy Fried Chicken 1 pc     g   \n",
       "19  Regular Menu                  McSpicy Fried Chicken 1 pc     g   \n",
       "20  Regular Menu                   4 piece Chicken McNuggets     g   \n",
       "21  Regular Menu                   6 piece Chicken McNuggets     g   \n",
       "22  Regular Menu                   9 piece Chicken McNuggets     g   \n",
       "23  Regular Menu                      2 piece Chicken Strips     g   \n",
       "24  Regular Menu                      3 piece Chicken Strips     g   \n",
       "25  Regular Menu                      5 piece Chicken Strips     g   \n",
       "26  Regular Menu                               Regular Fries     g   \n",
       "27  Regular Menu                                Medium Fries     g   \n",
       "28  Regular Menu                                 Large Fries     g   \n",
       "29  Regular Menu                              Regular Wedges     g   \n",
       "\n",
       "    Per Serve Size  Energy (kCal)  Protein (g)  Total fat (g)  Sat Fat (g)  \\\n",
       "0            168.0         402.05        10.24          13.83         5.34   \n",
       "1            146.0         339.52         8.50          11.31         4.27   \n",
       "2            199.0         652.76        20.29          39.45        17.12   \n",
       "3            250.0         674.68        20.96          39.10        19.73   \n",
       "4            177.0         512.17        15.30          23.45        10.51   \n",
       "5            306.0         832.67        24.17          37.94        16.83   \n",
       "6            132.0         356.09         7.91          15.08         6.11   \n",
       "7             87.0         228.21         5.45          11.44         5.72   \n",
       "8            173.0         400.80        15.66          15.70         5.47   \n",
       "9            136.0         348.11        15.44          14.16         5.79   \n",
       "10           186.0         451.92        21.46          19.36         7.63   \n",
       "11           257.0         567.19        23.74          26.89        12.54   \n",
       "12           296.0         689.12        34.00          36.69        10.33   \n",
       "13           165.0         446.95        20.29          22.94         7.28   \n",
       "14           138.0         357.05         8.64          14.02         4.84   \n",
       "15           138.0         230.95         5.67           9.32         3.27   \n",
       "16           126.2         290.42        12.45          12.27         3.64   \n",
       "17           123.0         282.98        12.29          12.21         3.63   \n",
       "18           325.0         720.30        26.91          29.20         5.08   \n",
       "19           115.0         248.76        17.33          14.29         2.82   \n",
       "20            64.0         169.68        10.03           9.54         4.45   \n",
       "21            96.0         254.52        15.04          14.30         6.68   \n",
       "22           144.0         381.77        22.56          21.46        10.02   \n",
       "23            58.0         164.44        10.17          12.38        11.41   \n",
       "24            87.0         246.65        15.26          18.57        17.12   \n",
       "25           145.0         411.09        25.43          28.54         0.15   \n",
       "26            77.0         224.59         3.38          10.39         4.97   \n",
       "27           109.0         317.92         4.79          14.70         7.04   \n",
       "28           154.0         449.17         6.76          20.77         9.95   \n",
       "29           114.0         204.65         3.97           7.15         3.39   \n",
       "\n",
       "    Trans fat (g)  Cholesterols (mg)  Total carbohydrate (g)  \\\n",
       "0            0.16               2.49                   56.54   \n",
       "1            0.20               1.47                   50.27   \n",
       "2            0.18              21.85                   52.33   \n",
       "3            0.26              40.93                   59.27   \n",
       "4            0.17              25.24                   56.96   \n",
       "5            0.28              36.19                   93.84   \n",
       "6            0.24               9.45                   46.36   \n",
       "7            0.09               5.17                   24.79   \n",
       "8            0.16              31.17                   47.98   \n",
       "9            0.21              32.83                   38.85   \n",
       "10           0.18              66.04                   46.08   \n",
       "11           0.27              87.63                   57.06   \n",
       "12           0.25              81.49                   55.39   \n",
       "13           0.15              47.63                   38.54   \n",
       "14           0.13               1.51                   47.90   \n",
       "15           0.19               8.74                   31.06   \n",
       "16           0.11             213.09                   32.89   \n",
       "17           0.11             213.09                   31.32   \n",
       "18           0.30              31.32                   77.47   \n",
       "19           0.06              31.11                   12.70   \n",
       "20           0.06              24.66                   10.50   \n",
       "21           0.10              36.99                   15.74   \n",
       "22           0.14              55.48                   23.62   \n",
       "23           0.06              30.10                    2.68   \n",
       "24           0.09              45.15                    4.02   \n",
       "25          75.26               6.70                    0.73   \n",
       "26           0.08               0.77                   27.08   \n",
       "27           0.11               1.09                   38.34   \n",
       "28           0.15               1.54                   54.16   \n",
       "29           0.10               0.97                   28.74   \n",
       "\n",
       "    Total Sugars (g)  Added Sugars (g)  Sodium (mg)  \n",
       "0               7.90              4.49       706.13  \n",
       "1               7.05              4.07       545.34  \n",
       "2               8.35              5.27      1074.58  \n",
       "3               3.50              1.08      1087.46  \n",
       "4               7.85              4.76      1051.24  \n",
       "5              11.52              6.92      1529.22  \n",
       "6               4.53              1.15       579.60  \n",
       "7               2.73              0.35       390.74  \n",
       "8               5.53              4.49       766.33  \n",
       "9               5.58              3.54       530.54  \n",
       "10              5.88              4.49       928.52  \n",
       "11              2.52              1.08      1152.38  \n",
       "12              8.92              6.14      1854.71  \n",
       "13              7.48              4.76      1132.30  \n",
       "14              5.08              3.49       548.79  \n",
       "15              3.64              1.15       410.78  \n",
       "16              4.89              3.64       757.91  \n",
       "17              4.66              3.64       399.41  \n",
       "18              3.28              0.35      2399.49  \n",
       "19              0.58              0.00       873.89  \n",
       "20              0.32              0.00       313.25  \n",
       "21              0.48              0.00       469.87  \n",
       "22              0.72              0.00       704.81  \n",
       "23              0.29              0.00       477.22  \n",
       "24              0.44              0.00       715.83  \n",
       "25              0.72              0.00      1193.05  \n",
       "26              0.39              0.00       153.15  \n",
       "27              0.55              0.00       216.79  \n",
       "28              0.77              0.00       306.29  \n",
       "29              0.48              0.00       356.44  "
      ]
     },
     "execution_count": 145,
     "metadata": {},
     "output_type": "execute_result"
    }
   ],
   "source": [
    "df.head(30)"
   ]
  },
  {
   "cell_type": "code",
   "execution_count": 107,
   "metadata": {},
   "outputs": [],
   "source": [
    "MenuCat=df[['Menu Category','Menu Items','gOrml']].values"
   ]
  },
  {
   "cell_type": "code",
   "execution_count": 108,
   "metadata": {},
   "outputs": [
    {
     "name": "stdout",
     "output_type": "stream",
     "text": [
      "Shape of X is  (141, 11)\n"
     ]
    }
   ],
   "source": [
    "dataX=df.drop(['Menu Category','Menu Items','gOrml'],axis=1)\n",
    "m,n=dataX.shape\n",
    "DataXperWeight=dataX.iloc[:,0:n].div(dataX['Per Serve Size'],axis=0)\n",
    "#print(NormDataX.head())\n",
    "X=DataXperWeight.values\n",
    "print(\"Shape of X is \", X.shape)"
   ]
  },
  {
   "cell_type": "code",
   "execution_count": 109,
   "metadata": {},
   "outputs": [],
   "source": [
    "scaler=StandardScaler()\n",
    "scaler.fit(X)\n",
    "Xstd=scaler.transform(X)\n",
    "#print(Xstd)"
   ]
  },
  {
   "cell_type": "code",
   "execution_count": 110,
   "metadata": {},
   "outputs": [],
   "source": [
    "from sklearn.impute import SimpleImputer\n",
    "imp = SimpleImputer(missing_values=np.nan, strategy='mean')\n",
    "imp.fit(Xstd)\n",
    "Xstd=imp.transform(Xstd)"
   ]
  },
  {
   "cell_type": "code",
   "execution_count": 111,
   "metadata": {},
   "outputs": [
    {
     "data": {
      "image/png": "[encoded data removed]",
      "text/plain": [
       "<Figure size 640x480 with 1 Axes>"
      ]
     },
     "metadata": {},
     "output_type": "display_data"
    }
   ],
   "source": [
    "pca = PCA()\n",
    "# Determine transformed features\n",
    "X_train_pca = pca.fit_transform(Xstd)\n",
    "# Determine explained variance using explained_variance_ration_ attribute\n",
    "exp_var_pca = pca.explained_variance_ratio_\n",
    "# Cumulative sum of eigenvalues; This will be used to create step plot\n",
    "# for visualizing the variance explained by each principal component.\n",
    "cum_sum_eigenvalues = np.cumsum(exp_var_pca)\n",
    "# Create the visualization plot\n",
    "plt.bar(range(0,len(exp_var_pca)), exp_var_pca, alpha=0.5, align='center', label='Individual explained variance')\n",
    "plt.step(range(0,len(cum_sum_eigenvalues)), cum_sum_eigenvalues, where='mid',label='Cumulative explained variance')\n",
    "plt.ylabel('Explained variance ratio')\n",
    "plt.xlabel('Principal component index')\n",
    "plt.legend(loc='best')\n",
    "plt.tight_layout()\n",
    "plt.show()"
   ]
  },
  {
   "attachments": {},
   "cell_type": "markdown",
   "metadata": {},
   "source": [
    "# Score plot"
   ]
  },
  {
   "cell_type": "code",
   "execution_count": 112,
   "metadata": {},
   "outputs": [
    {
     "data": {
      "application/vnd.plotly.v1+json": {
       "config": {
        "plotlyServerURL": "https://plot.ly"
       },
       "data": [
        {
         "hovertemplate": "gOrml=g<br>x=%{x}<br>y=%{y}<extra></extra>",
         "legendgroup": "g",
         "marker": {
          "color": "red",
          "symbol": "circle"
         },
         "mode": "markers",
         "name": "g",
         "orientation": "v",
         "showlegend": true,
         "type": "scatter",
         "x": [
          0.9122406020881461,
          0.811159483846036,
          2.4271639875354083,
          1.911690159651541,
          1.9116296001082487,
          1.6263174398122275,
          1.4005508079285955,
          1.500779303137862,
          1.2090365776592966,
          1.7396486971245662,
          1.7490053083774706,
          1.5051474474600517,
          1.4855666591781513,
          1.9657604063398828,
          1.0926918153091318,
          0.0965926600691389,
          2.618648671364274,
          2.5589011429179647,
          0.9386050532012582,
          1.598086415741953,
          2.5697770545885605,
          2.5697419518886897,
          2.569782064612276,
          4.412762437289379,
          4.4139447339691875,
          2.1831254244545333,
          1.4793164989395502,
          1.48033843129923,
          1.4799972273943247,
          0.22151342446304034,
          0.22205916112401358,
          0.22224653704942976,
          3.003726169260182,
          3.513810427046802,
          1.962785655190721,
          2.5152668535021783,
          2.6436224253335556,
          2.4896911545365374,
          3.017293540307219,
          3.7699946092148364,
          1.6182205278735144,
          0.705669623411826,
          -0.9910514559769994,
          -0.17214716531386504,
          -0.7319512206199394,
          -0.5453018710708518,
          -1.2287796213728102,
          -1.237209831977385,
          -0.23508851764798294,
          -0.09986381511663298,
          -0.3668047653174308,
          -0.14951724704458885,
          -0.8132064721397021,
          -0.7422829224523437,
          2.0162104501754694,
          1.9525640782387037,
          1.4848410232784255,
          1.6990429194007797,
          1.5137827630253284,
          2.6019662100142025,
          2.5221209656849264,
          0.9002526153442518,
          0.7945097481291987,
          2.254716422115694,
          2.255236761564016,
          0.9655930631628671,
          -0.0831196920154192,
          -1.480402521862191,
          4.737421854653019,
          0.5217245542772159,
          -0.017843522693838057,
          5.935646809056197,
          -0.6494398142088034
         ],
         "xaxis": "x",
         "y": [
          0.3127318834225517,
          0.35340026427536286,
          0.02204931992782916,
          -0.5826642256812362,
          0.22098315344198857,
          0.06814273260688393,
          0.13928933552485165,
          -0.19468481022353376,
          -0.17860258821187217,
          -0.157516062388037,
          -0.4305582329836179,
          -0.8449367643073977,
          -0.6391846371116571,
          -0.24444571262307635,
          0.302717130696897,
          -0.5082872368228936,
          -0.70539215323775,
          -0.7826333378105355,
          -0.6220132797763768,
          -1.4174963082529215,
          -1.279891652614394,
          -1.2804831916830173,
          -1.2800138363737839,
          -1.8580477769763761,
          -1.8579403421678753,
          -2.730241229619016,
          -0.07369187971854581,
          -0.07385585025482246,
          -0.07415505163472848,
          -0.595340022941812,
          -0.5952080615277446,
          -0.5949755679206271,
          3.1410882171194117,
          2.846649568238317,
          -0.19319834400115812,
          -0.40051591257191255,
          -1.0502282414712947,
          -0.783143343316123,
          -1.6452057754723501,
          -1.333338209112625,
          2.4818772128213706,
          -0.5086186074329234,
          0.7600697733334082,
          1.5679932113995931,
          1.572348023321594,
          1.9083905151405398,
          1.8236725597379864,
          2.258787119223418,
          2.189498961870559,
          2.313458683081837,
          2.827502911066249,
          3.372470801188496,
          1.5564536676339928,
          1.707117599006769,
          -0.6607002094758525,
          -0.24524505610436015,
          0.5471266767305821,
          0.021160508867540666,
          -0.8896873938263292,
          -1.2289948866202682,
          -0.40372208021527917,
          -0.6058307329602174,
          0.3174713955526063,
          -0.5806203018444789,
          -0.5810599243037492,
          3.377518347758503,
          3.549182408817329,
          1.5685201057784448,
          3.144190553017621,
          6.424671849649325,
          6.867718631182539,
          -1.6686806817431508,
          -0.5890067972452266
         ],
         "yaxis": "y"
        },
        {
         "hovertemplate": "gOrml=ml<br>x=%{x}<br>y=%{y}<extra></extra>",
         "legendgroup": "ml",
         "marker": {
          "color": "blue",
          "symbol": "circle"
         },
         "mode": "markers",
         "name": "ml",
         "orientation": "v",
         "showlegend": true,
         "type": "scatter",
         "x": [
          -2.013873261612737,
          -1.8061944386620998,
          -1.3895346314474046,
          -1.038727550392429,
          -1.98562131461894,
          -1.958644264683089,
          -1.9689502164339567,
          -0.9224557373887823,
          -0.9375107653363602,
          -0.9346484378556648,
          -0.9117019557267344,
          -0.9345867240211667,
          -0.9304251784352995,
          -0.9049512014202583,
          -0.9249996524955284,
          -0.9245824848397198,
          -0.8919804375985309,
          -0.9119855019014388,
          -0.9063563195622723,
          -0.7255687414343552,
          -0.7591370696555544,
          -0.7549016271614599,
          -0.7772842760232723,
          -0.17750948399110322,
          -0.02778433128084411,
          -1.9882905733612721,
          -1.988401970330469,
          -1.9883084197831458,
          -1.9821589543275784,
          -1.9819098308371412,
          -1.981847390506896,
          -1.9759416822177356,
          -1.9758518954454134,
          -1.9755999726994782,
          -1.9352656812696056,
          -1.9555579912766838,
          -1.9498710059804882,
          -1.4301848445006236,
          -0.7594966074945319,
          -0.7455816930568938,
          -0.5946602610595842,
          -1.171867497225203,
          -1.0684983674139212,
          -1.4646335119244211,
          -1.5219973917742005,
          -1.9487978323019746,
          -1.9669912256059694,
          -1.9851495312995575,
          -1.49414793687535,
          -0.7918836774160785,
          -2.041858262750735,
          -2.0415225196610396,
          -2.0412305936002837,
          -2.036695366834835,
          -2.0361095777087126,
          -2.0356006515563587,
          -2.0417352648337386,
          -2.0413934185311486,
          -2.041096195854712,
          -2.0439201285279824,
          -2.043683611063612,
          -2.0434787583153686,
          -1.8192335859850621,
          -1.8157746486713835,
          -1.8186340840864104,
          -2.04454830383228,
          -2.0485848560579814,
          -1.6576167750554416
         ],
         "xaxis": "x",
         "y": [
          -1.733639010021011,
          -1.622896655692922,
          -1.3799404358606904,
          -1.3341470176657562,
          -1.7327942179874174,
          -1.7167662866662863,
          -1.7228676762099298,
          -1.3199854389218233,
          -1.3219294284964007,
          -1.3216529294535029,
          -1.3186056869570895,
          -1.3216599279706256,
          -1.3210857727852052,
          -1.3179678883821626,
          -1.3205120972267483,
          -1.320460438021719,
          -0.6856812586369109,
          -0.5825767726338184,
          -0.5068409681956584,
          0.6785537396450102,
          0.5104846058439564,
          0.8497190426185987,
          0.4229920794551883,
          0.3101017393977056,
          0.6715623611531892,
          -1.7383911044051537,
          -1.7384922671036698,
          -1.7384703171773255,
          -1.704737127476923,
          -1.7049539062277823,
          -1.704956994022562,
          -1.7060313259664643,
          -1.7061868609818038,
          -1.7062585793843223,
          0.5607864763046082,
          0.14174367191247186,
          0.11743463991904148,
          -0.08767292113596915,
          0.6558845327926079,
          1.2268253589603544,
          1.6638236863195361,
          1.107801597761482,
          1.086459281136242,
          0.9473933273107144,
          1.101034706730656,
          -0.3212181075673749,
          -0.27521160656556237,
          0.22634661547483848,
          -0.2903827800664389,
          1.3588787499326327,
          0.1812401580676424,
          0.2757226743839642,
          0.3577186315999788,
          0.537436301415538,
          0.6491647993025806,
          0.7461275187756925,
          0.004105693129550591,
          0.09001193955099639,
          0.1645650619220963,
          0.3576837953033259,
          0.4607094015626871,
          0.5501190562034025,
          0.20072456726956694,
          0.43935022797146484,
          0.3196347851705609,
          -1.7686919373777092,
          -1.7701177450364556,
          -0.7025541468701292
         ],
         "yaxis": "y"
        }
       ],
       "layout": {
        "annotations": [
         {
          "text": "g",
          "x": 0.9122406020881461,
          "y": 0.3127318834225517
         },
         {
          "text": "g",
          "x": 0.811159483846036,
          "y": 0.35340026427536286
         },
         {
          "text": "g",
          "x": 2.4271639875354083,
          "y": 0.02204931992782916
         },
         {
          "text": "g",
          "x": 1.911690159651541,
          "y": -0.5826642256812362
         },
         {
          "text": "g",
          "x": 1.9116296001082487,
          "y": 0.22098315344198857
         },
         {
          "text": "g",
          "x": 1.6263174398122275,
          "y": 0.06814273260688393
         },
         {
          "text": "g",
          "x": 1.4005508079285955,
          "y": 0.13928933552485165
         },
         {
          "text": "g",
          "x": 1.500779303137862,
          "y": -0.19468481022353376
         },
         {
          "text": "g",
          "x": 1.2090365776592966,
          "y": -0.17860258821187217
         },
         {
          "text": "g",
          "x": 1.7396486971245662,
          "y": -0.157516062388037
         },
         {
          "text": "g",
          "x": 1.7490053083774706,
          "y": -0.4305582329836179
         },
         {
          "text": "g",
          "x": 1.5051474474600517,
          "y": -0.8449367643073977
         },
         {
          "text": "g",
          "x": 1.4855666591781513,
          "y": -0.6391846371116571
         },
         {
          "text": "g",
          "x": 1.9657604063398828,
          "y": -0.24444571262307635
         },
         {
          "text": "g",
          "x": 1.0926918153091318,
          "y": 0.302717130696897
         },
         {
          "text": "g",
          "x": 0.0965926600691389,
          "y": -0.5082872368228936
         },
         {
          "text": "g",
          "x": 2.618648671364274,
          "y": -0.70539215323775
         },
         {
          "text": "g",
          "x": 2.5589011429179647,
          "y": -0.7826333378105355
         },
         {
          "text": "g",
          "x": 0.9386050532012582,
          "y": -0.6220132797763768
         },
         {
          "text": "g",
          "x": 1.598086415741953,
          "y": -1.4174963082529215
         },
         {
          "text": "g",
          "x": 2.5697770545885605,
          "y": -1.279891652614394
         },
         {
          "text": "g",
          "x": 2.5697419518886897,
          "y": -1.2804831916830173
         },
         {
          "text": "g",
          "x": 2.569782064612276,
          "y": -1.2800138363737839
         },
         {
          "text": "g",
          "x": 4.412762437289379,
          "y": -1.8580477769763761
         },
         {
          "text": "g",
          "x": 4.4139447339691875,
          "y": -1.8579403421678753
         },
         {
          "text": "g",
          "x": 2.1831254244545333,
          "y": -2.730241229619016
         },
         {
          "text": "g",
          "x": 1.4793164989395502,
          "y": -0.07369187971854581
         },
         {
          "text": "g",
          "x": 1.48033843129923,
          "y": -0.07385585025482246
         },
         {
          "text": "g",
          "x": 1.4799972273943247,
          "y": -0.07415505163472848
         },
         {
          "text": "g",
          "x": 0.22151342446304034,
          "y": -0.595340022941812
         },
         {
          "text": "g",
          "x": 0.22205916112401358,
          "y": -0.5952080615277446
         },
         {
          "text": "g",
          "x": 0.22224653704942976,
          "y": -0.5949755679206271
         },
         {
          "text": "ml",
          "x": -2.013873261612737,
          "y": -1.733639010021011
         },
         {
          "text": "ml",
          "x": -1.8061944386620998,
          "y": -1.622896655692922
         },
         {
          "text": "g",
          "x": 3.003726169260182,
          "y": 3.1410882171194117
         },
         {
          "text": "g",
          "x": 3.513810427046802,
          "y": 2.846649568238317
         },
         {
          "text": "g",
          "x": 1.962785655190721,
          "y": -0.19319834400115812
         },
         {
          "text": "g",
          "x": 2.5152668535021783,
          "y": -0.40051591257191255
         },
         {
          "text": "g",
          "x": 2.6436224253335556,
          "y": -1.0502282414712947
         },
         {
          "text": "g",
          "x": 2.4896911545365374,
          "y": -0.783143343316123
         },
         {
          "text": "g",
          "x": 3.017293540307219,
          "y": -1.6452057754723501
         },
         {
          "text": "g",
          "x": 3.7699946092148364,
          "y": -1.333338209112625
         },
         {
          "text": "g",
          "x": 1.6182205278735144,
          "y": 2.4818772128213706
         },
         {
          "text": "g",
          "x": 0.705669623411826,
          "y": -0.5086186074329234
         },
         {
          "text": "ml",
          "x": -1.3895346314474046,
          "y": -1.3799404358606904
         },
         {
          "text": "ml",
          "x": -1.038727550392429,
          "y": -1.3341470176657562
         },
         {
          "text": "ml",
          "x": -1.98562131461894,
          "y": -1.7327942179874174
         },
         {
          "text": "ml",
          "x": -1.958644264683089,
          "y": -1.7167662866662863
         },
         {
          "text": "ml",
          "x": -1.9689502164339567,
          "y": -1.7228676762099298
         },
         {
          "text": "ml",
          "x": -0.9224557373887823,
          "y": -1.3199854389218233
         },
         {
          "text": "ml",
          "x": -0.9375107653363602,
          "y": -1.3219294284964007
         },
         {
          "text": "ml",
          "x": -0.9346484378556648,
          "y": -1.3216529294535029
         },
         {
          "text": "ml",
          "x": -0.9117019557267344,
          "y": -1.3186056869570895
         },
         {
          "text": "ml",
          "x": -0.9345867240211667,
          "y": -1.3216599279706256
         },
         {
          "text": "ml",
          "x": -0.9304251784352995,
          "y": -1.3210857727852052
         },
         {
          "text": "ml",
          "x": -0.9049512014202583,
          "y": -1.3179678883821626
         },
         {
          "text": "ml",
          "x": -0.9249996524955284,
          "y": -1.3205120972267483
         },
         {
          "text": "ml",
          "x": -0.9245824848397198,
          "y": -1.320460438021719
         },
         {
          "text": "ml",
          "x": -0.8919804375985309,
          "y": -0.6856812586369109
         },
         {
          "text": "ml",
          "x": -0.9119855019014388,
          "y": -0.5825767726338184
         },
         {
          "text": "ml",
          "x": -0.9063563195622723,
          "y": -0.5068409681956584
         },
         {
          "text": "ml",
          "x": -0.7255687414343552,
          "y": 0.6785537396450102
         },
         {
          "text": "ml",
          "x": -0.7591370696555544,
          "y": 0.5104846058439564
         },
         {
          "text": "ml",
          "x": -0.7549016271614599,
          "y": 0.8497190426185987
         },
         {
          "text": "ml",
          "x": -0.7772842760232723,
          "y": 0.4229920794551883
         },
         {
          "text": "ml",
          "x": -0.17750948399110322,
          "y": 0.3101017393977056
         },
         {
          "text": "ml",
          "x": -0.02778433128084411,
          "y": 0.6715623611531892
         },
         {
          "text": "ml",
          "x": -1.9882905733612721,
          "y": -1.7383911044051537
         },
         {
          "text": "ml",
          "x": -1.988401970330469,
          "y": -1.7384922671036698
         },
         {
          "text": "ml",
          "x": -1.9883084197831458,
          "y": -1.7384703171773255
         },
         {
          "text": "ml",
          "x": -1.9821589543275784,
          "y": -1.704737127476923
         },
         {
          "text": "ml",
          "x": -1.9819098308371412,
          "y": -1.7049539062277823
         },
         {
          "text": "ml",
          "x": -1.981847390506896,
          "y": -1.704956994022562
         },
         {
          "text": "ml",
          "x": -1.9759416822177356,
          "y": -1.7060313259664643
         },
         {
          "text": "ml",
          "x": -1.9758518954454134,
          "y": -1.7061868609818038
         },
         {
          "text": "ml",
          "x": -1.9755999726994782,
          "y": -1.7062585793843223
         },
         {
          "text": "ml",
          "x": -1.9352656812696056,
          "y": 0.5607864763046082
         },
         {
          "text": "ml",
          "x": -1.9555579912766838,
          "y": 0.14174367191247186
         },
         {
          "text": "ml",
          "x": -1.9498710059804882,
          "y": 0.11743463991904148
         },
         {
          "text": "ml",
          "x": -1.4301848445006236,
          "y": -0.08767292113596915
         },
         {
          "text": "ml",
          "x": -0.7594966074945319,
          "y": 0.6558845327926079
         },
         {
          "text": "ml",
          "x": -0.7455816930568938,
          "y": 1.2268253589603544
         },
         {
          "text": "ml",
          "x": -0.5946602610595842,
          "y": 1.6638236863195361
         },
         {
          "text": "ml",
          "x": -1.171867497225203,
          "y": 1.107801597761482
         },
         {
          "text": "ml",
          "x": -1.0684983674139212,
          "y": 1.086459281136242
         },
         {
          "text": "ml",
          "x": -1.4646335119244211,
          "y": 0.9473933273107144
         },
         {
          "text": "ml",
          "x": -1.5219973917742005,
          "y": 1.101034706730656
         },
         {
          "text": "ml",
          "x": -1.9487978323019746,
          "y": -0.3212181075673749
         },
         {
          "text": "ml",
          "x": -1.9669912256059694,
          "y": -0.27521160656556237
         },
         {
          "text": "ml",
          "x": -1.9851495312995575,
          "y": 0.22634661547483848
         },
         {
          "text": "ml",
          "x": -1.49414793687535,
          "y": -0.2903827800664389
         },
         {
          "text": "ml",
          "x": -0.7918836774160785,
          "y": 1.3588787499326327
         },
         {
          "text": "g",
          "x": -0.9910514559769994,
          "y": 0.7600697733334082
         },
         {
          "text": "g",
          "x": -0.17214716531386504,
          "y": 1.5679932113995931
         },
         {
          "text": "g",
          "x": -0.7319512206199394,
          "y": 1.572348023321594
         },
         {
          "text": "g",
          "x": -0.5453018710708518,
          "y": 1.9083905151405398
         },
         {
          "text": "g",
          "x": -1.2287796213728102,
          "y": 1.8236725597379864
         },
         {
          "text": "g",
          "x": -1.237209831977385,
          "y": 2.258787119223418
         },
         {
          "text": "g",
          "x": -0.23508851764798294,
          "y": 2.189498961870559
         },
         {
          "text": "g",
          "x": -0.09986381511663298,
          "y": 2.313458683081837
         },
         {
          "text": "g",
          "x": -0.3668047653174308,
          "y": 2.827502911066249
         },
         {
          "text": "g",
          "x": -0.14951724704458885,
          "y": 3.372470801188496
         },
         {
          "text": "g",
          "x": -0.8132064721397021,
          "y": 1.5564536676339928
         },
         {
          "text": "g",
          "x": -0.7422829224523437,
          "y": 1.707117599006769
         },
         {
          "text": "g",
          "x": 2.0162104501754694,
          "y": -0.6607002094758525
         },
         {
          "text": "g",
          "x": 1.9525640782387037,
          "y": -0.24524505610436015
         },
         {
          "text": "g",
          "x": 1.4848410232784255,
          "y": 0.5471266767305821
         },
         {
          "text": "g",
          "x": 1.6990429194007797,
          "y": 0.021160508867540666
         },
         {
          "text": "g",
          "x": 1.5137827630253284,
          "y": -0.8896873938263292
         },
         {
          "text": "g",
          "x": 2.6019662100142025,
          "y": -1.2289948866202682
         },
         {
          "text": "g",
          "x": 2.5221209656849264,
          "y": -0.40372208021527917
         },
         {
          "text": "g",
          "x": 0.9002526153442518,
          "y": -0.6058307329602174
         },
         {
          "text": "g",
          "x": 0.7945097481291987,
          "y": 0.3174713955526063
         },
         {
          "text": "g",
          "x": 2.254716422115694,
          "y": -0.5806203018444789
         },
         {
          "text": "g",
          "x": 2.255236761564016,
          "y": -0.5810599243037492
         },
         {
          "text": "ml",
          "x": -2.041858262750735,
          "y": 0.1812401580676424
         },
         {
          "text": "ml",
          "x": -2.0415225196610396,
          "y": 0.2757226743839642
         },
         {
          "text": "ml",
          "x": -2.0412305936002837,
          "y": 0.3577186315999788
         },
         {
          "text": "ml",
          "x": -2.036695366834835,
          "y": 0.537436301415538
         },
         {
          "text": "ml",
          "x": -2.0361095777087126,
          "y": 0.6491647993025806
         },
         {
          "text": "ml",
          "x": -2.0356006515563587,
          "y": 0.7461275187756925
         },
         {
          "text": "ml",
          "x": -2.0417352648337386,
          "y": 0.004105693129550591
         },
         {
          "text": "ml",
          "x": -2.0413934185311486,
          "y": 0.09001193955099639
         },
         {
          "text": "ml",
          "x": -2.041096195854712,
          "y": 0.1645650619220963
         },
         {
          "text": "ml",
          "x": -2.0439201285279824,
          "y": 0.3576837953033259
         },
         {
          "text": "ml",
          "x": -2.043683611063612,
          "y": 0.4607094015626871
         },
         {
          "text": "ml",
          "x": -2.0434787583153686,
          "y": 0.5501190562034025
         },
         {
          "text": "ml",
          "x": -1.8192335859850621,
          "y": 0.20072456726956694
         },
         {
          "text": "ml",
          "x": -1.8157746486713835,
          "y": 0.43935022797146484
         },
         {
          "text": "ml",
          "x": -1.8186340840864104,
          "y": 0.3196347851705609
         },
         {
          "text": "ml",
          "x": -2.04454830383228,
          "y": -1.7686919373777092
         },
         {
          "text": "ml",
          "x": -2.0485848560579814,
          "y": -1.7701177450364556
         },
         {
          "text": "g",
          "x": 0.9655930631628671,
          "y": 3.377518347758503
         },
         {
          "text": "g",
          "x": -0.0831196920154192,
          "y": 3.549182408817329
         },
         {
          "text": "g",
          "x": -1.480402521862191,
          "y": 1.5685201057784448
         },
         {
          "text": "g",
          "x": 4.737421854653019,
          "y": 3.144190553017621
         },
         {
          "text": "g",
          "x": 0.5217245542772159,
          "y": 6.424671849649325
         },
         {
          "text": "g",
          "x": -0.017843522693838057,
          "y": 6.867718631182539
         },
         {
          "text": "g",
          "x": 5.935646809056197,
          "y": -1.6686806817431508
         },
         {
          "text": "g",
          "x": -0.6494398142088034,
          "y": -0.5890067972452266
         },
         {
          "text": "ml",
          "x": -1.6576167750554416,
          "y": -0.7025541468701292
         }
        ],
        "height": 800,
        "legend": {
         "title": {
          "text": "gOrml"
         },
         "tracegroupgap": 0
        },
        "margin": {
         "t": 60
        },
        "template": {
         "data": {
          "bar": [
           {
            "error_x": {
             "color": "#2a3f5f"
            },
            "error_y": {
             "color": "#2a3f5f"
            },
            "marker": {
             "line": {
              "color": "#E5ECF6",
              "width": 0.5
             },
             "pattern": {
              "fillmode": "overlay",
              "size": 10,
              "solidity": 0.2
             }
            },
            "type": "bar"
           }
          ],
          "barpolar": [
           {
            "marker": {
             "line": {
              "color": "#E5ECF6",
              "width": 0.5
             },
             "pattern": {
              "fillmode": "overlay",
              "size": 10,
              "solidity": 0.2
             }
            },
            "type": "barpolar"
           }
          ],
          "carpet": [
           {
            "aaxis": {
             "endlinecolor": "#2a3f5f",
             "gridcolor": "white",
             "linecolor": "white",
             "minorgridcolor": "white",
             "startlinecolor": "#2a3f5f"
            },
            "baxis": {
             "endlinecolor": "#2a3f5f",
             "gridcolor": "white",
             "linecolor": "white",
             "minorgridcolor": "white",
             "startlinecolor": "#2a3f5f"
            },
            "type": "carpet"
           }
          ],
          "choropleth": [
           {
            "colorbar": {
             "outlinewidth": 0,
             "ticks": ""
            },
            "type": "choropleth"
           }
          ],
          "contour": [
           {
            "colorbar": {
             "outlinewidth": 0,
             "ticks": ""
            },
            "colorscale": [
             [
              0,
              "#0d0887"
             ],
             [
              0.1111111111111111,
              "#46039f"
             ],
             [
              0.2222222222222222,
              "#7201a8"
             ],
             [
              0.3333333333333333,
              "#9c179e"
             ],
             [
              0.4444444444444444,
              "#bd3786"
             ],
             [
              0.5555555555555556,
              "#d8576b"
             ],
             [
              0.6666666666666666,
              "#ed7953"
             ],
             [
              0.7777777777777778,
              "#fb9f3a"
             ],
             [
              0.8888888888888888,
              "#fdca26"
             ],
             [
              1,
              "#f0f921"
             ]
            ],
            "type": "contour"
           }
          ],
          "contourcarpet": [
           {
            "colorbar": {
             "outlinewidth": 0,
             "ticks": ""
            },
            "type": "contourcarpet"
           }
          ],
          "heatmap": [
           {
            "colorbar": {
             "outlinewidth": 0,
             "ticks": ""
            },
            "colorscale": [
             [
              0,
              "#0d0887"
             ],
             [
              0.1111111111111111,
              "#46039f"
             ],
             [
              0.2222222222222222,
              "#7201a8"
             ],
             [
              0.3333333333333333,
              "#9c179e"
             ],
             [
              0.4444444444444444,
              "#bd3786"
             ],
             [
              0.5555555555555556,
              "#d8576b"
             ],
             [
              0.6666666666666666,
              "#ed7953"
             ],
             [
              0.7777777777777778,
              "#fb9f3a"
             ],
             [
              0.8888888888888888,
              "#fdca26"
             ],
             [
              1,
              "#f0f921"
             ]
            ],
            "type": "heatmap"
           }
          ],
          "heatmapgl": [
           {
            "colorbar": {
             "outlinewidth": 0,
             "ticks": ""
            },
            "colorscale": [
             [
              0,
              "#0d0887"
             ],
             [
              0.1111111111111111,
              "#46039f"
             ],
             [
              0.2222222222222222,
              "#7201a8"
             ],
             [
              0.3333333333333333,
              "#9c179e"
             ],
             [
              0.4444444444444444,
              "#bd3786"
             ],
             [
              0.5555555555555556,
              "#d8576b"
             ],
             [
              0.6666666666666666,
              "#ed7953"
             ],
             [
              0.7777777777777778,
              "#fb9f3a"
             ],
             [
              0.8888888888888888,
              "#fdca26"
             ],
             [
              1,
              "#f0f921"
             ]
            ],
            "type": "heatmapgl"
           }
          ],
          "histogram": [
           {
            "marker": {
             "pattern": {
              "fillmode": "overlay",
              "size": 10,
              "solidity": 0.2
             }
            },
            "type": "histogram"
           }
          ],
          "histogram2d": [
           {
            "colorbar": {
             "outlinewidth": 0,
             "ticks": ""
            },
            "colorscale": [
             [
              0,
              "#0d0887"
             ],
             [
              0.1111111111111111,
              "#46039f"
             ],
             [
              0.2222222222222222,
              "#7201a8"
             ],
             [
              0.3333333333333333,
              "#9c179e"
             ],
             [
              0.4444444444444444,
              "#bd3786"
             ],
             [
              0.5555555555555556,
              "#d8576b"
             ],
             [
              0.6666666666666666,
              "#ed7953"
             ],
             [
              0.7777777777777778,
              "#fb9f3a"
             ],
             [
              0.8888888888888888,
              "#fdca26"
             ],
             [
              1,
              "#f0f921"
             ]
            ],
            "type": "histogram2d"
           }
          ],
          "histogram2dcontour": [
           {
            "colorbar": {
             "outlinewidth": 0,
             "ticks": ""
            },
            "colorscale": [
             [
              0,
              "#0d0887"
             ],
             [
              0.1111111111111111,
              "#46039f"
             ],
             [
              0.2222222222222222,
              "#7201a8"
             ],
             [
              0.3333333333333333,
              "#9c179e"
             ],
             [
              0.4444444444444444,
              "#bd3786"
             ],
             [
              0.5555555555555556,
              "#d8576b"
             ],
             [
              0.6666666666666666,
              "#ed7953"
             ],
             [
              0.7777777777777778,
              "#fb9f3a"
             ],
             [
              0.8888888888888888,
              "#fdca26"
             ],
             [
              1,
              "#f0f921"
             ]
            ],
            "type": "histogram2dcontour"
           }
          ],
          "mesh3d": [
           {
            "colorbar": {
             "outlinewidth": 0,
             "ticks": ""
            },
            "type": "mesh3d"
           }
          ],
          "parcoords": [
           {
            "line": {
             "colorbar": {
              "outlinewidth": 0,
              "ticks": ""
             }
            },
            "type": "parcoords"
           }
          ],
          "pie": [
           {
            "automargin": true,
            "type": "pie"
           }
          ],
          "scatter": [
           {
            "fillpattern": {
             "fillmode": "overlay",
             "size": 10,
             "solidity": 0.2
            },
            "type": "scatter"
           }
          ],
          "scatter3d": [
           {
            "line": {
             "colorbar": {
              "outlinewidth": 0,
              "ticks": ""
             }
            },
            "marker": {
             "colorbar": {
              "outlinewidth": 0,
              "ticks": ""
             }
            },
            "type": "scatter3d"
           }
          ],
          "scattercarpet": [
           {
            "marker": {
             "colorbar": {
              "outlinewidth": 0,
              "ticks": ""
             }
            },
            "type": "scattercarpet"
           }
          ],
          "scattergeo": [
           {
            "marker": {
             "colorbar": {
              "outlinewidth": 0,
              "ticks": ""
             }
            },
            "type": "scattergeo"
           }
          ],
          "scattergl": [
           {
            "marker": {
             "colorbar": {
              "outlinewidth": 0,
              "ticks": ""
             }
            },
            "type": "scattergl"
           }
          ],
          "scattermapbox": [
           {
            "marker": {
             "colorbar": {
              "outlinewidth": 0,
              "ticks": ""
             }
            },
            "type": "scattermapbox"
           }
          ],
          "scatterpolar": [
           {
            "marker": {
             "colorbar": {
              "outlinewidth": 0,
              "ticks": ""
             }
            },
            "type": "scatterpolar"
           }
          ],
          "scatterpolargl": [
           {
            "marker": {
             "colorbar": {
              "outlinewidth": 0,
              "ticks": ""
             }
            },
            "type": "scatterpolargl"
           }
          ],
          "scatterternary": [
           {
            "marker": {
             "colorbar": {
              "outlinewidth": 0,
              "ticks": ""
             }
            },
            "type": "scatterternary"
           }
          ],
          "surface": [
           {
            "colorbar": {
             "outlinewidth": 0,
             "ticks": ""
            },
            "colorscale": [
             [
              0,
              "#0d0887"
             ],
             [
              0.1111111111111111,
              "#46039f"
             ],
             [
              0.2222222222222222,
              "#7201a8"
             ],
             [
              0.3333333333333333,
              "#9c179e"
             ],
             [
              0.4444444444444444,
              "#bd3786"
             ],
             [
              0.5555555555555556,
              "#d8576b"
             ],
             [
              0.6666666666666666,
              "#ed7953"
             ],
             [
              0.7777777777777778,
              "#fb9f3a"
             ],
             [
              0.8888888888888888,
              "#fdca26"
             ],
             [
              1,
              "#f0f921"
             ]
            ],
            "type": "surface"
           }
          ],
          "table": [
           {
            "cells": {
             "fill": {
              "color": "#EBF0F8"
             },
             "line": {
              "color": "white"
             }
            },
            "header": {
             "fill": {
              "color": "#C8D4E3"
             },
             "line": {
              "color": "white"
             }
            },
            "type": "table"
           }
          ]
         },
         "layout": {
          "annotationdefaults": {
           "arrowcolor": "#2a3f5f",
           "arrowhead": 0,
           "arrowwidth": 1
          },
          "autotypenumbers": "strict",
          "coloraxis": {
           "colorbar": {
            "outlinewidth": 0,
            "ticks": ""
           }
          },
          "colorscale": {
           "diverging": [
            [
             0,
             "#8e0152"
            ],
            [
             0.1,
             "#c51b7d"
            ],
            [
             0.2,
             "#de77ae"
            ],
            [
             0.3,
             "#f1b6da"
            ],
            [
             0.4,
             "#fde0ef"
            ],
            [
             0.5,
             "#f7f7f7"
            ],
            [
             0.6,
             "#e6f5d0"
            ],
            [
             0.7,
             "#b8e186"
            ],
            [
             0.8,
             "#7fbc41"
            ],
            [
             0.9,
             "#4d9221"
            ],
            [
             1,
             "#276419"
            ]
           ],
           "sequential": [
            [
             0,
             "#0d0887"
            ],
            [
             0.1111111111111111,
             "#46039f"
            ],
            [
             0.2222222222222222,
             "#7201a8"
            ],
            [
             0.3333333333333333,
             "#9c179e"
            ],
            [
             0.4444444444444444,
             "#bd3786"
            ],
            [
             0.5555555555555556,
             "#d8576b"
            ],
            [
             0.6666666666666666,
             "#ed7953"
            ],
            [
             0.7777777777777778,
             "#fb9f3a"
            ],
            [
             0.8888888888888888,
             "#fdca26"
            ],
            [
             1,
             "#f0f921"
            ]
           ],
           "sequentialminus": [
            [
             0,
             "#0d0887"
            ],
            [
             0.1111111111111111,
             "#46039f"
            ],
            [
             0.2222222222222222,
             "#7201a8"
            ],
            [
             0.3333333333333333,
             "#9c179e"
            ],
            [
             0.4444444444444444,
             "#bd3786"
            ],
            [
             0.5555555555555556,
             "#d8576b"
            ],
            [
             0.6666666666666666,
             "#ed7953"
            ],
            [
             0.7777777777777778,
             "#fb9f3a"
            ],
            [
             0.8888888888888888,
             "#fdca26"
            ],
            [
             1,
             "#f0f921"
            ]
           ]
          },
          "colorway": [
           "#636efa",
           "#EF553B",
           "#00cc96",
           "#ab63fa",
           "#FFA15A",
           "#19d3f3",
           "#FF6692",
           "#B6E880",
           "#FF97FF",
           "#FECB52"
          ],
          "font": {
           "color": "#2a3f5f"
          },
          "geo": {
           "bgcolor": "white",
           "lakecolor": "white",
           "landcolor": "#E5ECF6",
           "showlakes": true,
           "showland": true,
           "subunitcolor": "white"
          },
          "hoverlabel": {
           "align": "left"
          },
          "hovermode": "closest",
          "mapbox": {
           "style": "light"
          },
          "paper_bgcolor": "white",
          "plot_bgcolor": "#E5ECF6",
          "polar": {
           "angularaxis": {
            "gridcolor": "white",
            "linecolor": "white",
            "ticks": ""
           },
           "bgcolor": "#E5ECF6",
           "radialaxis": {
            "gridcolor": "white",
            "linecolor": "white",
            "ticks": ""
           }
          },
          "scene": {
           "xaxis": {
            "backgroundcolor": "#E5ECF6",
            "gridcolor": "white",
            "gridwidth": 2,
            "linecolor": "white",
            "showbackground": true,
            "ticks": "",
            "zerolinecolor": "white"
           },
           "yaxis": {
            "backgroundcolor": "#E5ECF6",
            "gridcolor": "white",
            "gridwidth": 2,
            "linecolor": "white",
            "showbackground": true,
            "ticks": "",
            "zerolinecolor": "white"
           },
           "zaxis": {
            "backgroundcolor": "#E5ECF6",
            "gridcolor": "white",
            "gridwidth": 2,
            "linecolor": "white",
            "showbackground": true,
            "ticks": "",
            "zerolinecolor": "white"
           }
          },
          "shapedefaults": {
           "line": {
            "color": "#2a3f5f"
           }
          },
          "ternary": {
           "aaxis": {
            "gridcolor": "white",
            "linecolor": "white",
            "ticks": ""
           },
           "baxis": {
            "gridcolor": "white",
            "linecolor": "white",
            "ticks": ""
           },
           "bgcolor": "#E5ECF6",
           "caxis": {
            "gridcolor": "white",
            "linecolor": "white",
            "ticks": ""
           }
          },
          "title": {
           "x": 0.05
          },
          "xaxis": {
           "automargin": true,
           "gridcolor": "white",
           "linecolor": "white",
           "ticks": "",
           "title": {
            "standoff": 15
           },
           "zerolinecolor": "white",
           "zerolinewidth": 2
          },
          "yaxis": {
           "automargin": true,
           "gridcolor": "white",
           "linecolor": "white",
           "ticks": "",
           "title": {
            "standoff": 15
           },
           "zerolinecolor": "white",
           "zerolinewidth": 2
          }
         }
        },
        "width": 1600,
        "xaxis": {
         "anchor": "y",
         "domain": [
          0,
          1
         ],
         "title": {
          "text": "x"
         }
        },
        "yaxis": {
         "anchor": "x",
         "domain": [
          0,
          1
         ],
         "title": {
          "text": "y"
         }
        }
       }
      }
     },
     "metadata": {},
     "output_type": "display_data"
    }
   ],
   "source": [
    "import plotly.express as px\n",
    "colors = {'g':'red', 'ml':'blue'}\n",
    "fig = px.scatter(df, x=X_train_pca[:,0], y=X_train_pca[:,1], color='gOrml', color_discrete_map=colors)\n",
    "fig.update_layout(width=1600, height=800)\n",
    "for i in range(141):\n",
    "    txt=MenuCat[i,2]\n",
    "    fig.add_annotation(x=X_train_pca[i,0], y=X_train_pca[i,1], text=txt)\n",
    "fig.show()"
   ]
  },
  {
   "attachments": {},
   "cell_type": "markdown",
   "metadata": {},
   "source": [
    "Not really happy with the colors of the Menu Category. Can someone help in brightening the colors so that they are more visible"
   ]
  },
  {
   "cell_type": "code",
   "execution_count": 131,
   "metadata": {},
   "outputs": [
    {
     "data": {
      "application/vnd.plotly.v1+json": {
       "config": {
        "plotlyServerURL": "https://plot.ly"
       },
       "data": [
        {
         "hovertemplate": "Menu Category=Regular Menu<br>x=%{x}<br>y=%{y}<extra></extra>",
         "legendgroup": "Regular Menu",
         "marker": {
          "color": "#F0F8FF",
          "symbol": "circle"
         },
         "mode": "markers",
         "name": "Regular Menu",
         "orientation": "v",
         "showlegend": true,
         "type": "scatter",
         "x": [
          0.9122406020881461,
          0.811159483846036,
          2.4271639875354083,
          1.911690159651541,
          1.9116296001082487,
          1.6263174398122275,
          1.4005508079285955,
          1.500779303137862,
          1.2090365776592966,
          1.7396486971245662,
          1.7490053083774706,
          1.5051474474600517,
          1.4855666591781513,
          1.9657604063398828,
          1.0926918153091318,
          0.0965926600691389,
          2.618648671364274,
          2.5589011429179647,
          0.9386050532012582,
          1.598086415741953,
          2.5697770545885605,
          2.5697419518886897,
          2.569782064612276,
          4.412762437289379,
          4.4139447339691875,
          2.1831254244545333,
          1.4793164989395502,
          1.48033843129923,
          1.4799972273943247,
          0.22151342446304034,
          0.22205916112401358,
          0.22224653704942976,
          -2.013873261612737,
          -1.8061944386620998,
          3.003726169260182,
          3.513810427046802
         ],
         "xaxis": "x",
         "y": [
          0.3127318834225517,
          0.35340026427536286,
          0.02204931992782916,
          -0.5826642256812362,
          0.22098315344198857,
          0.06814273260688393,
          0.13928933552485165,
          -0.19468481022353376,
          -0.17860258821187217,
          -0.157516062388037,
          -0.4305582329836179,
          -0.8449367643073977,
          -0.6391846371116571,
          -0.24444571262307635,
          0.302717130696897,
          -0.5082872368228936,
          -0.70539215323775,
          -0.7826333378105355,
          -0.6220132797763768,
          -1.4174963082529215,
          -1.279891652614394,
          -1.2804831916830173,
          -1.2800138363737839,
          -1.8580477769763761,
          -1.8579403421678753,
          -2.730241229619016,
          -0.07369187971854581,
          -0.07385585025482246,
          -0.07415505163472848,
          -0.595340022941812,
          -0.5952080615277446,
          -0.5949755679206271,
          -1.733639010021011,
          -1.622896655692922,
          3.1410882171194117,
          2.846649568238317
         ],
         "yaxis": "y"
        },
        {
         "hovertemplate": "Menu Category=Breakfast Menu<br>x=%{x}<br>y=%{y}<extra></extra>",
         "legendgroup": "Breakfast Menu",
         "marker": {
          "color": "#FAEBD7",
          "symbol": "circle"
         },
         "mode": "markers",
         "name": "Breakfast Menu",
         "orientation": "v",
         "showlegend": true,
         "type": "scatter",
         "x": [
          1.962785655190721,
          2.5152668535021783,
          2.6436224253335556,
          2.4896911545365374,
          3.017293540307219,
          3.7699946092148364,
          1.6182205278735144,
          0.705669623411826,
          -1.3895346314474046,
          -1.038727550392429,
          -1.98562131461894,
          -1.958644264683089,
          -1.9689502164339567,
          -0.9224557373887823,
          -0.9375107653363602
         ],
         "xaxis": "x",
         "y": [
          -0.19319834400115812,
          -0.40051591257191255,
          -1.0502282414712947,
          -0.783143343316123,
          -1.6452057754723501,
          -1.333338209112625,
          2.4818772128213706,
          -0.5086186074329234,
          -1.3799404358606904,
          -1.3341470176657562,
          -1.7327942179874174,
          -1.7167662866662863,
          -1.7228676762099298,
          -1.3199854389218233,
          -1.3219294284964007
         ],
         "yaxis": "y"
        },
        {
         "hovertemplate": "Menu Category=McCafe Menu<br>x=%{x}<br>y=%{y}<extra></extra>",
         "legendgroup": "McCafe Menu",
         "marker": {
          "color": "#00FFFF",
          "symbol": "circle"
         },
         "mode": "markers",
         "name": "McCafe Menu",
         "orientation": "v",
         "showlegend": true,
         "type": "scatter",
         "x": [
          -0.9346484378556648,
          -0.9117019557267344,
          -0.9345867240211667,
          -0.9304251784352995,
          -0.9049512014202583,
          -0.9249996524955284,
          -0.9245824848397198,
          -0.8919804375985309,
          -0.9119855019014388,
          -0.9063563195622723,
          -0.7255687414343552,
          -0.7591370696555544,
          -0.7549016271614599,
          -0.7772842760232723,
          -0.17750948399110322,
          -0.02778433128084411,
          -1.9882905733612721,
          -1.988401970330469,
          -1.9883084197831458,
          -1.9821589543275784,
          -1.9819098308371412,
          -1.981847390506896,
          -1.9759416822177356,
          -1.9758518954454134,
          -1.9755999726994782,
          -1.9352656812696056,
          -1.9555579912766838,
          -1.9498710059804882,
          -1.4301848445006236,
          -0.7594966074945319,
          -0.7455816930568938,
          -0.5946602610595842,
          -1.171867497225203,
          -1.0684983674139212,
          -1.4646335119244211,
          -1.5219973917742005,
          -1.9487978323019746,
          -1.9669912256059694,
          -1.9851495312995575,
          -1.49414793687535,
          -0.7918836774160785,
          -0.9910514559769994,
          -0.17214716531386504,
          -0.7319512206199394,
          -0.5453018710708518,
          -1.2287796213728102,
          -1.237209831977385,
          -0.23508851764798294,
          -0.09986381511663298,
          -0.3668047653174308,
          -0.14951724704458885
         ],
         "xaxis": "x",
         "y": [
          -1.3216529294535029,
          -1.3186056869570895,
          -1.3216599279706256,
          -1.3210857727852052,
          -1.3179678883821626,
          -1.3205120972267483,
          -1.320460438021719,
          -0.6856812586369109,
          -0.5825767726338184,
          -0.5068409681956584,
          0.6785537396450102,
          0.5104846058439564,
          0.8497190426185987,
          0.4229920794551883,
          0.3101017393977056,
          0.6715623611531892,
          -1.7383911044051537,
          -1.7384922671036698,
          -1.7384703171773255,
          -1.704737127476923,
          -1.7049539062277823,
          -1.704956994022562,
          -1.7060313259664643,
          -1.7061868609818038,
          -1.7062585793843223,
          0.5607864763046082,
          0.14174367191247186,
          0.11743463991904148,
          -0.08767292113596915,
          0.6558845327926079,
          1.2268253589603544,
          1.6638236863195361,
          1.107801597761482,
          1.086459281136242,
          0.9473933273107144,
          1.101034706730656,
          -0.3212181075673749,
          -0.27521160656556237,
          0.22634661547483848,
          -0.2903827800664389,
          1.3588787499326327,
          0.7600697733334082,
          1.5679932113995931,
          1.572348023321594,
          1.9083905151405398,
          1.8236725597379864,
          2.258787119223418,
          2.189498961870559,
          2.313458683081837,
          2.827502911066249,
          3.372470801188496
         ],
         "yaxis": "y"
        },
        {
         "hovertemplate": "Menu Category=Desserts Menu<br>x=%{x}<br>y=%{y}<extra></extra>",
         "legendgroup": "Desserts Menu",
         "marker": {
          "color": "#7FFFD4",
          "symbol": "circle"
         },
         "mode": "markers",
         "name": "Desserts Menu",
         "orientation": "v",
         "showlegend": true,
         "type": "scatter",
         "x": [
          -0.8132064721397021,
          -0.7422829224523437
         ],
         "xaxis": "x",
         "y": [
          1.5564536676339928,
          1.707117599006769
         ],
         "yaxis": "y"
        },
        {
         "hovertemplate": "Menu Category=Gourmet Menu<br>x=%{x}<br>y=%{y}<extra></extra>",
         "legendgroup": "Gourmet Menu",
         "marker": {
          "color": "#F0FFFF",
          "symbol": "circle"
         },
         "mode": "markers",
         "name": "Gourmet Menu",
         "orientation": "v",
         "showlegend": true,
         "type": "scatter",
         "x": [
          2.0162104501754694,
          1.9525640782387037,
          1.4848410232784255,
          1.6990429194007797,
          1.5137827630253284,
          2.6019662100142025,
          2.5221209656849264,
          0.9002526153442518,
          0.7945097481291987,
          2.254716422115694,
          2.255236761564016
         ],
         "xaxis": "x",
         "y": [
          -0.6607002094758525,
          -0.24524505610436015,
          0.5471266767305821,
          0.021160508867540666,
          -0.8896873938263292,
          -1.2289948866202682,
          -0.40372208021527917,
          -0.6058307329602174,
          0.3174713955526063,
          -0.5806203018444789,
          -0.5810599243037492
         ],
         "yaxis": "y"
        },
        {
         "hovertemplate": "Menu Category=Beverages Menu<br>x=%{x}<br>y=%{y}<extra></extra>",
         "legendgroup": "Beverages Menu",
         "marker": {
          "color": "#F5F5DC",
          "symbol": "circle"
         },
         "mode": "markers",
         "name": "Beverages Menu",
         "orientation": "v",
         "showlegend": true,
         "type": "scatter",
         "x": [
          -2.041858262750735,
          -2.0415225196610396,
          -2.0412305936002837,
          -2.036695366834835,
          -2.0361095777087126,
          -2.0356006515563587,
          -2.0417352648337386,
          -2.0413934185311486,
          -2.041096195854712,
          -2.0439201285279824,
          -2.043683611063612,
          -2.0434787583153686,
          -1.8192335859850621,
          -1.8157746486713835,
          -1.8186340840864104,
          -2.04454830383228,
          -2.0485848560579814
         ],
         "xaxis": "x",
         "y": [
          0.1812401580676424,
          0.2757226743839642,
          0.3577186315999788,
          0.537436301415538,
          0.6491647993025806,
          0.7461275187756925,
          0.004105693129550591,
          0.09001193955099639,
          0.1645650619220963,
          0.3576837953033259,
          0.4607094015626871,
          0.5501190562034025,
          0.20072456726956694,
          0.43935022797146484,
          0.3196347851705609,
          -1.7686919373777092,
          -1.7701177450364556
         ],
         "yaxis": "y"
        },
        {
         "hovertemplate": "Menu Category=Condiments Menu<br>x=%{x}<br>y=%{y}<extra></extra>",
         "legendgroup": "Condiments Menu",
         "marker": {
          "color": "#FFE4C4",
          "symbol": "circle"
         },
         "mode": "markers",
         "name": "Condiments Menu",
         "orientation": "v",
         "showlegend": true,
         "type": "scatter",
         "x": [
          0.9655930631628671,
          -0.0831196920154192,
          -1.480402521862191,
          4.737421854653019,
          0.5217245542772159,
          -0.017843522693838057,
          5.935646809056197,
          -0.6494398142088034,
          -1.6576167750554416
         ],
         "xaxis": "x",
         "y": [
          3.377518347758503,
          3.549182408817329,
          1.5685201057784448,
          3.144190553017621,
          6.424671849649325,
          6.867718631182539,
          -1.6686806817431508,
          -0.5890067972452266,
          -0.7025541468701292
         ],
         "yaxis": "y"
        }
       ],
       "layout": {
        "annotations": [
         {
          "text": "McVeggie™ Burger",
          "x": 0.9122406020881461,
          "y": 0.3127318834225517
         },
         {
          "text": "McAloo Tikki Burger®",
          "x": 0.811159483846036,
          "y": 0.35340026427536286
         },
         {
          "text": "McSpicy™ Paneer Burger",
          "x": 2.4271639875354083,
          "y": 0.02204931992782916
         },
         {
          "text": "Spicy Paneer Wrap",
          "x": 1.911690159651541,
          "y": -0.5826642256812362
         },
         {
          "text": "American Veg Burger",
          "x": 1.9116296001082487,
          "y": 0.22098315344198857
         },
         {
          "text": "Veg Maharaja Mac",
          "x": 1.6263174398122275,
          "y": 0.06814273260688393
         },
         {
          "text": "Green Chilli Aloo Naan",
          "x": 1.4005508079285955,
          "y": 0.13928933552485165
         },
         {
          "text": "Pizza Puff",
          "x": 1.500779303137862,
          "y": -0.19468481022353376
         },
         {
          "text": "Mc chicken Burger",
          "x": 1.2090365776592966,
          "y": -0.17860258821187217
         },
         {
          "text": "FILLET-O-FISH Burger",
          "x": 1.7396486971245662,
          "y": -0.157516062388037
         },
         {
          "text": "Mc Spicy Chicken Burger",
          "x": 1.7490053083774706,
          "y": -0.4305582329836179
         },
         {
          "text": "Spicy Chicken Wrap",
          "x": 1.5051474474600517,
          "y": -0.8449367643073977
         },
         {
          "text": "Chicken Maharaja Mac",
          "x": 1.4855666591781513,
          "y": -0.6391846371116571
         },
         {
          "text": "American Chicken Burger",
          "x": 1.9657604063398828,
          "y": -0.24444571262307635
         },
         {
          "text": "Chicken Kebab Burger",
          "x": 1.0926918153091318,
          "y": 0.302717130696897
         },
         {
          "text": "Green Chilli Kebab naan",
          "x": 0.0965926600691389,
          "y": -0.5082872368228936
         },
         {
          "text": "Mc Egg Masala Burger",
          "x": 2.618648671364274,
          "y": -0.70539215323775
         },
         {
          "text": "Mc Egg Burger for Happy Meal",
          "x": 2.5589011429179647,
          "y": -0.7826333378105355
         },
         {
          "text": "Ghee Rice with Mc Spicy Fried Chicken 1 pc",
          "x": 0.9386050532012582,
          "y": -0.6220132797763768
         },
         {
          "text": "McSpicy Fried Chicken 1 pc",
          "x": 1.598086415741953,
          "y": -1.4174963082529215
         },
         {
          "text": "4 piece Chicken McNuggets",
          "x": 2.5697770545885605,
          "y": -1.279891652614394
         },
         {
          "text": "6 piece Chicken McNuggets",
          "x": 2.5697419518886897,
          "y": -1.2804831916830173
         },
         {
          "text": "9 piece Chicken McNuggets",
          "x": 2.569782064612276,
          "y": -1.2800138363737839
         },
         {
          "text": "2 piece Chicken Strips",
          "x": 4.412762437289379,
          "y": -1.8580477769763761
         },
         {
          "text": "3 piece Chicken Strips",
          "x": 4.4139447339691875,
          "y": -1.8579403421678753
         },
         {
          "text": "5 piece Chicken Strips",
          "x": 2.1831254244545333,
          "y": -2.730241229619016
         },
         {
          "text": "Regular Fries",
          "x": 1.4793164989395502,
          "y": -0.07369187971854581
         },
         {
          "text": "Medium Fries",
          "x": 1.48033843129923,
          "y": -0.07385585025482246
         },
         {
          "text": "Large Fries",
          "x": 1.4799972273943247,
          "y": -0.07415505163472848
         },
         {
          "text": "Regular Wedges",
          "x": 0.22151342446304034,
          "y": -0.595340022941812
         },
         {
          "text": "Medium Wedges",
          "x": 0.22205916112401358,
          "y": -0.5952080615277446
         },
         {
          "text": "Large Wedges",
          "x": 0.22224653704942976,
          "y": -0.5949755679206271
         },
         {
          "text": "L1 Coffee",
          "x": -2.013873261612737,
          "y": -1.733639010021011
         },
         {
          "text": "L1 Coffee with milk",
          "x": -1.8061944386620998,
          "y": -1.622896655692922
         },
         {
          "text": "Double Chocochips Muffin",
          "x": 3.003726169260182,
          "y": 3.1410882171194117
         },
         {
          "text": "Vanilla Chocochips Muffin",
          "x": 3.513810427046802,
          "y": 2.846649568238317
         },
         {
          "text": "Veg McMuffin",
          "x": 1.962785655190721,
          "y": -0.19319834400115812
         },
         {
          "text": "Double Cheese McMuffin",
          "x": 2.5152668535021783,
          "y": -0.40051591257191255
         },
         {
          "text": "Spicy Egg McMuffin",
          "x": 2.6436224253335556,
          "y": -1.0502282414712947
         },
         {
          "text": "Sausage Mc Muffin",
          "x": 2.4896911545365374,
          "y": -0.783143343316123
         },
         {
          "text": "Sausage Mc Muffin with egg",
          "x": 3.017293540307219,
          "y": -1.6452057754723501
         },
         {
          "text": "Egg McMuffin",
          "x": 3.7699946092148364,
          "y": -1.333338209112625
         },
         {
          "text": "Hot Cake with maple syrup",
          "x": 1.6182205278735144,
          "y": 2.4818772128213706
         },
         {
          "text": "Hash Brown",
          "x": 0.705669623411826,
          "y": -0.5086186074329234
         },
         {
          "text": "Espresso",
          "x": -1.3895346314474046,
          "y": -1.3799404358606904
         },
         {
          "text": "Espresso Machiato",
          "x": -1.038727550392429,
          "y": -1.3341470176657562
         },
         {
          "text": "Americano (S)",
          "x": -1.98562131461894,
          "y": -1.7327942179874174
         },
         {
          "text": "Americano (R)",
          "x": -1.958644264683089,
          "y": -1.7167662866662863
         },
         {
          "text": "Americano (L)",
          "x": -1.9689502164339567,
          "y": -1.7228676762099298
         },
         {
          "text": "Cappuccino (S)",
          "x": -0.9224557373887823,
          "y": -1.3199854389218233
         },
         {
          "text": "Cappuccino (R)",
          "x": -0.9375107653363602,
          "y": -1.3219294284964007
         },
         {
          "text": "Cappuccino (L)",
          "x": -0.9346484378556648,
          "y": -1.3216529294535029
         },
         {
          "text": "Latte (S)",
          "x": -0.9117019557267344,
          "y": -1.3186056869570895
         },
         {
          "text": "Latte (R)",
          "x": -0.9345867240211667,
          "y": -1.3216599279706256
         },
         {
          "text": "Latte (L)",
          "x": -0.9304251784352995,
          "y": -1.3210857727852052
         },
         {
          "text": "Flat White (S)",
          "x": -0.9049512014202583,
          "y": -1.3179678883821626
         },
         {
          "text": "Flat White (R)",
          "x": -0.9249996524955284,
          "y": -1.3205120972267483
         },
         {
          "text": "Flat White (L)",
          "x": -0.9245824848397198,
          "y": -1.320460438021719
         },
         {
          "text": "Mocha (S)",
          "x": -0.8919804375985309,
          "y": -0.6856812586369109
         },
         {
          "text": "Mocha (R)",
          "x": -0.9119855019014388,
          "y": -0.5825767726338184
         },
         {
          "text": "Mocha (L)",
          "x": -0.9063563195622723,
          "y": -0.5068409681956584
         },
         {
          "text": "Babycino",
          "x": -0.7255687414343552,
          "y": 0.6785537396450102
         },
         {
          "text": "Hot Chocolate (S)",
          "x": -0.7591370696555544,
          "y": 0.5104846058439564
         },
         {
          "text": "Hot Chocolate (R)",
          "x": -0.7549016271614599,
          "y": 0.8497190426185987
         },
         {
          "text": "Hot Chocolate (L)",
          "x": -0.7772842760232723,
          "y": 0.4229920794551883
         },
         {
          "text": "Premium Dark Hot Chocolate",
          "x": -0.17750948399110322,
          "y": 0.3101017393977056
         },
         {
          "text": "Double Dark Hot Chocolate",
          "x": -0.02778433128084411,
          "y": 0.6715623611531892
         },
         {
          "text": "English Breakfast (S)",
          "x": -1.9882905733612721,
          "y": -1.7383911044051537
         },
         {
          "text": "English Breakfast (R)",
          "x": -1.988401970330469,
          "y": -1.7384922671036698
         },
         {
          "text": "English Breakfast (L)",
          "x": -1.9883084197831458,
          "y": -1.7384703171773255
         },
         {
          "text": "Moroccon Mint Green Tea (S)",
          "x": -1.9821589543275784,
          "y": -1.704737127476923
         },
         {
          "text": "Moroccon Mint Green Tea (R)",
          "x": -1.9819098308371412,
          "y": -1.7049539062277823
         },
         {
          "text": "Moroccon Mint Green Tea (L)",
          "x": -1.981847390506896,
          "y": -1.704956994022562
         },
         {
          "text": "Strawberry Green Tea (S)",
          "x": -1.9759416822177356,
          "y": -1.7060313259664643
         },
         {
          "text": "Strawberry Green Tea (R)",
          "x": -1.9758518954454134,
          "y": -1.7061868609818038
         },
         {
          "text": "Strawberry Green Tea (L)",
          "x": -1.9755999726994782,
          "y": -1.7062585793843223
         },
         {
          "text": "Lemon Ice Tea",
          "x": -1.9352656812696056,
          "y": 0.5607864763046082
         },
         {
          "text": "Strawberry Ice Tea",
          "x": -1.9555579912766838,
          "y": 0.14174367191247186
         },
         {
          "text": "Green Apple Ice Tea",
          "x": -1.9498710059804882,
          "y": 0.11743463991904148
         },
         {
          "text": "Iced Coffee",
          "x": -1.4301848445006236,
          "y": -0.08767292113596915
         },
         {
          "text": "Cold Coffee Frappe",
          "x": -0.7594966074945319,
          "y": 0.6558845327926079
         },
         {
          "text": "Mocha Frappe",
          "x": -0.7455816930568938,
          "y": 1.2268253589603544
         },
         {
          "text": "Chocolate Oreo Frappe",
          "x": -0.5946602610595842,
          "y": 1.6638236863195361
         },
         {
          "text": "Strawberry Shake",
          "x": -1.171867497225203,
          "y": 1.107801597761482
         },
         {
          "text": "Chocolate Shake",
          "x": -1.0684983674139212,
          "y": 1.086459281136242
         },
         {
          "text": "Mango Smoothie",
          "x": -1.4646335119244211,
          "y": 0.9473933273107144
         },
         {
          "text": "Mixed Berry Smoothie",
          "x": -1.5219973917742005,
          "y": 1.101034706730656
         },
         {
          "text": "Raw Mango Cooler",
          "x": -1.9487978323019746,
          "y": -0.3212181075673749
         },
         {
          "text": "Mix Berry Cooler",
          "x": -1.9669912256059694,
          "y": -0.27521160656556237
         },
         {
          "text": "Sweet Lime Beverage",
          "x": -1.9851495312995575,
          "y": 0.22634661547483848
         },
         {
          "text": "Iced Americano",
          "x": -1.49414793687535,
          "y": -0.2903827800664389
         },
         {
          "text": "American Mud Pie Shake",
          "x": -0.7918836774160785,
          "y": 1.3588787499326327
         },
         {
          "text": "Soft serve cone",
          "x": -0.9910514559769994,
          "y": 0.7600697733334082
         },
         {
          "text": "McSwirl ChocoDip",
          "x": -0.17214716531386504,
          "y": 1.5679932113995931
         },
         {
          "text": "Regular Soft Serve: Hot Fudge",
          "x": -0.7319512206199394,
          "y": 1.572348023321594
         },
         {
          "text": "Medium Soft Serve: Hot Fudge",
          "x": -0.5453018710708518,
          "y": 1.9083905151405398
         },
         {
          "text": "Regular Soft Serve: Strawberry",
          "x": -1.2287796213728102,
          "y": 1.8236725597379864
         },
         {
          "text": "Medium Soft Serve: Strawberry",
          "x": -1.237209831977385,
          "y": 2.258787119223418
         },
         {
          "text": "Regular Soft Serve: Brownie with Hot Fudge",
          "x": -0.23508851764798294,
          "y": 2.189498961870559
         },
         {
          "text": "Medium Soft Serve: Brownie with Hot Fudge",
          "x": -0.09986381511663298,
          "y": 2.313458683081837
         },
         {
          "text": "Regular Blackforest",
          "x": -0.3668047653174308,
          "y": 2.827502911066249
         },
         {
          "text": "Medium Blackforest",
          "x": -0.14951724704458885,
          "y": 3.372470801188496
         },
         {
          "text": "Small McFlurry - Oreo",
          "x": -0.8132064721397021,
          "y": 1.5564536676339928
         },
         {
          "text": "Regular McFlurry - Oreo",
          "x": -0.7422829224523437,
          "y": 1.707117599006769
         },
         {
          "text": "American Triple Cheese Chicken",
          "x": 2.0162104501754694,
          "y": -0.6607002094758525
         },
         {
          "text": "American Triple Cheese Veg",
          "x": 1.9525640782387037,
          "y": -0.24524505610436015
         },
         {
          "text": "Cheese Lava Burger",
          "x": 1.4848410232784255,
          "y": 0.5471266767305821
         },
         {
          "text": "Chicken Cheese Lava Burger",
          "x": 1.6990429194007797,
          "y": 0.021160508867540666
         },
         {
          "text": "Chunky Chipotle American Burger Chicken",
          "x": 1.5137827630253284,
          "y": -0.8896873938263292
         },
         {
          "text": "McSpicy Premium Chicken Burger",
          "x": 2.6019662100142025,
          "y": -1.2289948866202682
         },
         {
          "text": "McSpicy Premium Veg Burger",
          "x": 2.5221209656849264,
          "y": -0.40372208021527917
         },
         {
          "text": "Piri piri Mc Spicy Chicken Burger",
          "x": 0.9002526153442518,
          "y": -0.6058307329602174
         },
         {
          "text": "Piri piri Mc Spicy Veg Burger",
          "x": 0.7945097481291987,
          "y": 0.3174713955526063
         },
         {
          "text": "Cheesy Veg Nuggets (6pc)",
          "x": 2.254716422115694,
          "y": -0.5806203018444789
         },
         {
          "text": "Cheesy Veg Nuggets (9pc)",
          "x": 2.255236761564016,
          "y": -0.5810599243037492
         },
         {
          "text": "Small Coca-Cola",
          "x": -2.041858262750735,
          "y": 0.1812401580676424
         },
         {
          "text": "Medium Coca-Cola",
          "x": -2.0415225196610396,
          "y": 0.2757226743839642
         },
         {
          "text": "Large Coca-Cola",
          "x": -2.0412305936002837,
          "y": 0.3577186315999788
         },
         {
          "text": "Small Fanta Oragne",
          "x": -2.036695366834835,
          "y": 0.537436301415538
         },
         {
          "text": "Medium Fanta Orange",
          "x": -2.0361095777087126,
          "y": 0.6491647993025806
         },
         {
          "text": "Large Fanta Oragne",
          "x": -2.0356006515563587,
          "y": 0.7461275187756925
         },
         {
          "text": "Small Thums-up",
          "x": -2.0417352648337386,
          "y": 0.004105693129550591
         },
         {
          "text": "Medium Thums-up",
          "x": -2.0413934185311486,
          "y": 0.09001193955099639
         },
         {
          "text": "Large Thums-up",
          "x": -2.041096195854712,
          "y": 0.1645650619220963
         },
         {
          "text": "Small Sprite",
          "x": -2.0439201285279824,
          "y": 0.3576837953033259
         },
         {
          "text": "Medium Sprite",
          "x": -2.043683611063612,
          "y": 0.4607094015626871
         },
         {
          "text": "Large Sprite",
          "x": -2.0434787583153686,
          "y": 0.5501190562034025
         },
         {
          "text": "Coke Float",
          "x": -1.8192335859850621,
          "y": 0.20072456726956694
         },
         {
          "text": "Fanta Float",
          "x": -1.8157746486713835,
          "y": 0.43935022797146484
         },
         {
          "text": "Sprite Float",
          "x": -1.8186340840864104,
          "y": 0.3196347851705609
         },
         {
          "text": "Coke Zero Can",
          "x": -2.04454830383228,
          "y": -1.7686919373777092
         },
         {
          "text": "Vedica Natural Mineral Water",
          "x": -2.0485848560579814,
          "y": -1.7701177450364556
         },
         {
          "text": "Mustard diping sauce",
          "x": 0.9655930631628671,
          "y": 3.377518347758503
         },
         {
          "text": "BBQ diping sauce",
          "x": -0.0831196920154192,
          "y": 3.549182408817329
         },
         {
          "text": "Chilli Sauce",
          "x": -1.480402521862191,
          "y": 1.5685201057784448
         },
         {
          "text": "Piri Piri Mix",
          "x": 4.737421854653019,
          "y": 3.144190553017621
         },
         {
          "text": "Tomato Ketchup Sachets",
          "x": 0.5217245542772159,
          "y": 6.424671849649325
         },
         {
          "text": "Maple Syrup",
          "x": -0.017843522693838057,
          "y": 6.867718631182539
         },
         {
          "text": "Cheese Slice",
          "x": 5.935646809056197,
          "y": -1.6686806817431508
         },
         {
          "text": "Sweet Corn",
          "x": -0.6494398142088034,
          "y": -0.5890067972452266
         },
         {
          "text": "Mixed Fruit Beverage",
          "x": -1.6576167750554416,
          "y": -0.7025541468701292
         }
        ],
        "height": 800,
        "legend": {
         "title": {
          "text": "Menu Category"
         },
         "tracegroupgap": 0
        },
        "margin": {
         "t": 60
        },
        "template": {
         "data": {
          "bar": [
           {
            "error_x": {
             "color": "#2a3f5f"
            },
            "error_y": {
             "color": "#2a3f5f"
            },
            "marker": {
             "line": {
              "color": "#E5ECF6",
              "width": 0.5
             },
             "pattern": {
              "fillmode": "overlay",
              "size": 10,
              "solidity": 0.2
             }
            },
            "type": "bar"
           }
          ],
          "barpolar": [
           {
            "marker": {
             "line": {
              "color": "#E5ECF6",
              "width": 0.5
             },
             "pattern": {
              "fillmode": "overlay",
              "size": 10,
              "solidity": 0.2
             }
            },
            "type": "barpolar"
           }
          ],
          "carpet": [
           {
            "aaxis": {
             "endlinecolor": "#2a3f5f",
             "gridcolor": "white",
             "linecolor": "white",
             "minorgridcolor": "white",
             "startlinecolor": "#2a3f5f"
            },
            "baxis": {
             "endlinecolor": "#2a3f5f",
             "gridcolor": "white",
             "linecolor": "white",
             "minorgridcolor": "white",
             "startlinecolor": "#2a3f5f"
            },
            "type": "carpet"
           }
          ],
          "choropleth": [
           {
            "colorbar": {
             "outlinewidth": 0,
             "ticks": ""
            },
            "type": "choropleth"
           }
          ],
          "contour": [
           {
            "colorbar": {
             "outlinewidth": 0,
             "ticks": ""
            },
            "colorscale": [
             [
              0,
              "#0d0887"
             ],
             [
              0.1111111111111111,
              "#46039f"
             ],
             [
              0.2222222222222222,
              "#7201a8"
             ],
             [
              0.3333333333333333,
              "#9c179e"
             ],
             [
              0.4444444444444444,
              "#bd3786"
             ],
             [
              0.5555555555555556,
              "#d8576b"
             ],
             [
              0.6666666666666666,
              "#ed7953"
             ],
             [
              0.7777777777777778,
              "#fb9f3a"
             ],
             [
              0.8888888888888888,
              "#fdca26"
             ],
             [
              1,
              "#f0f921"
             ]
            ],
            "type": "contour"
           }
          ],
          "contourcarpet": [
           {
            "colorbar": {
             "outlinewidth": 0,
             "ticks": ""
            },
            "type": "contourcarpet"
           }
          ],
          "heatmap": [
           {
            "colorbar": {
             "outlinewidth": 0,
             "ticks": ""
            },
            "colorscale": [
             [
              0,
              "#0d0887"
             ],
             [
              0.1111111111111111,
              "#46039f"
             ],
             [
              0.2222222222222222,
              "#7201a8"
             ],
             [
              0.3333333333333333,
              "#9c179e"
             ],
             [
              0.4444444444444444,
              "#bd3786"
             ],
             [
              0.5555555555555556,
              "#d8576b"
             ],
             [
              0.6666666666666666,
              "#ed7953"
             ],
             [
              0.7777777777777778,
              "#fb9f3a"
             ],
             [
              0.8888888888888888,
              "#fdca26"
             ],
             [
              1,
              "#f0f921"
             ]
            ],
            "type": "heatmap"
           }
          ],
          "heatmapgl": [
           {
            "colorbar": {
             "outlinewidth": 0,
             "ticks": ""
            },
            "colorscale": [
             [
              0,
              "#0d0887"
             ],
             [
              0.1111111111111111,
              "#46039f"
             ],
             [
              0.2222222222222222,
              "#7201a8"
             ],
             [
              0.3333333333333333,
              "#9c179e"
             ],
             [
              0.4444444444444444,
              "#bd3786"
             ],
             [
              0.5555555555555556,
              "#d8576b"
             ],
             [
              0.6666666666666666,
              "#ed7953"
             ],
             [
              0.7777777777777778,
              "#fb9f3a"
             ],
             [
              0.8888888888888888,
              "#fdca26"
             ],
             [
              1,
              "#f0f921"
             ]
            ],
            "type": "heatmapgl"
           }
          ],
          "histogram": [
           {
            "marker": {
             "pattern": {
              "fillmode": "overlay",
              "size": 10,
              "solidity": 0.2
             }
            },
            "type": "histogram"
           }
          ],
          "histogram2d": [
           {
            "colorbar": {
             "outlinewidth": 0,
             "ticks": ""
            },
            "colorscale": [
             [
              0,
              "#0d0887"
             ],
             [
              0.1111111111111111,
              "#46039f"
             ],
             [
              0.2222222222222222,
              "#7201a8"
             ],
             [
              0.3333333333333333,
              "#9c179e"
             ],
             [
              0.4444444444444444,
              "#bd3786"
             ],
             [
              0.5555555555555556,
              "#d8576b"
             ],
             [
              0.6666666666666666,
              "#ed7953"
             ],
             [
              0.7777777777777778,
              "#fb9f3a"
             ],
             [
              0.8888888888888888,
              "#fdca26"
             ],
             [
              1,
              "#f0f921"
             ]
            ],
            "type": "histogram2d"
           }
          ],
          "histogram2dcontour": [
           {
            "colorbar": {
             "outlinewidth": 0,
             "ticks": ""
            },
            "colorscale": [
             [
              0,
              "#0d0887"
             ],
             [
              0.1111111111111111,
              "#46039f"
             ],
             [
              0.2222222222222222,
              "#7201a8"
             ],
             [
              0.3333333333333333,
              "#9c179e"
             ],
             [
              0.4444444444444444,
              "#bd3786"
             ],
             [
              0.5555555555555556,
              "#d8576b"
             ],
             [
              0.6666666666666666,
              "#ed7953"
             ],
             [
              0.7777777777777778,
              "#fb9f3a"
             ],
             [
              0.8888888888888888,
              "#fdca26"
             ],
             [
              1,
              "#f0f921"
             ]
            ],
            "type": "histogram2dcontour"
           }
          ],
          "mesh3d": [
           {
            "colorbar": {
             "outlinewidth": 0,
             "ticks": ""
            },
            "type": "mesh3d"
           }
          ],
          "parcoords": [
           {
            "line": {
             "colorbar": {
              "outlinewidth": 0,
              "ticks": ""
             }
            },
            "type": "parcoords"
           }
          ],
          "pie": [
           {
            "automargin": true,
            "type": "pie"
           }
          ],
          "scatter": [
           {
            "fillpattern": {
             "fillmode": "overlay",
             "size": 10,
             "solidity": 0.2
            },
            "type": "scatter"
           }
          ],
          "scatter3d": [
           {
            "line": {
             "colorbar": {
              "outlinewidth": 0,
              "ticks": ""
             }
            },
            "marker": {
             "colorbar": {
              "outlinewidth": 0,
              "ticks": ""
             }
            },
            "type": "scatter3d"
           }
          ],
          "scattercarpet": [
           {
            "marker": {
             "colorbar": {
              "outlinewidth": 0,
              "ticks": ""
             }
            },
            "type": "scattercarpet"
           }
          ],
          "scattergeo": [
           {
            "marker": {
             "colorbar": {
              "outlinewidth": 0,
              "ticks": ""
             }
            },
            "type": "scattergeo"
           }
          ],
          "scattergl": [
           {
            "marker": {
             "colorbar": {
              "outlinewidth": 0,
              "ticks": ""
             }
            },
            "type": "scattergl"
           }
          ],
          "scattermapbox": [
           {
            "marker": {
             "colorbar": {
              "outlinewidth": 0,
              "ticks": ""
             }
            },
            "type": "scattermapbox"
           }
          ],
          "scatterpolar": [
           {
            "marker": {
             "colorbar": {
              "outlinewidth": 0,
              "ticks": ""
             }
            },
            "type": "scatterpolar"
           }
          ],
          "scatterpolargl": [
           {
            "marker": {
             "colorbar": {
              "outlinewidth": 0,
              "ticks": ""
             }
            },
            "type": "scatterpolargl"
           }
          ],
          "scatterternary": [
           {
            "marker": {
             "colorbar": {
              "outlinewidth": 0,
              "ticks": ""
             }
            },
            "type": "scatterternary"
           }
          ],
          "surface": [
           {
            "colorbar": {
             "outlinewidth": 0,
             "ticks": ""
            },
            "colorscale": [
             [
              0,
              "#0d0887"
             ],
             [
              0.1111111111111111,
              "#46039f"
             ],
             [
              0.2222222222222222,
              "#7201a8"
             ],
             [
              0.3333333333333333,
              "#9c179e"
             ],
             [
              0.4444444444444444,
              "#bd3786"
             ],
             [
              0.5555555555555556,
              "#d8576b"
             ],
             [
              0.6666666666666666,
              "#ed7953"
             ],
             [
              0.7777777777777778,
              "#fb9f3a"
             ],
             [
              0.8888888888888888,
              "#fdca26"
             ],
             [
              1,
              "#f0f921"
             ]
            ],
            "type": "surface"
           }
          ],
          "table": [
           {
            "cells": {
             "fill": {
              "color": "#EBF0F8"
             },
             "line": {
              "color": "white"
             }
            },
            "header": {
             "fill": {
              "color": "#C8D4E3"
             },
             "line": {
              "color": "white"
             }
            },
            "type": "table"
           }
          ]
         },
         "layout": {
          "annotationdefaults": {
           "arrowcolor": "#2a3f5f",
           "arrowhead": 0,
           "arrowwidth": 1
          },
          "autotypenumbers": "strict",
          "coloraxis": {
           "colorbar": {
            "outlinewidth": 0,
            "ticks": ""
           }
          },
          "colorscale": {
           "diverging": [
            [
             0,
             "#8e0152"
            ],
            [
             0.1,
             "#c51b7d"
            ],
            [
             0.2,
             "#de77ae"
            ],
            [
             0.3,
             "#f1b6da"
            ],
            [
             0.4,
             "#fde0ef"
            ],
            [
             0.5,
             "#f7f7f7"
            ],
            [
             0.6,
             "#e6f5d0"
            ],
            [
             0.7,
             "#b8e186"
            ],
            [
             0.8,
             "#7fbc41"
            ],
            [
             0.9,
             "#4d9221"
            ],
            [
             1,
             "#276419"
            ]
           ],
           "sequential": [
            [
             0,
             "#0d0887"
            ],
            [
             0.1111111111111111,
             "#46039f"
            ],
            [
             0.2222222222222222,
             "#7201a8"
            ],
            [
             0.3333333333333333,
             "#9c179e"
            ],
            [
             0.4444444444444444,
             "#bd3786"
            ],
            [
             0.5555555555555556,
             "#d8576b"
            ],
            [
             0.6666666666666666,
             "#ed7953"
            ],
            [
             0.7777777777777778,
             "#fb9f3a"
            ],
            [
             0.8888888888888888,
             "#fdca26"
            ],
            [
             1,
             "#f0f921"
            ]
           ],
           "sequentialminus": [
            [
             0,
             "#0d0887"
            ],
            [
             0.1111111111111111,
             "#46039f"
            ],
            [
             0.2222222222222222,
             "#7201a8"
            ],
            [
             0.3333333333333333,
             "#9c179e"
            ],
            [
             0.4444444444444444,
             "#bd3786"
            ],
            [
             0.5555555555555556,
             "#d8576b"
            ],
            [
             0.6666666666666666,
             "#ed7953"
            ],
            [
             0.7777777777777778,
             "#fb9f3a"
            ],
            [
             0.8888888888888888,
             "#fdca26"
            ],
            [
             1,
             "#f0f921"
            ]
           ]
          },
          "colorway": [
           "#636efa",
           "#EF553B",
           "#00cc96",
           "#ab63fa",
           "#FFA15A",
           "#19d3f3",
           "#FF6692",
           "#B6E880",
           "#FF97FF",
           "#FECB52"
          ],
          "font": {
           "color": "#2a3f5f"
          },
          "geo": {
           "bgcolor": "white",
           "lakecolor": "white",
           "landcolor": "#E5ECF6",
           "showlakes": true,
           "showland": true,
           "subunitcolor": "white"
          },
          "hoverlabel": {
           "align": "left"
          },
          "hovermode": "closest",
          "mapbox": {
           "style": "light"
          },
          "paper_bgcolor": "white",
          "plot_bgcolor": "#E5ECF6",
          "polar": {
           "angularaxis": {
            "gridcolor": "white",
            "linecolor": "white",
            "ticks": ""
           },
           "bgcolor": "#E5ECF6",
           "radialaxis": {
            "gridcolor": "white",
            "linecolor": "white",
            "ticks": ""
           }
          },
          "scene": {
           "xaxis": {
            "backgroundcolor": "#E5ECF6",
            "gridcolor": "white",
            "gridwidth": 2,
            "linecolor": "white",
            "showbackground": true,
            "ticks": "",
            "zerolinecolor": "white"
           },
           "yaxis": {
            "backgroundcolor": "#E5ECF6",
            "gridcolor": "white",
            "gridwidth": 2,
            "linecolor": "white",
            "showbackground": true,
            "ticks": "",
            "zerolinecolor": "white"
           },
           "zaxis": {
            "backgroundcolor": "#E5ECF6",
            "gridcolor": "white",
            "gridwidth": 2,
            "linecolor": "white",
            "showbackground": true,
            "ticks": "",
            "zerolinecolor": "white"
           }
          },
          "shapedefaults": {
           "line": {
            "color": "#2a3f5f"
           }
          },
          "ternary": {
           "aaxis": {
            "gridcolor": "white",
            "linecolor": "white",
            "ticks": ""
           },
           "baxis": {
            "gridcolor": "white",
            "linecolor": "white",
            "ticks": ""
           },
           "bgcolor": "#E5ECF6",
           "caxis": {
            "gridcolor": "white",
            "linecolor": "white",
            "ticks": ""
           }
          },
          "title": {
           "x": 0.05
          },
          "xaxis": {
           "automargin": true,
           "gridcolor": "white",
           "linecolor": "white",
           "ticks": "",
           "title": {
            "standoff": 15
           },
           "zerolinecolor": "white",
           "zerolinewidth": 2
          },
          "yaxis": {
           "automargin": true,
           "gridcolor": "white",
           "linecolor": "white",
           "ticks": "",
           "title": {
            "standoff": 15
           },
           "zerolinecolor": "white",
           "zerolinewidth": 2
          }
         }
        },
        "width": 1600,
        "xaxis": {
         "anchor": "y",
         "domain": [
          0,
          1
         ],
         "title": {
          "text": "x"
         }
        },
        "yaxis": {
         "anchor": "x",
         "domain": [
          0,
          1
         ],
         "title": {
          "text": "y"
         }
        }
       }
      }
     },
     "metadata": {},
     "output_type": "display_data"
    }
   ],
   "source": [
    "import plotly.express as px\n",
    "import matplotlib as matplotlib\n",
    "#colors = {'g':'red', 'ml':'blue'}\n",
    "\n",
    "colors = dict(zip(df['Menu Category'].unique(),\n",
    "                  (f'{c}' for c in matplotlib.colors.cnames.values())))\n",
    "\n",
    "\n",
    "fig = px.scatter(df, x=X_train_pca[:,0], y=X_train_pca[:,1], color='Menu Category', color_discrete_map=colors)\n",
    "fig.update_layout(width=1600, height=800)\n",
    "for i in range(141):\n",
    "    txt=MenuCat[i,1]\n",
    "    fig.add_annotation(x=X_train_pca[i,0], y=X_train_pca[i,1], text=txt)\n",
    "fig.show()"
   ]
  },
  {
   "cell_type": "code",
   "execution_count": 124,
   "metadata": {},
   "outputs": [
    {
     "data": {
      "text/plain": [
       "{'Regular Menu': '#F0F8FF',\n",
       " 'Breakfast Menu': '#FAEBD7',\n",
       " 'McCafe Menu': '#00FFFF',\n",
       " 'Desserts Menu': '#7FFFD4',\n",
       " 'Gourmet Menu': '#F0FFFF',\n",
       " 'Beverages Menu': '#F5F5DC',\n",
       " 'Condiments Menu': '#FFE4C4'}"
      ]
     },
     "execution_count": 124,
     "metadata": {},
     "output_type": "execute_result"
    }
   ],
   "source": [
    "colors"
   ]
  },
  {
   "cell_type": "code",
   "execution_count": 134,
   "metadata": {},
   "outputs": [
    {
     "data": {
      "image/png": "[encoded data removed]",
      "text/plain": [
       "<Figure size 2000x1000 with 1 Axes>"
      ]
     },
     "metadata": {},
     "output_type": "display_data"
    }
   ],
   "source": [
    "#colors = {'g':'red', 'ml':'blue'}\n",
    "colors = dict(zip(df['Menu Category'].unique(),\n",
    "                  (f'{c}' for c in matplotlib.colors.cnames.values())))\n",
    "fig, ax = plt.subplots(figsize=(20,10))\n",
    "ax.scatter(X_train_pca[:,0],X_train_pca[:,1],c=df['Menu Category'].map(colors))\n",
    "for i in range(141):\n",
    "    txt=MenuCat[i,2]\n",
    "    ax.annotate(txt, (z[i], y[i]))\n"
   ]
  },
  {
   "cell_type": "code",
   "execution_count": 141,
   "metadata": {},
   "outputs": [
    {
     "data": {
      "image/png": "[encoded data removed]",
      "text/plain": [
       "<Figure size 2000x1000 with 1 Axes>"
      ]
     },
     "metadata": {},
     "output_type": "display_data"
    }
   ],
   "source": [
    "def myplot(score,coeff,labels=None):\n",
    "    xs = score[:,0]\n",
    "    ys = score[:,1]\n",
    "    n = coeff.shape[0]\n",
    "    scalex = 1.0/(xs.max() - xs.min())\n",
    "    scaley = 1.0/(ys.max() - ys.min())\n",
    "    plt.scatter(xs * scalex,ys * scaley,s=5)\n",
    "    for i in range(n):\n",
    "        plt.arrow(0, 0, coeff[i,0], coeff[i,1],color = 'r',alpha = 0.5)\n",
    "        if labels is None:\n",
    "            plt.text(coeff[i,0]* 1.15, coeff[i,1] * 1.15, \"Var\"+str(i+1), color = 'green', ha = 'center', va = 'center')\n",
    "        else:\n",
    "            plt.text(coeff[i,0]* 1.15, coeff[i,1] * 1.15, labels[i], color = 'g', ha = 'center', va = 'center')\n",
    " \n",
    "    plt.xlabel(\"PC{}\".format(1))\n",
    "    plt.ylabel(\"PC{}\".format(2))\n",
    "    plt.grid()\n",
    "\n",
    "plt.figure(figsize=(20,10))\n",
    "myplot(X_train_pca[:,0:2],np.transpose(pca.components_[0:2, :]),list(dataX.columns.values))\n",
    "plt.show()"
   ]
  },
  {
   "cell_type": "code",
   "execution_count": null,
   "metadata": {},
   "outputs": [],
   "source": [
    "pca.c"
   ]
  }
 ],
 "metadata": {
  "kernelspec": {
   "display_name": "testing",
   "language": "python",
   "name": "python3"
  },
  "language_info": {
   "codemirror_mode": {
    "name": "ipython",
    "version": 3
   },
   "file_extension": ".py",
   "mimetype": "text/x-python",
   "name": "python",
   "nbconvert_exporter": "python",
   "pygments_lexer": "ipython3",
   "version": "3.10.9"
  },
  "orig_nbformat": 4,
  "vscode": {
   "interpreter": {
    "hash": "50fd1a218e5a297a403bb8323478fe363865c88bef83b839c84125d9b5b7e1a8"
   }
  }
 },
 "nbformat": 4,
 "nbformat_minor": 2
}
