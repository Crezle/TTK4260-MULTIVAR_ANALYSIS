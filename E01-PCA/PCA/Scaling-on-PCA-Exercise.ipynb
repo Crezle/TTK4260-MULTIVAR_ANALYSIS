{
 "cells": [
  {
   "cell_type": "markdown",
   "metadata": {},
   "source": [
    "# Objective: To understand the importance of scaling on PCA"
   ]
  },
  {
   "cell_type": "code",
   "execution_count": null,
   "metadata": {},
   "outputs": [],
   "source": [
    "from sklearn import preprocessing\n",
    "import numpy as np\n",
    "import matplotlib.pyplot as plt\n",
    "from sklearn.datasets import load_wine"
   ]
  },
  {
   "cell_type": "markdown",
   "metadata": {},
   "source": [
    "# Task 0: Write the function to compute the pca using Eigenvector approach"
   ]
  },
  {
   "cell_type": "code",
   "execution_count": null,
   "metadata": {},
   "outputs": [],
   "source": [
    "from numpy.linalg import svd \n",
    "def pca(X):\n",
    "    \"\"\" Your code here \"\"\"\n",
    "    \n",
    "    \"\"\" ---         ---\"\"\"\n",
    "    return T, Sigma, P  # Scores, Variances, Loadings"
   ]
  },
  {
   "cell_type": "code",
   "execution_count": null,
   "metadata": {},
   "outputs": [],
   "source": [
    "# Load dataset\n",
    "features, target = load_wine(return_X_y=True)\n",
    "X=features\n",
    "y=target"
   ]
  },
  {
   "cell_type": "markdown",
   "metadata": {},
   "source": [
    "# Three different ways of scaling\n",
    "* Scaling by removing the mean and divising by the standard deviation \n",
    "        #standard_scaling=preprocessing.StandardScaler()\n",
    "        #X_standard=standard_scaling.fit_transform(X)\n",
    "* Scaling to min and maximum values of each feature\n",
    "        #minmax_scaling=preprocessing.MinMaxScaler()\n",
    "        #X_minmax=minmax_scaling.fit_transform(X)\n",
    "* Scaling by diving by the maximumabsolute values of each features\n",
    "        #max_abs_scaler=preprocessing.MaxAbsScaler()\n",
    "        #X_maxabs=max_abs_scaler.fit_transform(X)"
   ]
  },
  {
   "cell_type": "markdown",
   "metadata": {},
   "source": [
    "## Task 1: Create the scores plot without scaling"
   ]
  },
  {
   "cell_type": "code",
   "execution_count": null,
   "metadata": {},
   "outputs": [],
   "source": [
    "\"\"\" Your code here - find the scores \"\"\"\n",
    "T = None  \n",
    "\"\"\" ---         ---\"\"\"\n",
    "\n",
    "\n",
    "def plot_scores(T):\n",
    "    plt.figure(figsize=(15,10))\n",
    "    \"\"\" Your code here - plot the scores of the two first components \"\"\"\n",
    "    \n",
    "    \"\"\" ---         ---\"\"\"\n",
    "    plt.xlabel('Component 1')\n",
    "    plt.ylabel('Component 2')\n",
    "    plt.colorbar();\n",
    "\n",
    "\n",
    "plot_scores(T)"
   ]
  },
  {
   "cell_type": "markdown",
   "metadata": {},
   "source": [
    "## Task 2: Create the scores plot with standard scaling"
   ]
  },
  {
   "cell_type": "code",
   "execution_count": null,
   "metadata": {},
   "outputs": [],
   "source": [
    "\"\"\" Your code here - scale the data \"\"\"\n",
    "# Hint: sklearn.preprocessing library has a StandardScaler\n",
    "X_std = None  # Scaled data here\n",
    "\n",
    "\"\"\" Find the scores of the two first components, using the scaled data \"\"\"\n",
    "T = None  # Scores here\n",
    "\n",
    "\"\"\" ---         ---\"\"\"\n",
    "plot_scores(T)"
   ]
  },
  {
   "cell_type": "markdown",
   "metadata": {},
   "source": [
    "## Task 3: Create the scores plot with min max scaling"
   ]
  },
  {
   "cell_type": "code",
   "execution_count": null,
   "metadata": {},
   "outputs": [],
   "source": [
    "\"\"\" Your code here - scale the data \"\"\"\n",
    "# Hint: sklearn.preprocessing library\n",
    "X_minmax = None  # Scaled data here\n",
    "\n",
    "\"\"\" Find the scores of the two first components \"\"\"\n",
    "T = None # Scores here\n",
    "\n",
    "\"\"\" ---         ---\"\"\"\n",
    "plot_scores(T)"
   ]
  },
  {
   "cell_type": "markdown",
   "metadata": {},
   "source": [
    "## Task 4: Create the scores plot with max abs scaling"
   ]
  },
  {
   "cell_type": "code",
   "execution_count": null,
   "metadata": {},
   "outputs": [],
   "source": [
    "\"\"\" Your code here - scale the data \"\"\"\n",
    "# Hint: sklearn.preprocessing library\n",
    "X_maxabs = None  # Scaled data here\n",
    "\n",
    "\"\"\" Find the scores of the two first components \"\"\"\n",
    "T = None # Scores here\n",
    "\n",
    "\"\"\" ---         ---\"\"\"\n",
    "plot_scores(T)"
   ]
  }
 ],
 "metadata": {
  "kernelspec": {
   "display_name": "Python 3",
   "language": "python",
   "name": "python3"
  },
  "language_info": {
   "codemirror_mode": {
    "name": "ipython",
    "version": 3
   },
   "file_extension": ".py",
   "mimetype": "text/x-python",
   "name": "python",
   "nbconvert_exporter": "python",
   "pygments_lexer": "ipython3",
   "version": "3.7.3"
  }
 },
 "nbformat": 4,
 "nbformat_minor": 2
}
