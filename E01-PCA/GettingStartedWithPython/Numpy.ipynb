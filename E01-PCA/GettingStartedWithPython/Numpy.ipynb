{
 "cells": [
  {
   "cell_type": "markdown",
   "metadata": {},
   "source": [
    "# Numpy"
   ]
  },
  {
   "cell_type": "markdown",
   "metadata": {},
   "source": [
    "Everything in Numpy revolves around the multidimensional array. To use it, first import the `numpy` package. It is customary to give it the name `np`."
   ]
  },
  {
   "cell_type": "code",
   "execution_count": 139,
   "metadata": {
    "collapsed": true,
    "ExecuteTime": {
     "end_time": "2024-01-18T11:59:26.320905278Z",
     "start_time": "2024-01-18T11:59:25.770896898Z"
    }
   },
   "outputs": [],
   "source": [
    "import numpy as np"
   ]
  },
  {
   "cell_type": "markdown",
   "metadata": {},
   "source": [
    "To create an array, use the `np.array` constructor. It understands list-of-lists type input, and as long as the input is well-formed, will do as expected."
   ]
  },
  {
   "cell_type": "code",
   "execution_count": 140,
   "metadata": {
    "ExecuteTime": {
     "end_time": "2024-01-18T11:59:26.344112752Z",
     "start_time": "2024-01-18T11:59:26.322344015Z"
    }
   },
   "outputs": [
    {
     "data": {
      "text/plain": "array([], dtype=float64)"
     },
     "execution_count": 140,
     "metadata": {},
     "output_type": "execute_result"
    }
   ],
   "source": [
    "np.array([])        # An empty array"
   ]
  },
  {
   "cell_type": "code",
   "execution_count": 141,
   "metadata": {
    "ExecuteTime": {
     "end_time": "2024-01-18T11:59:26.395012454Z",
     "start_time": "2024-01-18T11:59:26.342922306Z"
    }
   },
   "outputs": [
    {
     "data": {
      "text/plain": "array(1.)"
     },
     "execution_count": 141,
     "metadata": {},
     "output_type": "execute_result"
    }
   ],
   "source": [
    "np.array(1.0)       # A scalar"
   ]
  },
  {
   "cell_type": "code",
   "execution_count": 142,
   "metadata": {
    "ExecuteTime": {
     "end_time": "2024-01-18T11:59:26.432139767Z",
     "start_time": "2024-01-18T11:59:26.395196158Z"
    }
   },
   "outputs": [
    {
     "data": {
      "text/plain": "array([1., 2., 3.])"
     },
     "execution_count": 142,
     "metadata": {},
     "output_type": "execute_result"
    }
   ],
   "source": [
    "np.array([1.0, 2.0, 3.0])   # A vector"
   ]
  },
  {
   "cell_type": "code",
   "execution_count": 143,
   "metadata": {
    "ExecuteTime": {
     "end_time": "2024-01-18T11:59:26.444855074Z",
     "start_time": "2024-01-18T11:59:26.418796871Z"
    }
   },
   "outputs": [
    {
     "data": {
      "text/plain": "array([[1., 2., 3.],\n       [4., 5., 6.],\n       [7., 8., 9.]])"
     },
     "execution_count": 143,
     "metadata": {},
     "output_type": "execute_result"
    }
   ],
   "source": [
    "np.array([[1.0, 2.0, 3.0], [4.0, 5.0, 6.0], [7.0, 8.0, 9.0]])    # A matrix"
   ]
  },
  {
   "cell_type": "markdown",
   "metadata": {},
   "source": [
    "Every array has a **data type** and a **shape**.\n",
    "\n",
    "The data type is the type of the objects stored in the array. Unlike regular Python lists, arrays are homogeneous, unable to store data of different types. For most of the time, Numpy is able to determine the data type itself, but you may give it pointers. For example,"
   ]
  },
  {
   "cell_type": "code",
   "execution_count": 144,
   "metadata": {
    "ExecuteTime": {
     "end_time": "2024-01-18T11:59:26.457874502Z",
     "start_time": "2024-01-18T11:59:26.436077400Z"
    }
   },
   "outputs": [
    {
     "data": {
      "text/plain": "dtype('int64')"
     },
     "execution_count": 144,
     "metadata": {},
     "output_type": "execute_result"
    }
   ],
   "source": [
    "a = np.array([1, 2])\n",
    "a.dtype"
   ]
  },
  {
   "cell_type": "code",
   "execution_count": 145,
   "metadata": {
    "ExecuteTime": {
     "end_time": "2024-01-18T11:59:26.497103985Z",
     "start_time": "2024-01-18T11:59:26.456724252Z"
    }
   },
   "outputs": [
    {
     "data": {
      "text/plain": "dtype('float64')"
     },
     "execution_count": 145,
     "metadata": {},
     "output_type": "execute_result"
    }
   ],
   "source": [
    "a = np.array([1, 2], dtype=float)\n",
    "a.dtype"
   ]
  },
  {
   "cell_type": "code",
   "execution_count": 146,
   "metadata": {
    "ExecuteTime": {
     "end_time": "2024-01-18T11:59:26.509782418Z",
     "start_time": "2024-01-18T11:59:26.495803549Z"
    }
   },
   "outputs": [
    {
     "data": {
      "text/plain": "array([False,  True])"
     },
     "execution_count": 146,
     "metadata": {},
     "output_type": "execute_result"
    }
   ],
   "source": [
    "np.array([0, 1], dtype=bool)"
   ]
  },
  {
   "cell_type": "code",
   "execution_count": 147,
   "metadata": {
    "ExecuteTime": {
     "end_time": "2024-01-18T11:59:26.516808756Z",
     "start_time": "2024-01-18T11:59:26.508640716Z"
    }
   },
   "outputs": [
    {
     "data": {
      "text/plain": "array([1, 0])"
     },
     "execution_count": 147,
     "metadata": {},
     "output_type": "execute_result"
    }
   ],
   "source": [
    "np.array([True, False], dtype=int)"
   ]
  },
  {
   "cell_type": "markdown",
   "metadata": {},
   "source": [
    "The **shape** of an array is critically important. Most unexpected errors when working with Numpy occur from incorrect shapes.\n",
    "\n",
    "The shape is a tuple, with one element for each dimension of the array, specifying the length of that dimension.\n",
    "\n",
    "Therefore, the shape of a vector is a one-element tuple."
   ]
  },
  {
   "cell_type": "code",
   "execution_count": 148,
   "metadata": {
    "ExecuteTime": {
     "end_time": "2024-01-18T11:59:26.558543524Z",
     "start_time": "2024-01-18T11:59:26.515660539Z"
    }
   },
   "outputs": [
    {
     "data": {
      "text/plain": "(4,)"
     },
     "execution_count": 148,
     "metadata": {},
     "output_type": "execute_result"
    }
   ],
   "source": [
    "np.array([1, 2, 3, 4]).shape"
   ]
  },
  {
   "cell_type": "markdown",
   "metadata": {},
   "source": [
    "While the shape of a matrix is a two-element tuple."
   ]
  },
  {
   "cell_type": "code",
   "execution_count": 149,
   "metadata": {
    "ExecuteTime": {
     "end_time": "2024-01-18T11:59:26.572558807Z",
     "start_time": "2024-01-18T11:59:26.525634952Z"
    }
   },
   "outputs": [
    {
     "data": {
      "text/plain": "(3, 3)"
     },
     "execution_count": 149,
     "metadata": {},
     "output_type": "execute_result"
    }
   ],
   "source": [
    "np.array([[1, 2, 3], [4, 5, 6], [7, 8, 9]]).shape"
   ]
  },
  {
   "cell_type": "markdown",
   "metadata": {},
   "source": [
    "**Exercise:** Check what the shape of a scalar is. What is the shape of an empty array?"
   ]
  },
  {
   "cell_type": "markdown",
   "metadata": {},
   "source": [
    "## Array arithmetic and broadcasting"
   ]
  },
  {
   "cell_type": "markdown",
   "metadata": {},
   "source": [
    "As a rule, Numpy arrays support standard Python mathematical operators like `+`, `*`, `/`, `//` and `**`. Without exception, and somewhat as a surprise to Matlab users, these operators are **ELEMENT-WISE**. That is to say, `a * b` is an array whose elements are the products of the elements of `a` and `b`, it is *not* a matrix-matrix product."
   ]
  },
  {
   "cell_type": "code",
   "execution_count": 150,
   "metadata": {
    "ExecuteTime": {
     "end_time": "2024-01-18T11:59:26.624611817Z",
     "start_time": "2024-01-18T11:59:26.571495733Z"
    }
   },
   "outputs": [
    {
     "data": {
      "text/plain": "array([4, 6])"
     },
     "execution_count": 150,
     "metadata": {},
     "output_type": "execute_result"
    }
   ],
   "source": [
    "np.array([1, 2]) + np.array([3, 4])"
   ]
  },
  {
   "cell_type": "code",
   "execution_count": 151,
   "metadata": {
    "ExecuteTime": {
     "end_time": "2024-01-18T11:59:26.638151597Z",
     "start_time": "2024-01-18T11:59:26.613348149Z"
    }
   },
   "outputs": [
    {
     "data": {
      "text/plain": "array([[1, 4],\n       [6, 8]])"
     },
     "execution_count": 151,
     "metadata": {},
     "output_type": "execute_result"
    }
   ],
   "source": [
    "np.array([[1, 2], [2, 2]]) * np.array([[1, 2], [3, 4]])"
   ]
  },
  {
   "cell_type": "code",
   "execution_count": 152,
   "metadata": {
    "ExecuteTime": {
     "end_time": "2024-01-18T11:59:26.672802571Z",
     "start_time": "2024-01-18T11:59:26.625195763Z"
    }
   },
   "outputs": [
    {
     "data": {
      "text/plain": "array([1, 4, 9])"
     },
     "execution_count": 152,
     "metadata": {},
     "output_type": "execute_result"
    }
   ],
   "source": [
    "np.array([1, 2, 3]) ** 2"
   ]
  },
  {
   "cell_type": "markdown",
   "metadata": {},
   "source": [
    "The two arrays involved in an operation do not have to have the *same* shape, but the shapes have to be compatible according to a process known as \"broadcasting\", which is a classical example of something that is *difficult-at-first-but-easy-once-you-get-used-to-it*.™\n",
    "\n",
    "There are two essential rules:\n",
    "\n",
    "1. One array may have additional dimensions on the *left*, but not on the *right*.\n",
    "\n",
    "   In other words, you may add a `(5,8)`-shape array to a `(2,4,5,8)`-shape array, and the result will be of shape `(2,4,5,8)` as expected. However, you may not add a `(2,4)`-shape array to that same `(2,4,5,8)`-shape array.\n",
    "   \n",
    "       Input 1:        5  8\n",
    "                       |  |\n",
    "       Input 2:  2  4  5  8\n",
    "                 |  |  |  |\n",
    "       Output:   2  4  5  8    => OK\n",
    "       \n",
    "       ----------------------------------\n",
    "       \n",
    "       Input 1:        2  4\n",
    "                       |  |\n",
    "       Input 2:  2  4  5  8\n",
    "                 |  |  |  |\n",
    "       Output:   2  4  ?  ?    => Not OK\n",
    "       \n",
    "2. Mismatching dimensions are okay, so long as one of them has length 1 (often called a \"singleton\" dimension).\n",
    "\n",
    "       Input 1:        5  1\n",
    "                       |  |\n",
    "       Input 2:  2  4  5  8\n",
    "                 |  |  |  |\n",
    "       Output:   2  4  5  8    => OK\n",
    "       \n",
    "       ----------------------------------\n",
    "       \n",
    "       Input 1:        6  1\n",
    "                       |  |\n",
    "       Input 2:  2  4  1  8\n",
    "                 |  |  |  |\n",
    "       Output:   2  4  6  8    => OK\n",
    "       \n",
    "In both cases, the smaller array will have its data duplicated as necessary to ensure that everything matches up.\n",
    "\n",
    "Adding a vector of size 2 to a matrix of size *N*×2 will then add the vector to each row of the matrix. For this reason I find it generally helpful to think of an *N*×2-matrix as a collection of *N* vectors of length 2, rather than as a collection of 2 vectors of length *N*. I recommend you use this rule of thumb when deciding what the shapes of your arrays should be, depending on what you want to store in them."
   ]
  },
  {
   "cell_type": "markdown",
   "metadata": {},
   "source": [
    "The two arrays involved in an operation do not have to have the *same* shape, but the shapes have to be compatible according to a process known as \"broadcasting\", which is a classical example of something that is *difficult-at-first-but-easy-once-you-get-used-to-it*.™\n",
    "\n",
    "There are two essential rules:\n",
    "\n",
    "1. One array may have additional dimensions on the *left*, but not on the *right*.\n",
    "\n",
    "   In other words, you may add a `(5,8)`-shape array to a `(2,4,5,8)`-shape array, and the result will be of shape `(2,4,5,8)` as expected. However, you may not add a `(2,4)`-shape array to that same `(2,4,5,8)`-shape array.\n",
    "   \n",
    "       Input 1:        5  8\n",
    "                       |  |\n",
    "       Input 2:  2  4  5  8\n",
    "                 |  |  |  |\n",
    "       Output:   2  4  5  8    => OK\n",
    "       \n",
    "       ----------------------------------\n",
    "       \n",
    "       Input 1:        2  4\n",
    "                       |  |\n",
    "       Input 2:  2  4  5  8\n",
    "                 |  |  |  |\n",
    "       Output:   2  4  ?  ?    => Not OK\n",
    "       \n",
    "2. Mismatching dimensions are okay, so long as one of them has length 1 (often called a \"singleton\" dimension).\n",
    "\n",
    "       Input 1:        5  1\n",
    "                       |  |\n",
    "       Input 2:  2  4  5  8\n",
    "                 |  |  |  |\n",
    "       Output:   2  4  5  8    => OK\n",
    "       \n",
    "       ----------------------------------\n",
    "       \n",
    "       Input 1:        6  1\n",
    "                       |  |\n",
    "       Input 2:  2  4  1  8\n",
    "                 |  |  |  |\n",
    "       Output:   2  4  6  8    => OK\n",
    "       \n",
    "In both cases, the smaller array will have its data duplicated as necessary to ensure that everything matches up.\n",
    "\n",
    "Adding a vector of size 2 to a matrix of size *N*×2 will then add the vector to each row of the matrix. For this reason I find it generally helpful to think of an *N*×2-matrix as a collection of *N* vectors of length 2, rather than as a collection of 2 vectors of length *N*. I recommend you use this rule of thumb when deciding what the shapes of your arrays should be, depending on what you want to store in them."
   ]
  },
  {
   "cell_type": "markdown",
   "metadata": {},
   "source": [
    "## Matrix aritmethic"
   ]
  },
  {
   "cell_type": "markdown",
   "metadata": {},
   "source": [
    "Since arithmetic with arrays is universally element-wise, you may reasonably ask how to do actual matrix multiplication in Numpy. This is possible with the `@` operator."
   ]
  },
  {
   "cell_type": "code",
   "execution_count": 153,
   "metadata": {
    "ExecuteTime": {
     "end_time": "2024-01-18T11:59:26.686034347Z",
     "start_time": "2024-01-18T11:59:26.672950731Z"
    }
   },
   "outputs": [
    {
     "data": {
      "text/plain": "array([[19., 14.],\n       [ 6., 26.]])"
     },
     "execution_count": 153,
     "metadata": {},
     "output_type": "execute_result"
    }
   ],
   "source": [
    "mx1 = np.array([[1.0, 3.0], [4.0, 2.0]])\n",
    "mx2 = np.array([[-2.0, 5.0], [7.0, 3.0]])\n",
    "mx1 @ mx2"
   ]
  },
  {
   "cell_type": "markdown",
   "metadata": {},
   "source": [
    "The same operator will do matrix-vector multiplication if the right hand side is a vector."
   ]
  },
  {
   "cell_type": "code",
   "execution_count": 154,
   "metadata": {
    "ExecuteTime": {
     "end_time": "2024-01-18T11:59:26.695435681Z",
     "start_time": "2024-01-18T11:59:26.678003942Z"
    }
   },
   "outputs": [
    {
     "data": {
      "text/plain": "array([-7., -8.])"
     },
     "execution_count": 154,
     "metadata": {},
     "output_type": "execute_result"
    }
   ],
   "source": [
    "vec = np.array([-1.0, -2.0])\n",
    "mx1 @ vec"
   ]
  },
  {
   "cell_type": "markdown",
   "metadata": {},
   "source": [
    "The `@`-operator also works with arrays of higher dimension, where this sort of thing is called \"contraction,\" but it's really the same thing. The last dimension of the left-hand-side will be contracted with the first dimension on the right-hand-side.\n",
    "\n",
    "This lets us do some cool things. For example, this is an inner product, $v^\\intercal v$:"
   ]
  },
  {
   "cell_type": "code",
   "execution_count": 155,
   "metadata": {
    "ExecuteTime": {
     "end_time": "2024-01-18T11:59:26.705560798Z",
     "start_time": "2024-01-18T11:59:26.689491428Z"
    }
   },
   "outputs": [
    {
     "data": {
      "text/plain": "5.0"
     },
     "execution_count": 155,
     "metadata": {},
     "output_type": "execute_result"
    }
   ],
   "source": [
    "vec @ vec"
   ]
  },
  {
   "cell_type": "markdown",
   "metadata": {},
   "source": [
    "And this is the often-seen generalized inner product $v^\\intercal M v$:"
   ]
  },
  {
   "cell_type": "code",
   "execution_count": 156,
   "metadata": {
    "ExecuteTime": {
     "end_time": "2024-01-18T11:59:26.749645534Z",
     "start_time": "2024-01-18T11:59:26.704319610Z"
    }
   },
   "outputs": [
    {
     "data": {
      "text/plain": "23.0"
     },
     "execution_count": 156,
     "metadata": {},
     "output_type": "execute_result"
    }
   ],
   "source": [
    "vec @ mx1 @ vec"
   ]
  },
  {
   "cell_type": "markdown",
   "metadata": {},
   "source": [
    "## Forming arrays"
   ]
  },
  {
   "cell_type": "markdown",
   "metadata": {},
   "source": [
    "Forming large arrays is tedious with the list-of-lists style constructor. Fortunately, Numpy has a wide range of functions that can help us."
   ]
  },
  {
   "cell_type": "code",
   "execution_count": 157,
   "metadata": {
    "ExecuteTime": {
     "end_time": "2024-01-18T11:59:26.762262906Z",
     "start_time": "2024-01-18T11:59:26.742889292Z"
    }
   },
   "outputs": [
    {
     "data": {
      "text/plain": "array([[1., 1.],\n       [1., 1.]])"
     },
     "execution_count": 157,
     "metadata": {},
     "output_type": "execute_result"
    }
   ],
   "source": [
    "# An array full of ones\n",
    "np.ones((2,2))"
   ]
  },
  {
   "cell_type": "code",
   "execution_count": 158,
   "metadata": {
    "ExecuteTime": {
     "end_time": "2024-01-18T11:59:26.774792891Z",
     "start_time": "2024-01-18T11:59:26.760955660Z"
    }
   },
   "outputs": [
    {
     "data": {
      "text/plain": "array([[0., 0.],\n       [0., 0.]])"
     },
     "execution_count": 158,
     "metadata": {},
     "output_type": "execute_result"
    }
   ],
   "source": [
    "# An array full of zeros\n",
    "np.zeros((2,2))"
   ]
  },
  {
   "cell_type": "code",
   "execution_count": 209,
   "metadata": {
    "ExecuteTime": {
     "end_time": "2024-01-18T12:00:32.045718545Z",
     "start_time": "2024-01-18T12:00:31.992240677Z"
    }
   },
   "outputs": [
    {
     "data": {
      "text/plain": "array([[4611686018427387904, 4617315517961601024],\n       [4619567317775286272, 4613937818241073152]])"
     },
     "execution_count": 209,
     "metadata": {},
     "output_type": "execute_result"
    }
   ],
   "source": [
    "# An array full of garbage (if you try this, your garbage may be different)\n",
    "np.empty((2,2), dtype=int)"
   ]
  },
  {
   "cell_type": "code",
   "execution_count": 160,
   "metadata": {
    "ExecuteTime": {
     "end_time": "2024-01-18T11:59:26.822565207Z",
     "start_time": "2024-01-18T11:59:26.803547538Z"
    }
   },
   "outputs": [
    {
     "data": {
      "text/plain": "array([[1, 0, 0],\n       [0, 2, 0],\n       [0, 0, 3]])"
     },
     "execution_count": 160,
     "metadata": {},
     "output_type": "execute_result"
    }
   ],
   "source": [
    "# A diagonal matrix\n",
    "np.diag([1, 2, 3])"
   ]
  },
  {
   "cell_type": "code",
   "execution_count": 161,
   "metadata": {
    "ExecuteTime": {
     "end_time": "2024-01-18T11:59:26.904347807Z",
     "start_time": "2024-01-18T11:59:26.816891467Z"
    }
   },
   "outputs": [
    {
     "data": {
      "text/plain": "array([0, 1, 2, 3, 4])"
     },
     "execution_count": 161,
     "metadata": {},
     "output_type": "execute_result"
    }
   ],
   "source": [
    "# A range, similar to Python's range() function\n",
    "np.arange(5)"
   ]
  },
  {
   "cell_type": "code",
   "execution_count": 162,
   "metadata": {
    "ExecuteTime": {
     "end_time": "2024-01-18T11:59:26.978497926Z",
     "start_time": "2024-01-18T11:59:26.857353714Z"
    }
   },
   "outputs": [
    {
     "data": {
      "text/plain": "array([2, 3, 4])"
     },
     "execution_count": 162,
     "metadata": {},
     "output_type": "execute_result"
    }
   ],
   "source": [
    "np.arange(2, 5)"
   ]
  },
  {
   "cell_type": "code",
   "execution_count": 163,
   "metadata": {
    "ExecuteTime": {
     "end_time": "2024-01-18T11:59:26.995385741Z",
     "start_time": "2024-01-18T11:59:26.905355768Z"
    }
   },
   "outputs": [
    {
     "data": {
      "text/plain": "array([2. , 2.5, 3. , 3.5, 4. , 4.5])"
     },
     "execution_count": 163,
     "metadata": {},
     "output_type": "execute_result"
    }
   ],
   "source": [
    "np.arange(2, 5, 0.5)"
   ]
  },
  {
   "cell_type": "code",
   "execution_count": 164,
   "metadata": {
    "ExecuteTime": {
     "end_time": "2024-01-18T11:59:27.026071241Z",
     "start_time": "2024-01-18T11:59:26.984501733Z"
    }
   },
   "outputs": [
    {
     "data": {
      "text/plain": "array([ 0.,  1.,  2.,  3.,  4.,  5.,  6.,  7.,  8.,  9., 10.])"
     },
     "execution_count": 164,
     "metadata": {},
     "output_type": "execute_result"
    }
   ],
   "source": [
    "# A vector of uniformly spaced points (start, end, number of points)\n",
    "np.linspace(0, 10, 11)"
   ]
  },
  {
   "cell_type": "code",
   "execution_count": 165,
   "metadata": {
    "ExecuteTime": {
     "end_time": "2024-01-18T11:59:27.038249754Z",
     "start_time": "2024-01-18T11:59:27.026181105Z"
    }
   },
   "outputs": [
    {
     "data": {
      "text/plain": "array([0. , 0.5, 1. ])"
     },
     "execution_count": 165,
     "metadata": {},
     "output_type": "execute_result"
    }
   ],
   "source": [
    "np.linspace(0, 1, 3)"
   ]
  },
  {
   "cell_type": "markdown",
   "metadata": {},
   "source": [
    "**WARNING:** `linspace` is almost universally preferable to `arange`. Due to floating point roundoff errors, `arange` may occasionally produce an array of a different size than you expect. `linspace` doesn't have that problem."
   ]
  },
  {
   "cell_type": "markdown",
   "metadata": {},
   "source": [
    "## Indexing arrays"
   ]
  },
  {
   "cell_type": "markdown",
   "metadata": {},
   "source": [
    "You can access array elements by providing their index in a comma-separated fashion. Let's create a three-dimensional array to play around with."
   ]
  },
  {
   "cell_type": "code",
   "execution_count": 166,
   "metadata": {
    "ExecuteTime": {
     "end_time": "2024-01-18T11:59:27.047646042Z",
     "start_time": "2024-01-18T11:59:27.035810848Z"
    }
   },
   "outputs": [
    {
     "data": {
      "text/plain": "(4, 2, 3)"
     },
     "execution_count": 166,
     "metadata": {},
     "output_type": "execute_result"
    }
   ],
   "source": [
    "myarray = np.array([[[1, 2, 3], [4, 5, 6]], \n",
    "                    [[7, 8, 9], [10, 11, 12]],\n",
    "                    [[13, 14, 15], [16, 17, 18]],\n",
    "                    [[19, 20, 21], [22, 23, 24]]])\n",
    "myarray.shape"
   ]
  },
  {
   "cell_type": "code",
   "execution_count": 167,
   "metadata": {
    "ExecuteTime": {
     "end_time": "2024-01-18T11:59:27.074986525Z",
     "start_time": "2024-01-18T11:59:27.046461011Z"
    }
   },
   "outputs": [
    {
     "data": {
      "text/plain": "12"
     },
     "execution_count": 167,
     "metadata": {},
     "output_type": "execute_result"
    }
   ],
   "source": [
    "# Get a single element\n",
    "myarray[1,1,2]"
   ]
  },
  {
   "cell_type": "code",
   "execution_count": 168,
   "metadata": {
    "ExecuteTime": {
     "end_time": "2024-01-18T11:59:27.091956939Z",
     "start_time": "2024-01-18T11:59:27.073883403Z"
    }
   },
   "outputs": [
    {
     "data": {
      "text/plain": "array([10, 11, 12])"
     },
     "execution_count": 168,
     "metadata": {},
     "output_type": "execute_result"
    }
   ],
   "source": [
    "# Get a vector along the last dimension\n",
    "myarray[1,1,:]"
   ]
  },
  {
   "cell_type": "code",
   "execution_count": 169,
   "metadata": {
    "ExecuteTime": {
     "end_time": "2024-01-18T11:59:27.100379869Z",
     "start_time": "2024-01-18T11:59:27.086548342Z"
    }
   },
   "outputs": [
    {
     "data": {
      "text/plain": "array([ 9, 12])"
     },
     "execution_count": 169,
     "metadata": {},
     "output_type": "execute_result"
    }
   ],
   "source": [
    "# Get a vector along the middle dimension\n",
    "myarray[1,:,2]"
   ]
  },
  {
   "cell_type": "code",
   "execution_count": 170,
   "metadata": {
    "ExecuteTime": {
     "end_time": "2024-01-18T11:59:27.126186103Z",
     "start_time": "2024-01-18T11:59:27.099218218Z"
    }
   },
   "outputs": [
    {
     "data": {
      "text/plain": "array([ 6, 12, 18, 24])"
     },
     "execution_count": 170,
     "metadata": {},
     "output_type": "execute_result"
    }
   ],
   "source": [
    "# Get a vector along the first dimension\n",
    "myarray[:,1,2]"
   ]
  },
  {
   "cell_type": "code",
   "execution_count": 171,
   "metadata": {
    "ExecuteTime": {
     "end_time": "2024-01-18T11:59:27.150832631Z",
     "start_time": "2024-01-18T11:59:27.125064112Z"
    }
   },
   "outputs": [
    {
     "data": {
      "text/plain": "array([[13, 14, 15],\n       [16, 17, 18]])"
     },
     "execution_count": 171,
     "metadata": {},
     "output_type": "execute_result"
    }
   ],
   "source": [
    "# Get a sub-matrix\n",
    "myarray[2,:,:]"
   ]
  },
  {
   "cell_type": "code",
   "execution_count": 172,
   "metadata": {
    "ExecuteTime": {
     "end_time": "2024-01-18T11:59:27.168862667Z",
     "start_time": "2024-01-18T11:59:27.145227909Z"
    }
   },
   "outputs": [
    {
     "data": {
      "text/plain": "array([[13, 14, 15],\n       [16, 17, 18]])"
     },
     "execution_count": 172,
     "metadata": {},
     "output_type": "execute_result"
    }
   ],
   "source": [
    "# The last example can also be written like this\n",
    "myarray[2]"
   ]
  },
  {
   "cell_type": "code",
   "execution_count": 173,
   "metadata": {
    "ExecuteTime": {
     "end_time": "2024-01-18T11:59:27.186394995Z",
     "start_time": "2024-01-18T11:59:27.167633208Z"
    }
   },
   "outputs": [
    {
     "data": {
      "text/plain": "array([[13, 14, 15],\n       [16, 17, 18]])"
     },
     "execution_count": 173,
     "metadata": {},
     "output_type": "execute_result"
    }
   ],
   "source": [
    "# ... or like this\n",
    "myarray[2,...]"
   ]
  },
  {
   "cell_type": "code",
   "execution_count": 174,
   "metadata": {
    "ExecuteTime": {
     "end_time": "2024-01-18T11:59:27.197841092Z",
     "start_time": "2024-01-18T11:59:27.180353311Z"
    }
   },
   "outputs": [
    {
     "data": {
      "text/plain": "array([[ 3,  6],\n       [ 9, 12],\n       [15, 18],\n       [21, 24]])"
     },
     "execution_count": 174,
     "metadata": {},
     "output_type": "execute_result"
    }
   ],
   "source": [
    "# Get another sub-matrix\n",
    "myarray[:,:,2]"
   ]
  },
  {
   "cell_type": "code",
   "execution_count": 175,
   "metadata": {
    "ExecuteTime": {
     "end_time": "2024-01-18T11:59:27.215319776Z",
     "start_time": "2024-01-18T11:59:27.196557061Z"
    }
   },
   "outputs": [
    {
     "data": {
      "text/plain": "array([[ 3,  6],\n       [ 9, 12],\n       [15, 18],\n       [21, 24]])"
     },
     "execution_count": 175,
     "metadata": {},
     "output_type": "execute_result"
    }
   ],
   "source": [
    "# That example can also be written like this\n",
    "myarray[...,2]"
   ]
  },
  {
   "cell_type": "code",
   "execution_count": 176,
   "metadata": {
    "ExecuteTime": {
     "end_time": "2024-01-18T11:59:27.233350060Z",
     "start_time": "2024-01-18T11:59:27.214140696Z"
    }
   },
   "outputs": [
    {
     "data": {
      "text/plain": "array([[ 9, 12],\n       [15, 18]])"
     },
     "execution_count": 176,
     "metadata": {},
     "output_type": "execute_result"
    }
   ],
   "source": [
    "# Like with lists, you can also do slicing\n",
    "myarray[1:3,:,2]"
   ]
  },
  {
   "cell_type": "markdown",
   "metadata": {},
   "source": [
    "You can grab multiple single elements at once by indexing with lists or tuples. For example:"
   ]
  },
  {
   "cell_type": "code",
   "execution_count": 177,
   "metadata": {
    "ExecuteTime": {
     "end_time": "2024-01-18T11:59:27.244264779Z",
     "start_time": "2024-01-18T11:59:27.227301847Z"
    }
   },
   "outputs": [
    {
     "data": {
      "text/plain": "array([ 7, 18])"
     },
     "execution_count": 177,
     "metadata": {},
     "output_type": "execute_result"
    }
   ],
   "source": [
    "myarray[(1,2), (0,1), (0,2)]"
   ]
  },
  {
   "cell_type": "markdown",
   "metadata": {},
   "source": [
    "This is the same as doing"
   ]
  },
  {
   "cell_type": "code",
   "execution_count": 178,
   "metadata": {
    "ExecuteTime": {
     "end_time": "2024-01-18T11:59:27.285972863Z",
     "start_time": "2024-01-18T11:59:27.238950498Z"
    }
   },
   "outputs": [
    {
     "data": {
      "text/plain": "array([ 7, 18])"
     },
     "execution_count": 178,
     "metadata": {},
     "output_type": "execute_result"
    }
   ],
   "source": [
    "np.array([myarray[1,0,0], myarray[2,1,2]])"
   ]
  },
  {
   "cell_type": "markdown",
   "metadata": {},
   "source": [
    "This is a frequent source of confusion, as people often expect this to create a 2×2×2 array, like this. (You don't have to double-check the indices. I got them right.)"
   ]
  },
  {
   "cell_type": "code",
   "execution_count": 179,
   "metadata": {
    "ExecuteTime": {
     "end_time": "2024-01-18T11:59:27.304380038Z",
     "start_time": "2024-01-18T11:59:27.284848519Z"
    }
   },
   "outputs": [
    {
     "data": {
      "text/plain": "array([[[ 7,  9],\n        [10, 12]],\n\n       [[13, 15],\n        [16, 18]]])"
     },
     "execution_count": 179,
     "metadata": {},
     "output_type": "execute_result"
    }
   ],
   "source": [
    "np.array([[[myarray[1,0,0], myarray[1,0,2]],\n",
    "           [myarray[1,1,0], myarray[1,1,2]]],\n",
    "          [[myarray[2,0,0], myarray[2,0,2]],\n",
    "           [myarray[2,1,0], myarray[2,1,2]]]])"
   ]
  },
  {
   "cell_type": "markdown",
   "metadata": {},
   "source": [
    "To do this, you can use the `np.ix_` function, so named because of no conceivable reason whatsoever."
   ]
  },
  {
   "cell_type": "code",
   "execution_count": 180,
   "metadata": {
    "ExecuteTime": {
     "end_time": "2024-01-18T11:59:27.311888893Z",
     "start_time": "2024-01-18T11:59:27.298710673Z"
    }
   },
   "outputs": [
    {
     "data": {
      "text/plain": "array([[[ 7,  9],\n        [10, 12]],\n\n       [[13, 15],\n        [16, 18]]])"
     },
     "execution_count": 180,
     "metadata": {},
     "output_type": "execute_result"
    }
   ],
   "source": [
    "myarray[np.ix_((1,2), (0,1), (0,2))]"
   ]
  },
  {
   "cell_type": "markdown",
   "metadata": {},
   "source": [
    "## Miscellaneous array manipulation"
   ]
  },
  {
   "cell_type": "markdown",
   "metadata": {},
   "source": [
    "In what follows I will try to present a grab-bag of useful tricks when it comes to dealing with arrays. This list is colored by experience, essentially a \"best of\" of my Google search history of things I always need to look up to remember how it works. I hope that by creating this list, you will need to do less googling during this course."
   ]
  },
  {
   "cell_type": "code",
   "execution_count": 181,
   "metadata": {
    "ExecuteTime": {
     "end_time": "2024-01-18T11:59:27.353130573Z",
     "start_time": "2024-01-18T11:59:27.310763211Z"
    }
   },
   "outputs": [
    {
     "data": {
      "text/plain": "3"
     },
     "execution_count": 181,
     "metadata": {},
     "output_type": "execute_result"
    }
   ],
   "source": [
    "# Number of dimensions of an array\n",
    "myarray.ndim"
   ]
  },
  {
   "cell_type": "code",
   "execution_count": 182,
   "metadata": {
    "ExecuteTime": {
     "end_time": "2024-01-18T11:59:27.379697913Z",
     "start_time": "2024-01-18T11:59:27.351948163Z"
    }
   },
   "outputs": [
    {
     "data": {
      "text/plain": "24"
     },
     "execution_count": 182,
     "metadata": {},
     "output_type": "execute_result"
    }
   ],
   "source": [
    "# Number of elements of an array (product of the lengths of each dimension)\n",
    "myarray.size"
   ]
  },
  {
   "cell_type": "code",
   "execution_count": 183,
   "metadata": {
    "ExecuteTime": {
     "end_time": "2024-01-18T11:59:27.388215439Z",
     "start_time": "2024-01-18T11:59:27.366011630Z"
    }
   },
   "outputs": [
    {
     "data": {
      "text/plain": "array([ 1,  2,  3,  4,  5,  6,  7,  8,  9, 10, 11, 12, 13, 14, 15, 16, 17,\n       18, 19, 20, 21, 22, 23, 24])"
     },
     "execution_count": 183,
     "metadata": {},
     "output_type": "execute_result"
    }
   ],
   "source": [
    "# Flattening an array to a vector\n",
    "myarray.flatten()"
   ]
  },
  {
   "cell_type": "code",
   "execution_count": 184,
   "metadata": {
    "ExecuteTime": {
     "end_time": "2024-01-18T11:59:27.423160112Z",
     "start_time": "2024-01-18T11:59:27.386950901Z"
    }
   },
   "outputs": [
    {
     "data": {
      "text/plain": "4"
     },
     "execution_count": 184,
     "metadata": {},
     "output_type": "execute_result"
    }
   ],
   "source": [
    "# Flat (single-dimensional) indexing\n",
    "myarray.flat[3] "
   ]
  },
  {
   "cell_type": "code",
   "execution_count": 185,
   "metadata": {
    "ExecuteTime": {
     "end_time": "2024-01-18T11:59:27.435013530Z",
     "start_time": "2024-01-18T11:59:27.421988288Z"
    }
   },
   "outputs": [
    {
     "data": {
      "text/plain": "(5, 2)"
     },
     "execution_count": 185,
     "metadata": {},
     "output_type": "execute_result"
    }
   ],
   "source": [
    "# Vertical stacking (along the first dimension)\n",
    "np.vstack([np.ones((3,2)), np.ones((2,2))]).shape"
   ]
  },
  {
   "cell_type": "code",
   "execution_count": 186,
   "metadata": {
    "ExecuteTime": {
     "end_time": "2024-01-18T11:59:27.442289944Z",
     "start_time": "2024-01-18T11:59:27.433858528Z"
    }
   },
   "outputs": [
    {
     "data": {
      "text/plain": "(2, 5)"
     },
     "execution_count": 186,
     "metadata": {},
     "output_type": "execute_result"
    }
   ],
   "source": [
    "# Horizontal stacking (along the second dimension)\n",
    "np.hstack([np.ones((2,3)), np.ones((2,2))]).shape"
   ]
  },
  {
   "cell_type": "code",
   "execution_count": 187,
   "metadata": {
    "ExecuteTime": {
     "end_time": "2024-01-18T11:59:27.452707471Z",
     "start_time": "2024-01-18T11:59:27.441113953Z"
    }
   },
   "outputs": [
    {
     "data": {
      "text/plain": "(1, 2, 8)"
     },
     "execution_count": 187,
     "metadata": {},
     "output_type": "execute_result"
    }
   ],
   "source": [
    "# Stacking along an arbitrary dimension, note that np.stack does something else!!!\n",
    "np.concatenate([np.ones((1,2,3)), np.ones((1,2,5))], axis=2).shape"
   ]
  },
  {
   "cell_type": "code",
   "execution_count": 188,
   "metadata": {
    "ExecuteTime": {
     "end_time": "2024-01-18T11:59:27.481577427Z",
     "start_time": "2024-01-18T11:59:27.451644346Z"
    }
   },
   "outputs": [
    {
     "data": {
      "text/plain": "array([[[ True, False, False],\n        [False, False, False]],\n\n       [[False, False, False],\n        [False, False, False]],\n\n       [[False, False, False],\n        [False, False, False]],\n\n       [[False, False, False],\n        [False, False, False]]])"
     },
     "execution_count": 188,
     "metadata": {},
     "output_type": "execute_result"
    }
   ],
   "source": [
    "# Elementwise comparison\n",
    "myarray == 1"
   ]
  },
  {
   "cell_type": "code",
   "execution_count": 189,
   "metadata": {
    "ExecuteTime": {
     "end_time": "2024-01-18T11:59:27.492972012Z",
     "start_time": "2024-01-18T11:59:27.474978101Z"
    }
   },
   "outputs": [
    {
     "data": {
      "text/plain": "True"
     },
     "execution_count": 189,
     "metadata": {},
     "output_type": "execute_result"
    }
   ],
   "source": [
    "# Use .any() or .all() to compress to a single boolean\n",
    "(myarray == 1).any()"
   ]
  },
  {
   "cell_type": "code",
   "execution_count": 190,
   "metadata": {
    "ExecuteTime": {
     "end_time": "2024-01-18T11:59:27.503684375Z",
     "start_time": "2024-01-18T11:59:27.491842387Z"
    }
   },
   "outputs": [
    {
     "data": {
      "text/plain": "False"
     },
     "execution_count": 190,
     "metadata": {},
     "output_type": "execute_result"
    }
   ],
   "source": [
    "(myarray == 1).all()"
   ]
  },
  {
   "cell_type": "code",
   "execution_count": 191,
   "metadata": {
    "ExecuteTime": {
     "end_time": "2024-01-18T11:59:27.531260401Z",
     "start_time": "2024-01-18T11:59:27.502563004Z"
    }
   },
   "outputs": [
    {
     "data": {
      "text/plain": "True"
     },
     "execution_count": 191,
     "metadata": {},
     "output_type": "execute_result"
    }
   ],
   "source": [
    "(myarray > 0).all()"
   ]
  },
  {
   "cell_type": "code",
   "execution_count": 192,
   "metadata": {
    "ExecuteTime": {
     "end_time": "2024-01-18T11:59:27.548015959Z",
     "start_time": "2024-01-18T11:59:27.530172302Z"
    }
   },
   "outputs": [
    {
     "data": {
      "text/plain": "array([[[ 1,  2],\n        [ 3,  4],\n        [ 5,  6],\n        [ 7,  8]],\n\n       [[ 9, 10],\n        [11, 12],\n        [13, 14],\n        [15, 16]],\n\n       [[17, 18],\n        [19, 20],\n        [21, 22],\n        [23, 24]]])"
     },
     "execution_count": 192,
     "metadata": {},
     "output_type": "execute_result"
    }
   ],
   "source": [
    "# Reshaping an array (you need to ensure that the total size is the same)\n",
    "myarray.reshape((3,4,2))"
   ]
  },
  {
   "cell_type": "code",
   "execution_count": 193,
   "metadata": {
    "ExecuteTime": {
     "end_time": "2024-01-18T11:59:27.554974656Z",
     "start_time": "2024-01-18T11:59:27.542881215Z"
    }
   },
   "outputs": [
    {
     "data": {
      "text/plain": "True"
     },
     "execution_count": 193,
     "metadata": {},
     "output_type": "execute_result"
    }
   ],
   "source": [
    "# Note that reshaping respects the same order as .flatten(), i.e. the following is true\n",
    "(myarray.reshape((3,4,2)).flatten() == myarray.flatten()).all()"
   ]
  },
  {
   "cell_type": "code",
   "execution_count": 194,
   "metadata": {
    "ExecuteTime": {
     "end_time": "2024-01-18T11:59:27.582638312Z",
     "start_time": "2024-01-18T11:59:27.553865202Z"
    }
   },
   "outputs": [
    {
     "data": {
      "text/plain": "(4, 1, 2, 3)"
     },
     "execution_count": 194,
     "metadata": {},
     "output_type": "execute_result"
    }
   ],
   "source": [
    "# Add new singleton dimensions to an array by using np.newaxis\n",
    "myarray[:,np.newaxis,...].shape"
   ]
  },
  {
   "cell_type": "code",
   "execution_count": 195,
   "metadata": {
    "ExecuteTime": {
     "end_time": "2024-01-18T11:59:27.594982974Z",
     "start_time": "2024-01-18T11:59:27.581590985Z"
    }
   },
   "outputs": [
    {
     "data": {
      "text/plain": "(4, 1, 2, 3)"
     },
     "execution_count": 195,
     "metadata": {},
     "output_type": "execute_result"
    }
   ],
   "source": [
    "# This is common\n",
    "_ = np.newaxis\n",
    "myarray[:,_,...].shape"
   ]
  },
  {
   "cell_type": "code",
   "execution_count": 196,
   "metadata": {
    "ExecuteTime": {
     "end_time": "2024-01-18T11:59:27.606151773Z",
     "start_time": "2024-01-18T11:59:27.593847862Z"
    }
   },
   "outputs": [
    {
     "data": {
      "text/plain": "array([[40, 44, 48],\n       [52, 56, 60]])"
     },
     "execution_count": 196,
     "metadata": {},
     "output_type": "execute_result"
    }
   ],
   "source": [
    "# Sum along an axis\n",
    "myarray.sum(0)"
   ]
  },
  {
   "cell_type": "code",
   "execution_count": 197,
   "metadata": {
    "ExecuteTime": {
     "end_time": "2024-01-18T11:59:27.634155535Z",
     "start_time": "2024-01-18T11:59:27.604949483Z"
    }
   },
   "outputs": [
    {
     "data": {
      "text/plain": "array([ 92, 100, 108])"
     },
     "execution_count": 197,
     "metadata": {},
     "output_type": "execute_result"
    }
   ],
   "source": [
    "# Or along multiple axes\n",
    "myarray.sum((0, 1))"
   ]
  },
  {
   "cell_type": "code",
   "execution_count": 198,
   "metadata": {
    "ExecuteTime": {
     "end_time": "2024-01-18T11:59:27.658519475Z",
     "start_time": "2024-01-18T11:59:27.633121661Z"
    }
   },
   "outputs": [
    {
     "data": {
      "text/plain": "array([ 24344320,  96342400, 264539520])"
     },
     "execution_count": 198,
     "metadata": {},
     "output_type": "execute_result"
    }
   ],
   "source": [
    "# Product also works\n",
    "myarray.prod((0, 1))"
   ]
  },
  {
   "cell_type": "code",
   "execution_count": 199,
   "metadata": {
    "ExecuteTime": {
     "end_time": "2024-01-18T11:59:27.666005126Z",
     "start_time": "2024-01-18T11:59:27.646094239Z"
    }
   },
   "outputs": [
    {
     "data": {
      "text/plain": "array([[[ 1,  2,  3],\n        [ 4,  5,  6]],\n\n       [[ 8, 10, 12],\n        [14, 16, 18]],\n\n       [[21, 24, 27],\n        [30, 33, 36]],\n\n       [[40, 44, 48],\n        [52, 56, 60]]])"
     },
     "execution_count": 199,
     "metadata": {},
     "output_type": "execute_result"
    }
   ],
   "source": [
    "# Cumulative sums and products\n",
    "myarray.cumsum(0)"
   ]
  },
  {
   "cell_type": "code",
   "execution_count": 200,
   "metadata": {
    "ExecuteTime": {
     "end_time": "2024-01-18T11:59:27.694043639Z",
     "start_time": "2024-01-18T11:59:27.664844887Z"
    }
   },
   "outputs": [
    {
     "data": {
      "text/plain": "array([ 1,  3,  5,  7,  9, 11, 13, 15, 17])"
     },
     "execution_count": 200,
     "metadata": {},
     "output_type": "execute_result"
    }
   ],
   "source": [
    "# Differencing\n",
    "np.diff(np.arange(10)**2)"
   ]
  },
  {
   "cell_type": "code",
   "execution_count": 201,
   "metadata": {
    "ExecuteTime": {
     "end_time": "2024-01-18T11:59:27.705151Z",
     "start_time": "2024-01-18T11:59:27.688230437Z"
    }
   },
   "outputs": [
    {
     "data": {
      "text/plain": "(3, 2, 4)"
     },
     "execution_count": 201,
     "metadata": {},
     "output_type": "execute_result"
    }
   ],
   "source": [
    "# Transposition generally inverts the order of the dimensions\n",
    "myarray.T.shape"
   ]
  },
  {
   "cell_type": "code",
   "execution_count": 202,
   "metadata": {
    "ExecuteTime": {
     "end_time": "2024-01-18T11:59:27.712525661Z",
     "start_time": "2024-01-18T11:59:27.703999864Z"
    }
   },
   "outputs": [
    {
     "data": {
      "text/plain": "(4, 3, 2)"
     },
     "execution_count": 202,
     "metadata": {},
     "output_type": "execute_result"
    }
   ],
   "source": [
    "# More complex reordering can be done with .transpose(). For example, to swap the last two dimensions:\n",
    "myarray.transpose((0,2,1)).shape"
   ]
  },
  {
   "cell_type": "code",
   "execution_count": 203,
   "metadata": {
    "ExecuteTime": {
     "end_time": "2024-01-18T11:59:27.735377749Z",
     "start_time": "2024-01-18T11:59:27.711403109Z"
    }
   },
   "outputs": [
    {
     "data": {
      "text/plain": "(4, 1, 1, 2, 1, 3, 1)"
     },
     "execution_count": 203,
     "metadata": {},
     "output_type": "execute_result"
    }
   ],
   "source": [
    "# np.squeeze removes singleton dimensions\n",
    "test = myarray[:,_,_,:,_,:,_]\n",
    "test.shape"
   ]
  },
  {
   "cell_type": "code",
   "execution_count": 204,
   "metadata": {
    "ExecuteTime": {
     "end_time": "2024-01-18T11:59:27.752160200Z",
     "start_time": "2024-01-18T11:59:27.734201669Z"
    }
   },
   "outputs": [
    {
     "data": {
      "text/plain": "(4, 2, 3)"
     },
     "execution_count": 204,
     "metadata": {},
     "output_type": "execute_result"
    }
   ],
   "source": [
    "np.squeeze(test).shape"
   ]
  },
  {
   "cell_type": "code",
   "execution_count": 205,
   "metadata": {
    "ExecuteTime": {
     "end_time": "2024-01-18T11:59:27.762933785Z",
     "start_time": "2024-01-18T11:59:27.746790522Z"
    }
   },
   "outputs": [
    {
     "data": {
      "text/plain": "(array([1, 1, 2, 2, 2, 2, 2, 2, 3, 3, 3, 3, 3, 3]),\n array([1, 1, 0, 0, 0, 1, 1, 1, 0, 0, 0, 1, 1, 1]),\n array([1, 2, 0, 1, 2, 0, 1, 2, 0, 1, 2, 0, 1, 2]))"
     },
     "execution_count": 205,
     "metadata": {},
     "output_type": "execute_result"
    }
   ],
   "source": [
    "# You can use np.where to filter an array, for example this returns a tuple of indexes where a condition holds.\n",
    "np.where(myarray > 10)"
   ]
  },
  {
   "cell_type": "code",
   "execution_count": 206,
   "metadata": {
    "ExecuteTime": {
     "end_time": "2024-01-18T11:59:27.789613010Z",
     "start_time": "2024-01-18T11:59:27.761876734Z"
    }
   },
   "outputs": [
    {
     "data": {
      "text/plain": "array([11, 12, 13, 14, 15, 16, 17, 18, 19, 20, 21, 22, 23, 24])"
     },
     "execution_count": 206,
     "metadata": {},
     "output_type": "execute_result"
    }
   ],
   "source": [
    "# That tuple can be used as an index itself, remember?\n",
    "myarray[np.where(myarray > 10)]"
   ]
  },
  {
   "cell_type": "markdown",
   "metadata": {},
   "source": [
    "Note that this trick in general will return a flat array, since there's no way of knowing whether the elements for which the condition is true will have a suitable multidimensional array-like structure. However, we can use `np.where` with three arguments to do this:"
   ]
  },
  {
   "cell_type": "code",
   "execution_count": 207,
   "metadata": {
    "ExecuteTime": {
     "end_time": "2024-01-18T11:59:27.802487258Z",
     "start_time": "2024-01-18T11:59:27.788636061Z"
    }
   },
   "outputs": [
    {
     "data": {
      "text/plain": "array([[[-1, -1, -1],\n        [-1, -1, -1]],\n\n       [[-1, -1, -1],\n        [-1, 11, 12]],\n\n       [[13, 14, 15],\n        [16, 17, 18]],\n\n       [[19, 20, 21],\n        [22, 23, 24]]])"
     },
     "execution_count": 207,
     "metadata": {},
     "output_type": "execute_result"
    }
   ],
   "source": [
    "np.where(myarray > 10, myarray, -1)"
   ]
  },
  {
   "cell_type": "markdown",
   "metadata": {},
   "source": [
    "The first argument is a condition. For the entries where the condition is true, elements are chosen from the second argument, otherwise the third. Like for general broadcasting, the shapes of the arguments must be compatible to make this work."
   ]
  },
  {
   "cell_type": "markdown",
   "metadata": {},
   "source": [
    "The best way to save arrays to disk is to use `np.save` and `np.load`."
   ]
  },
  {
   "cell_type": "code",
   "execution_count": 208,
   "metadata": {
    "ExecuteTime": {
     "end_time": "2024-01-18T11:59:27.837526825Z",
     "start_time": "2024-01-18T11:59:27.829444857Z"
    }
   },
   "outputs": [
    {
     "data": {
      "text/plain": "True"
     },
     "execution_count": 208,
     "metadata": {},
     "output_type": "execute_result"
    }
   ],
   "source": [
    "np.save('filename.npy', myarray)\n",
    "test = np.load('filename.npy')\n",
    "(myarray == test).all()"
   ]
  },
  {
   "cell_type": "markdown",
   "metadata": {},
   "source": [
    "The second best way to save arrays to disk is to use `np.savetxt` and `np.loadtxt`. As the name suggests, these files are readable by humans."
   ]
  }
 ],
 "metadata": {
  "kernelspec": {
   "display_name": "Python 3",
   "language": "python",
   "name": "python3"
  },
  "language_info": {
   "codemirror_mode": {
    "name": "ipython",
    "version": 3
   },
   "file_extension": ".py",
   "mimetype": "text/x-python",
   "name": "python",
   "nbconvert_exporter": "python",
   "pygments_lexer": "ipython3",
   "version": "3.9.12"
  }
 },
 "nbformat": 4,
 "nbformat_minor": 2
}
