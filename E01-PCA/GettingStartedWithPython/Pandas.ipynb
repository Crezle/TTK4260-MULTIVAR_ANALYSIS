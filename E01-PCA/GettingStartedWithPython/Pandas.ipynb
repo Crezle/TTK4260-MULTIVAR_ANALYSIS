{
 "cells": [
  {
   "cell_type": "markdown",
   "metadata": {},
   "source": [
    "# Pandas"
   ]
  },
  {
   "cell_type": "markdown",
   "metadata": {},
   "source": [
    "# Pandas"
   ]
  },
  {
   "cell_type": "markdown",
   "metadata": {},
   "source": [
    "*Pandas* is the premier Python package for data analysis. Pandas is built around the concept of *series* (akin to Numpy vectors) and *data frames* (akin to Numpy matrices). Unlike their Numpy counterparts, Pandas has a rich API that often makes series and data frames more convenient to work with.\n",
    "\n",
    "The source data we will be playing around with are weather measurements in Montreal in 2012. As is typical, the data is found in a CSV-file (comma-separated values). Pandas has an incredibly useful `read_csv` function.\n",
    "\n",
    "First though, let's import Pandas. Conventionally it is given the name `pd`."
   ]
  },
  {
   "cell_type": "code",
   "execution_count": 1,
   "metadata": {
    "collapsed": true,
    "ExecuteTime": {
     "end_time": "2024-01-18T12:01:01.360131886Z",
     "start_time": "2024-01-18T12:01:01.073907454Z"
    }
   },
   "outputs": [],
   "source": [
    "%matplotlib inline\n",
    "import pandas as pd\n",
    "import numpy as np\n",
    "from matplotlib import pyplot as plt"
   ]
  },
  {
   "cell_type": "markdown",
   "metadata": {},
   "source": [
    "Now let us read the CSV file and display it."
   ]
  },
  {
   "cell_type": "code",
   "execution_count": 2,
   "metadata": {
    "ExecuteTime": {
     "end_time": "2024-01-18T12:01:01.406145549Z",
     "start_time": "2024-01-18T12:01:01.405345247Z"
    }
   },
   "outputs": [
    {
     "data": {
      "text/plain": "             Date/Time  Temp (C)  Dew Point Temp (C)  Rel Hum (%)  \\\n0  2012-01-01 00:00:00      -1.8                -3.9           86   \n1  2012-01-01 01:00:00      -1.8                -3.7           87   \n2  2012-01-01 02:00:00      -1.8                -3.4           89   \n3  2012-01-01 03:00:00      -1.5                -3.2           88   \n4  2012-01-01 04:00:00      -1.5                -3.3           88   \n\n   Wind Spd (km/h)  Visibility (km)  Stn Press (kPa)               Weather  \n0                4              8.0           101.24                   Fog  \n1                4              8.0           101.24                   Fog  \n2                7              4.0           101.26  Freezing Drizzle,Fog  \n3                6              4.0           101.27  Freezing Drizzle,Fog  \n4                7              4.8           101.23                   Fog  ",
      "text/html": "<div>\n<style scoped>\n    .dataframe tbody tr th:only-of-type {\n        vertical-align: middle;\n    }\n\n    .dataframe tbody tr th {\n        vertical-align: top;\n    }\n\n    .dataframe thead th {\n        text-align: right;\n    }\n</style>\n<table border=\"1\" class=\"dataframe\">\n  <thead>\n    <tr style=\"text-align: right;\">\n      <th></th>\n      <th>Date/Time</th>\n      <th>Temp (C)</th>\n      <th>Dew Point Temp (C)</th>\n      <th>Rel Hum (%)</th>\n      <th>Wind Spd (km/h)</th>\n      <th>Visibility (km)</th>\n      <th>Stn Press (kPa)</th>\n      <th>Weather</th>\n    </tr>\n  </thead>\n  <tbody>\n    <tr>\n      <th>0</th>\n      <td>2012-01-01 00:00:00</td>\n      <td>-1.8</td>\n      <td>-3.9</td>\n      <td>86</td>\n      <td>4</td>\n      <td>8.0</td>\n      <td>101.24</td>\n      <td>Fog</td>\n    </tr>\n    <tr>\n      <th>1</th>\n      <td>2012-01-01 01:00:00</td>\n      <td>-1.8</td>\n      <td>-3.7</td>\n      <td>87</td>\n      <td>4</td>\n      <td>8.0</td>\n      <td>101.24</td>\n      <td>Fog</td>\n    </tr>\n    <tr>\n      <th>2</th>\n      <td>2012-01-01 02:00:00</td>\n      <td>-1.8</td>\n      <td>-3.4</td>\n      <td>89</td>\n      <td>7</td>\n      <td>4.0</td>\n      <td>101.26</td>\n      <td>Freezing Drizzle,Fog</td>\n    </tr>\n    <tr>\n      <th>3</th>\n      <td>2012-01-01 03:00:00</td>\n      <td>-1.5</td>\n      <td>-3.2</td>\n      <td>88</td>\n      <td>6</td>\n      <td>4.0</td>\n      <td>101.27</td>\n      <td>Freezing Drizzle,Fog</td>\n    </tr>\n    <tr>\n      <th>4</th>\n      <td>2012-01-01 04:00:00</td>\n      <td>-1.5</td>\n      <td>-3.3</td>\n      <td>88</td>\n      <td>7</td>\n      <td>4.8</td>\n      <td>101.23</td>\n      <td>Fog</td>\n    </tr>\n  </tbody>\n</table>\n</div>"
     },
     "execution_count": 2,
     "metadata": {},
     "output_type": "execute_result"
    }
   ],
   "source": [
    "data = pd.read_csv('data/Montreal.csv')\n",
    "data.head()"
   ]
  },
  {
   "cell_type": "markdown",
   "metadata": {},
   "source": [
    "As you can see, Jupyter notebooks have nice integration with Pandas allowing us to see dataframes displayed like actual human data.\n",
    "\n",
    "Every data frame has an *index* and a number of *columns*. It's useful to double-check after reading a CSV file to ensure that everything is up to scratch. (I maybe don't need to tell you this, but there are **A LOT** of shady CSV files out there.)"
   ]
  },
  {
   "cell_type": "code",
   "execution_count": 3,
   "metadata": {
    "ExecuteTime": {
     "end_time": "2024-01-18T12:01:01.406625089Z",
     "start_time": "2024-01-18T12:01:01.405475512Z"
    }
   },
   "outputs": [
    {
     "data": {
      "text/plain": "RangeIndex(start=0, stop=8784, step=1)"
     },
     "execution_count": 3,
     "metadata": {},
     "output_type": "execute_result"
    }
   ],
   "source": [
    "data.index"
   ]
  },
  {
   "cell_type": "code",
   "execution_count": 4,
   "metadata": {
    "ExecuteTime": {
     "end_time": "2024-01-18T12:01:01.407035622Z",
     "start_time": "2024-01-18T12:01:01.405515612Z"
    }
   },
   "outputs": [
    {
     "data": {
      "text/plain": "Date/Time              object\nTemp (C)              float64\nDew Point Temp (C)    float64\nRel Hum (%)             int64\nWind Spd (km/h)         int64\nVisibility (km)       float64\nStn Press (kPa)       float64\nWeather                object\ndtype: object"
     },
     "execution_count": 4,
     "metadata": {},
     "output_type": "execute_result"
    }
   ],
   "source": [
    "data.dtypes"
   ]
  },
  {
   "cell_type": "markdown",
   "metadata": {},
   "source": [
    "This looks mostly okay, except that we would like our data-frame to be indexed by the date and time, rather than by a number that doesn't really mean that much to us. Let's fix that."
   ]
  },
  {
   "cell_type": "code",
   "execution_count": 5,
   "metadata": {
    "ExecuteTime": {
     "end_time": "2024-01-18T12:01:01.420625612Z",
     "start_time": "2024-01-18T12:01:01.405546487Z"
    }
   },
   "outputs": [
    {
     "data": {
      "text/plain": "DatetimeIndex(['2012-01-01 00:00:00', '2012-01-01 01:00:00',\n               '2012-01-01 02:00:00', '2012-01-01 03:00:00',\n               '2012-01-01 04:00:00', '2012-01-01 05:00:00',\n               '2012-01-01 06:00:00', '2012-01-01 07:00:00',\n               '2012-01-01 08:00:00', '2012-01-01 09:00:00',\n               ...\n               '2012-12-31 14:00:00', '2012-12-31 15:00:00',\n               '2012-12-31 16:00:00', '2012-12-31 17:00:00',\n               '2012-12-31 18:00:00', '2012-12-31 19:00:00',\n               '2012-12-31 20:00:00', '2012-12-31 21:00:00',\n               '2012-12-31 22:00:00', '2012-12-31 23:00:00'],\n              dtype='datetime64[ns]', name='Date/Time', length=8784, freq=None)"
     },
     "execution_count": 5,
     "metadata": {},
     "output_type": "execute_result"
    }
   ],
   "source": [
    "data = pd.read_csv('data/Montreal.csv', index_col='Date/Time', parse_dates=['Date/Time'])\n",
    "data.index"
   ]
  },
  {
   "cell_type": "markdown",
   "metadata": {},
   "source": [
    "As you can see, the index is now a `DateTimeIndex`, and Pandas was able to parse the dates automatically for us."
   ]
  },
  {
   "cell_type": "markdown",
   "metadata": {},
   "source": [
    "If you like, it's always possible to access the back-end Numpy arrays that Pandas use to store its data. For example:"
   ]
  },
  {
   "cell_type": "code",
   "execution_count": 6,
   "metadata": {
    "ExecuteTime": {
     "end_time": "2024-01-18T12:01:01.423222761Z",
     "start_time": "2024-01-18T12:01:01.420966926Z"
    }
   },
   "outputs": [
    {
     "data": {
      "text/plain": "Timestamp('2012-01-01 00:00:00')"
     },
     "execution_count": 6,
     "metadata": {},
     "output_type": "execute_result"
    }
   ],
   "source": [
    "data.index[0]"
   ]
  },
  {
   "cell_type": "code",
   "execution_count": 7,
   "metadata": {
    "ExecuteTime": {
     "end_time": "2024-01-18T12:01:01.425303168Z",
     "start_time": "2024-01-18T12:01:01.422801514Z"
    }
   },
   "outputs": [
    {
     "data": {
      "text/plain": "array([[-1.8, -3.9, 86, ..., 8.0, 101.24, 'Fog'],\n       [-1.8, -3.7, 87, ..., 8.0, 101.24, 'Fog'],\n       [-1.8, -3.4, 89, ..., 4.0, 101.26, 'Freezing Drizzle,Fog'],\n       ...,\n       [-0.5, -1.5, 93, ..., 4.8, 99.95, 'Snow'],\n       [-0.2, -1.8, 89, ..., 9.7, 99.91, 'Snow'],\n       [0.0, -2.1, 86, ..., 11.3, 99.89, 'Snow']], dtype=object)"
     },
     "execution_count": 7,
     "metadata": {},
     "output_type": "execute_result"
    }
   ],
   "source": [
    "data.values"
   ]
  },
  {
   "cell_type": "markdown",
   "metadata": {},
   "source": [
    "As you can see, the data type of `data.values` is `object`, because our data is heterogeneous (it's a mix of numbers and strings). This makes working with the Numpy array directly somewhat awkward. On the other hand, Pandas seamlessly deals with columns of different types."
   ]
  },
  {
   "cell_type": "markdown",
   "metadata": {},
   "source": [
    "Pandas lets us grab specific columns,"
   ]
  },
  {
   "cell_type": "code",
   "execution_count": 8,
   "metadata": {
    "ExecuteTime": {
     "end_time": "2024-01-18T12:01:01.494159154Z",
     "start_time": "2024-01-18T12:01:01.427034402Z"
    }
   },
   "outputs": [
    {
     "data": {
      "text/plain": "Date/Time\n2012-01-01 00:00:00   -1.8\n2012-01-01 01:00:00   -1.8\n2012-01-01 02:00:00   -1.8\n2012-01-01 03:00:00   -1.5\n2012-01-01 04:00:00   -1.5\n                      ... \n2012-12-31 19:00:00    0.1\n2012-12-31 20:00:00    0.2\n2012-12-31 21:00:00   -0.5\n2012-12-31 22:00:00   -0.2\n2012-12-31 23:00:00    0.0\nName: Temp (C), Length: 8784, dtype: float64"
     },
     "execution_count": 8,
     "metadata": {},
     "output_type": "execute_result"
    }
   ],
   "source": [
    "data['Temp (C)']"
   ]
  },
  {
   "cell_type": "markdown",
   "metadata": {},
   "source": [
    "Or rows,"
   ]
  },
  {
   "cell_type": "code",
   "execution_count": 9,
   "metadata": {
    "ExecuteTime": {
     "end_time": "2024-01-18T12:01:01.494928720Z",
     "start_time": "2024-01-18T12:01:01.469496423Z"
    }
   },
   "outputs": [
    {
     "data": {
      "text/plain": "                     Temp (C)  Dew Point Temp (C)  Rel Hum (%)  \\\nDate/Time                                                        \n2012-01-01 00:00:00      -1.8                -3.9           86   \n2012-01-01 01:00:00      -1.8                -3.7           87   \n2012-01-01 02:00:00      -1.8                -3.4           89   \n2012-01-01 03:00:00      -1.5                -3.2           88   \n2012-01-01 04:00:00      -1.5                -3.3           88   \n\n                     Wind Spd (km/h)  Visibility (km)  Stn Press (kPa)  \\\nDate/Time                                                                \n2012-01-01 00:00:00                4              8.0           101.24   \n2012-01-01 01:00:00                4              8.0           101.24   \n2012-01-01 02:00:00                7              4.0           101.26   \n2012-01-01 03:00:00                6              4.0           101.27   \n2012-01-01 04:00:00                7              4.8           101.23   \n\n                                  Weather  \nDate/Time                                  \n2012-01-01 00:00:00                   Fog  \n2012-01-01 01:00:00                   Fog  \n2012-01-01 02:00:00  Freezing Drizzle,Fog  \n2012-01-01 03:00:00  Freezing Drizzle,Fog  \n2012-01-01 04:00:00                   Fog  ",
      "text/html": "<div>\n<style scoped>\n    .dataframe tbody tr th:only-of-type {\n        vertical-align: middle;\n    }\n\n    .dataframe tbody tr th {\n        vertical-align: top;\n    }\n\n    .dataframe thead th {\n        text-align: right;\n    }\n</style>\n<table border=\"1\" class=\"dataframe\">\n  <thead>\n    <tr style=\"text-align: right;\">\n      <th></th>\n      <th>Temp (C)</th>\n      <th>Dew Point Temp (C)</th>\n      <th>Rel Hum (%)</th>\n      <th>Wind Spd (km/h)</th>\n      <th>Visibility (km)</th>\n      <th>Stn Press (kPa)</th>\n      <th>Weather</th>\n    </tr>\n    <tr>\n      <th>Date/Time</th>\n      <th></th>\n      <th></th>\n      <th></th>\n      <th></th>\n      <th></th>\n      <th></th>\n      <th></th>\n    </tr>\n  </thead>\n  <tbody>\n    <tr>\n      <th>2012-01-01 00:00:00</th>\n      <td>-1.8</td>\n      <td>-3.9</td>\n      <td>86</td>\n      <td>4</td>\n      <td>8.0</td>\n      <td>101.24</td>\n      <td>Fog</td>\n    </tr>\n    <tr>\n      <th>2012-01-01 01:00:00</th>\n      <td>-1.8</td>\n      <td>-3.7</td>\n      <td>87</td>\n      <td>4</td>\n      <td>8.0</td>\n      <td>101.24</td>\n      <td>Fog</td>\n    </tr>\n    <tr>\n      <th>2012-01-01 02:00:00</th>\n      <td>-1.8</td>\n      <td>-3.4</td>\n      <td>89</td>\n      <td>7</td>\n      <td>4.0</td>\n      <td>101.26</td>\n      <td>Freezing Drizzle,Fog</td>\n    </tr>\n    <tr>\n      <th>2012-01-01 03:00:00</th>\n      <td>-1.5</td>\n      <td>-3.2</td>\n      <td>88</td>\n      <td>6</td>\n      <td>4.0</td>\n      <td>101.27</td>\n      <td>Freezing Drizzle,Fog</td>\n    </tr>\n    <tr>\n      <th>2012-01-01 04:00:00</th>\n      <td>-1.5</td>\n      <td>-3.3</td>\n      <td>88</td>\n      <td>7</td>\n      <td>4.8</td>\n      <td>101.23</td>\n      <td>Fog</td>\n    </tr>\n  </tbody>\n</table>\n</div>"
     },
     "execution_count": 9,
     "metadata": {},
     "output_type": "execute_result"
    }
   ],
   "source": [
    "data[:5]"
   ]
  },
  {
   "cell_type": "markdown",
   "metadata": {},
   "source": [
    "Since the index is of datetime type, we can also do this, to grab the values from January."
   ]
  },
  {
   "cell_type": "code",
   "execution_count": 10,
   "metadata": {
    "ExecuteTime": {
     "end_time": "2024-01-18T12:01:01.495533322Z",
     "start_time": "2024-01-18T12:01:01.469571310Z"
    }
   },
   "outputs": [
    {
     "data": {
      "text/plain": "                     Temp (C)  Dew Point Temp (C)  Rel Hum (%)  \\\nDate/Time                                                        \n2012-01-01 00:00:00      -1.8                -3.9           86   \n2012-01-01 01:00:00      -1.8                -3.7           87   \n2012-01-01 02:00:00      -1.8                -3.4           89   \n2012-01-01 03:00:00      -1.5                -3.2           88   \n2012-01-01 04:00:00      -1.5                -3.3           88   \n...                       ...                 ...          ...   \n2012-01-31 19:00:00      -7.7               -10.9           78   \n2012-01-31 20:00:00      -7.4               -10.7           77   \n2012-01-31 21:00:00      -7.1               -10.5           77   \n2012-01-31 22:00:00      -7.1               -10.4           77   \n2012-01-31 23:00:00      -6.8                -9.9           79   \n\n                     Wind Spd (km/h)  Visibility (km)  Stn Press (kPa)  \\\nDate/Time                                                                \n2012-01-01 00:00:00                4              8.0           101.24   \n2012-01-01 01:00:00                4              8.0           101.24   \n2012-01-01 02:00:00                7              4.0           101.26   \n2012-01-01 03:00:00                6              4.0           101.27   \n2012-01-01 04:00:00                7              4.8           101.23   \n...                              ...              ...              ...   \n2012-01-31 19:00:00               19              1.6           101.14   \n2012-01-31 20:00:00               20              1.6           101.09   \n2012-01-31 21:00:00               20             12.9           101.02   \n2012-01-31 22:00:00               19              9.7           100.95   \n2012-01-31 23:00:00               22              9.7           100.86   \n\n                                   Weather  \nDate/Time                                   \n2012-01-01 00:00:00                    Fog  \n2012-01-01 01:00:00                    Fog  \n2012-01-01 02:00:00   Freezing Drizzle,Fog  \n2012-01-01 03:00:00   Freezing Drizzle,Fog  \n2012-01-01 04:00:00                    Fog  \n...                                    ...  \n2012-01-31 19:00:00                   Snow  \n2012-01-31 20:00:00                   Snow  \n2012-01-31 21:00:00                 Cloudy  \n2012-01-31 22:00:00                   Snow  \n2012-01-31 23:00:00  Freezing Drizzle,Snow  \n\n[744 rows x 7 columns]",
      "text/html": "<div>\n<style scoped>\n    .dataframe tbody tr th:only-of-type {\n        vertical-align: middle;\n    }\n\n    .dataframe tbody tr th {\n        vertical-align: top;\n    }\n\n    .dataframe thead th {\n        text-align: right;\n    }\n</style>\n<table border=\"1\" class=\"dataframe\">\n  <thead>\n    <tr style=\"text-align: right;\">\n      <th></th>\n      <th>Temp (C)</th>\n      <th>Dew Point Temp (C)</th>\n      <th>Rel Hum (%)</th>\n      <th>Wind Spd (km/h)</th>\n      <th>Visibility (km)</th>\n      <th>Stn Press (kPa)</th>\n      <th>Weather</th>\n    </tr>\n    <tr>\n      <th>Date/Time</th>\n      <th></th>\n      <th></th>\n      <th></th>\n      <th></th>\n      <th></th>\n      <th></th>\n      <th></th>\n    </tr>\n  </thead>\n  <tbody>\n    <tr>\n      <th>2012-01-01 00:00:00</th>\n      <td>-1.8</td>\n      <td>-3.9</td>\n      <td>86</td>\n      <td>4</td>\n      <td>8.0</td>\n      <td>101.24</td>\n      <td>Fog</td>\n    </tr>\n    <tr>\n      <th>2012-01-01 01:00:00</th>\n      <td>-1.8</td>\n      <td>-3.7</td>\n      <td>87</td>\n      <td>4</td>\n      <td>8.0</td>\n      <td>101.24</td>\n      <td>Fog</td>\n    </tr>\n    <tr>\n      <th>2012-01-01 02:00:00</th>\n      <td>-1.8</td>\n      <td>-3.4</td>\n      <td>89</td>\n      <td>7</td>\n      <td>4.0</td>\n      <td>101.26</td>\n      <td>Freezing Drizzle,Fog</td>\n    </tr>\n    <tr>\n      <th>2012-01-01 03:00:00</th>\n      <td>-1.5</td>\n      <td>-3.2</td>\n      <td>88</td>\n      <td>6</td>\n      <td>4.0</td>\n      <td>101.27</td>\n      <td>Freezing Drizzle,Fog</td>\n    </tr>\n    <tr>\n      <th>2012-01-01 04:00:00</th>\n      <td>-1.5</td>\n      <td>-3.3</td>\n      <td>88</td>\n      <td>7</td>\n      <td>4.8</td>\n      <td>101.23</td>\n      <td>Fog</td>\n    </tr>\n    <tr>\n      <th>...</th>\n      <td>...</td>\n      <td>...</td>\n      <td>...</td>\n      <td>...</td>\n      <td>...</td>\n      <td>...</td>\n      <td>...</td>\n    </tr>\n    <tr>\n      <th>2012-01-31 19:00:00</th>\n      <td>-7.7</td>\n      <td>-10.9</td>\n      <td>78</td>\n      <td>19</td>\n      <td>1.6</td>\n      <td>101.14</td>\n      <td>Snow</td>\n    </tr>\n    <tr>\n      <th>2012-01-31 20:00:00</th>\n      <td>-7.4</td>\n      <td>-10.7</td>\n      <td>77</td>\n      <td>20</td>\n      <td>1.6</td>\n      <td>101.09</td>\n      <td>Snow</td>\n    </tr>\n    <tr>\n      <th>2012-01-31 21:00:00</th>\n      <td>-7.1</td>\n      <td>-10.5</td>\n      <td>77</td>\n      <td>20</td>\n      <td>12.9</td>\n      <td>101.02</td>\n      <td>Cloudy</td>\n    </tr>\n    <tr>\n      <th>2012-01-31 22:00:00</th>\n      <td>-7.1</td>\n      <td>-10.4</td>\n      <td>77</td>\n      <td>19</td>\n      <td>9.7</td>\n      <td>100.95</td>\n      <td>Snow</td>\n    </tr>\n    <tr>\n      <th>2012-01-31 23:00:00</th>\n      <td>-6.8</td>\n      <td>-9.9</td>\n      <td>79</td>\n      <td>22</td>\n      <td>9.7</td>\n      <td>100.86</td>\n      <td>Freezing Drizzle,Snow</td>\n    </tr>\n  </tbody>\n</table>\n<p>744 rows × 7 columns</p>\n</div>"
     },
     "execution_count": 10,
     "metadata": {},
     "output_type": "execute_result"
    }
   ],
   "source": [
    "data['2012-01-01':'2012-01-31']"
   ]
  },
  {
   "cell_type": "markdown",
   "metadata": {},
   "source": [
    "But in fact, this also works."
   ]
  },
  {
   "cell_type": "code",
   "execution_count": 17,
   "metadata": {
    "ExecuteTime": {
     "end_time": "2024-01-18T12:02:57.056411780Z",
     "start_time": "2024-01-18T12:02:57.027726951Z"
    }
   },
   "outputs": [
    {
     "ename": "KeyError",
     "evalue": "'2012-01'",
     "output_type": "error",
     "traceback": [
      "\u001B[0;31m---------------------------------------------------------------------------\u001B[0m",
      "\u001B[0;31mKeyError\u001B[0m                                  Traceback (most recent call last)",
      "File \u001B[0;32m~/github_repos/TTK4260-Exercises-2024/venv/lib/python3.11/site-packages/pandas/core/indexes/base.py:3791\u001B[0m, in \u001B[0;36mIndex.get_loc\u001B[0;34m(self, key)\u001B[0m\n\u001B[1;32m   3790\u001B[0m \u001B[38;5;28;01mtry\u001B[39;00m:\n\u001B[0;32m-> 3791\u001B[0m     \u001B[38;5;28;01mreturn\u001B[39;00m \u001B[38;5;28;43mself\u001B[39;49m\u001B[38;5;241;43m.\u001B[39;49m\u001B[43m_engine\u001B[49m\u001B[38;5;241;43m.\u001B[39;49m\u001B[43mget_loc\u001B[49m\u001B[43m(\u001B[49m\u001B[43mcasted_key\u001B[49m\u001B[43m)\u001B[49m\n\u001B[1;32m   3792\u001B[0m \u001B[38;5;28;01mexcept\u001B[39;00m \u001B[38;5;167;01mKeyError\u001B[39;00m \u001B[38;5;28;01mas\u001B[39;00m err:\n",
      "File \u001B[0;32mindex.pyx:152\u001B[0m, in \u001B[0;36mpandas._libs.index.IndexEngine.get_loc\u001B[0;34m()\u001B[0m\n",
      "File \u001B[0;32mindex.pyx:181\u001B[0m, in \u001B[0;36mpandas._libs.index.IndexEngine.get_loc\u001B[0;34m()\u001B[0m\n",
      "File \u001B[0;32mpandas/_libs/hashtable_class_helper.pxi:7080\u001B[0m, in \u001B[0;36mpandas._libs.hashtable.PyObjectHashTable.get_item\u001B[0;34m()\u001B[0m\n",
      "File \u001B[0;32mpandas/_libs/hashtable_class_helper.pxi:7088\u001B[0m, in \u001B[0;36mpandas._libs.hashtable.PyObjectHashTable.get_item\u001B[0;34m()\u001B[0m\n",
      "\u001B[0;31mKeyError\u001B[0m: '2012-01'",
      "\nThe above exception was the direct cause of the following exception:\n",
      "\u001B[0;31mKeyError\u001B[0m                                  Traceback (most recent call last)",
      "Cell \u001B[0;32mIn[17], line 1\u001B[0m\n\u001B[0;32m----> 1\u001B[0m \u001B[43mdata\u001B[49m\u001B[43m[\u001B[49m\u001B[38;5;124;43m'\u001B[39;49m\u001B[38;5;124;43m2012-01\u001B[39;49m\u001B[38;5;124;43m'\u001B[39;49m\u001B[43m]\u001B[49m\n",
      "File \u001B[0;32m~/github_repos/TTK4260-Exercises-2024/venv/lib/python3.11/site-packages/pandas/core/frame.py:3893\u001B[0m, in \u001B[0;36mDataFrame.__getitem__\u001B[0;34m(self, key)\u001B[0m\n\u001B[1;32m   3891\u001B[0m \u001B[38;5;28;01mif\u001B[39;00m \u001B[38;5;28mself\u001B[39m\u001B[38;5;241m.\u001B[39mcolumns\u001B[38;5;241m.\u001B[39mnlevels \u001B[38;5;241m>\u001B[39m \u001B[38;5;241m1\u001B[39m:\n\u001B[1;32m   3892\u001B[0m     \u001B[38;5;28;01mreturn\u001B[39;00m \u001B[38;5;28mself\u001B[39m\u001B[38;5;241m.\u001B[39m_getitem_multilevel(key)\n\u001B[0;32m-> 3893\u001B[0m indexer \u001B[38;5;241m=\u001B[39m \u001B[38;5;28;43mself\u001B[39;49m\u001B[38;5;241;43m.\u001B[39;49m\u001B[43mcolumns\u001B[49m\u001B[38;5;241;43m.\u001B[39;49m\u001B[43mget_loc\u001B[49m\u001B[43m(\u001B[49m\u001B[43mkey\u001B[49m\u001B[43m)\u001B[49m\n\u001B[1;32m   3894\u001B[0m \u001B[38;5;28;01mif\u001B[39;00m is_integer(indexer):\n\u001B[1;32m   3895\u001B[0m     indexer \u001B[38;5;241m=\u001B[39m [indexer]\n",
      "File \u001B[0;32m~/github_repos/TTK4260-Exercises-2024/venv/lib/python3.11/site-packages/pandas/core/indexes/base.py:3798\u001B[0m, in \u001B[0;36mIndex.get_loc\u001B[0;34m(self, key)\u001B[0m\n\u001B[1;32m   3793\u001B[0m     \u001B[38;5;28;01mif\u001B[39;00m \u001B[38;5;28misinstance\u001B[39m(casted_key, \u001B[38;5;28mslice\u001B[39m) \u001B[38;5;129;01mor\u001B[39;00m (\n\u001B[1;32m   3794\u001B[0m         \u001B[38;5;28misinstance\u001B[39m(casted_key, abc\u001B[38;5;241m.\u001B[39mIterable)\n\u001B[1;32m   3795\u001B[0m         \u001B[38;5;129;01mand\u001B[39;00m \u001B[38;5;28many\u001B[39m(\u001B[38;5;28misinstance\u001B[39m(x, \u001B[38;5;28mslice\u001B[39m) \u001B[38;5;28;01mfor\u001B[39;00m x \u001B[38;5;129;01min\u001B[39;00m casted_key)\n\u001B[1;32m   3796\u001B[0m     ):\n\u001B[1;32m   3797\u001B[0m         \u001B[38;5;28;01mraise\u001B[39;00m InvalidIndexError(key)\n\u001B[0;32m-> 3798\u001B[0m     \u001B[38;5;28;01mraise\u001B[39;00m \u001B[38;5;167;01mKeyError\u001B[39;00m(key) \u001B[38;5;28;01mfrom\u001B[39;00m \u001B[38;5;21;01merr\u001B[39;00m\n\u001B[1;32m   3799\u001B[0m \u001B[38;5;28;01mexcept\u001B[39;00m \u001B[38;5;167;01mTypeError\u001B[39;00m:\n\u001B[1;32m   3800\u001B[0m     \u001B[38;5;66;03m# If we have a listlike key, _check_indexing_error will raise\u001B[39;00m\n\u001B[1;32m   3801\u001B[0m     \u001B[38;5;66;03m#  InvalidIndexError. Otherwise we fall through and re-raise\u001B[39;00m\n\u001B[1;32m   3802\u001B[0m     \u001B[38;5;66;03m#  the TypeError.\u001B[39;00m\n\u001B[1;32m   3803\u001B[0m     \u001B[38;5;28mself\u001B[39m\u001B[38;5;241m.\u001B[39m_check_indexing_error(key)\n",
      "\u001B[0;31mKeyError\u001B[0m: '2012-01'"
     ]
    }
   ],
   "source": [
    "data['2012-01']"
   ]
  },
  {
   "cell_type": "markdown",
   "metadata": {},
   "source": [
    "You can combine indexing too. Let's get the weather types on November 2nd."
   ]
  },
  {
   "cell_type": "code",
   "execution_count": null,
   "metadata": {
    "ExecuteTime": {
     "end_time": "2024-01-18T12:01:01.766491940Z",
     "start_time": "2024-01-18T12:01:01.763823803Z"
    }
   },
   "outputs": [],
   "source": [
    "data['2012-11-02']['Weather']"
   ]
  },
  {
   "cell_type": "markdown",
   "metadata": {},
   "source": [
    "The first step in data analysis is always to plot something. Pandas makes this easy, and you don't have to deal with Matplotlib directly."
   ]
  },
  {
   "cell_type": "code",
   "execution_count": null,
   "metadata": {
    "ExecuteTime": {
     "start_time": "2024-01-18T12:01:01.764592509Z"
    }
   },
   "outputs": [],
   "source": [
    "data.plot()"
   ]
  },
  {
   "cell_type": "markdown",
   "metadata": {},
   "source": [
    "Okay, that's not very enlightening. Let's try to be more specific."
   ]
  },
  {
   "cell_type": "code",
   "execution_count": null,
   "metadata": {
    "ExecuteTime": {
     "start_time": "2024-01-18T12:01:01.765285468Z"
    }
   },
   "outputs": [],
   "source": [
    "data.plot(y='Temp (C)', figsize=(12,4))"
   ]
  },
  {
   "cell_type": "markdown",
   "metadata": {},
   "source": [
    "Let's see if the temperature and the dew point are linked."
   ]
  },
  {
   "cell_type": "code",
   "execution_count": null,
   "metadata": {
    "ExecuteTime": {
     "start_time": "2024-01-18T12:01:01.766005765Z"
    }
   },
   "outputs": [],
   "source": [
    "ax = data.plot(y='Temp (C)', figsize=(12,4))\n",
    "data.plot(y='Dew Point Temp (C)', ax=ax)"
   ]
  },
  {
   "cell_type": "markdown",
   "metadata": {},
   "source": [
    "Looks like that's the case. A scatter plot might make this relationship more clear. The red line corresponds to *dew point = temp*, which is when the air is completely saturated with humidity. As we can see, the temperature seems to be never smaller than the dew point."
   ]
  },
  {
   "cell_type": "code",
   "execution_count": null,
   "metadata": {
    "ExecuteTime": {
     "end_time": "2024-01-18T12:01:01.767211009Z",
     "start_time": "2024-01-18T12:01:01.766729089Z"
    }
   },
   "outputs": [],
   "source": [
    "data.plot.scatter('Temp (C)', 'Dew Point Temp (C)', alpha=0.05)\n",
    "temps = data.min()['Temp (C)'], data.max()['Temp (C)']\n",
    "plt.plot(temps, temps, color='red')"
   ]
  },
  {
   "cell_type": "markdown",
   "metadata": {},
   "source": [
    "We might reasonably expect the humidity to be high when the actual temperature is close to the dew point. Let's see if that's the case. First, create a new column with the difference between temperature and dew point. Then make a new scatter plot."
   ]
  },
  {
   "cell_type": "code",
   "execution_count": null,
   "metadata": {
    "ExecuteTime": {
     "end_time": "2024-01-18T12:01:01.767563769Z",
     "start_time": "2024-01-18T12:01:01.767452497Z"
    }
   },
   "outputs": [],
   "source": [
    "data['Temp Diff (C)'] = data['Temp (C)'] - data['Dew Point Temp (C)']\n",
    "\n",
    "data.plot.scatter('Temp Diff (C)', 'Rel Hum (%)', alpha=0.05)"
   ]
  },
  {
   "cell_type": "markdown",
   "metadata": {},
   "source": [
    "This looks quite revealing indeed."
   ]
  },
  {
   "cell_type": "markdown",
   "metadata": {},
   "source": [
    "Let's look at the \"Weather\" column. Unlike the other columns, it acts as a category rather than as a number. Use `.value_counts()` to get an overview."
   ]
  },
  {
   "cell_type": "code",
   "execution_count": null,
   "metadata": {
    "ExecuteTime": {
     "start_time": "2024-01-18T12:01:01.768158595Z"
    }
   },
   "outputs": [],
   "source": [
    "data['Weather'].value_counts()"
   ]
  },
  {
   "cell_type": "markdown",
   "metadata": {},
   "source": [
    "Unfortunately this sort of column is not very useful. We'd rather have columns called \"Clear\", \"Cloudy\", etc, which are booleans. Let's try to do that. You can access string methods under the `str` attribute. Let's split on comma and expand."
   ]
  },
  {
   "cell_type": "code",
   "execution_count": null,
   "metadata": {
    "ExecuteTime": {
     "start_time": "2024-01-18T12:01:01.768764855Z"
    }
   },
   "outputs": [],
   "source": [
    "temp = data['Weather'].str.split(',', expand=True)\n",
    "temp.head()"
   ]
  },
  {
   "cell_type": "markdown",
   "metadata": {},
   "source": [
    "As you can see we now get a dataframe with three columns, indicating that there are only ever three different weather tags for any particular hour. Let's get a list of all weather tags. Since `set` removes duplicates, let's use that. Let's also remove `None`."
   ]
  },
  {
   "cell_type": "code",
   "execution_count": null,
   "metadata": {
    "ExecuteTime": {
     "start_time": "2024-01-18T12:01:01.784025781Z"
    }
   },
   "outputs": [],
   "source": [
    "tags = sorted(set(temp.values.flatten()) - {None})\n",
    "tags"
   ]
  },
  {
   "cell_type": "markdown",
   "metadata": {},
   "source": [
    "Now we can get a boolean dataframe indicating which days are foggy by using `temp == 'Fog'`. We also need to apply maximum on the rows, though, since we're only interested in whether it was foggy, not whether \"Fog\" was first, second or third in the list."
   ]
  },
  {
   "cell_type": "code",
   "execution_count": null,
   "metadata": {
    "ExecuteTime": {
     "start_time": "2024-01-18T12:01:01.784086282Z"
    }
   },
   "outputs": [],
   "source": [
    "(temp == 'Fog').aggregate('max', axis=1)"
   ]
  },
  {
   "cell_type": "markdown",
   "metadata": {},
   "source": [
    "Great. Let's now add a bunch of columns to our original data frame."
   ]
  },
  {
   "cell_type": "code",
   "execution_count": null,
   "metadata": {
    "ExecuteTime": {
     "start_time": "2024-01-18T12:01:01.784108670Z"
    }
   },
   "outputs": [],
   "source": [
    "for tag in tags:\n",
    "    data[tag] = (temp == tag).aggregate('max', axis=1)\n",
    "data.dtypes"
   ]
  },
  {
   "cell_type": "markdown",
   "metadata": {},
   "source": [
    "Beautiful. Now we can get some more information on the specific types of weather."
   ]
  },
  {
   "cell_type": "code",
   "execution_count": null,
   "metadata": {
    "ExecuteTime": {
     "start_time": "2024-01-18T12:01:01.784123690Z"
    }
   },
   "outputs": [],
   "source": [
    "weather = data.loc[:, 'Blowing Snow':'Thunderstorms']\n",
    "weather.aggregate('sum').sort_values(ascending=False)"
   ]
  },
  {
   "cell_type": "markdown",
   "metadata": {},
   "source": [
    "It seems reasonable to believe that there's a relationship between foggy weather and humidity. Let's check that by returning to one of our earlier scatter plots, and plotting two separate data sets, foggy and non-foggy."
   ]
  },
  {
   "cell_type": "code",
   "execution_count": null,
   "metadata": {
    "ExecuteTime": {
     "start_time": "2024-01-18T12:01:01.784140852Z"
    }
   },
   "outputs": [],
   "source": [
    "fig, ax = plt.subplots(1, 1)\n",
    "data[~data['Fog']].plot.scatter('Temp (C)', 'Dew Point Temp (C)', color='blue', ax=ax, alpha=0.05)\n",
    "data[data['Fog']].plot.scatter('Temp (C)', 'Dew Point Temp (C)', color='red', ax=ax, alpha=0.1)"
   ]
  },
  {
   "cell_type": "markdown",
   "metadata": {},
   "source": [
    "We can go further by box-plotting the humidity when compared with various forms of weather conditions that we suspect may be linked to it."
   ]
  },
  {
   "cell_type": "code",
   "execution_count": null,
   "metadata": {
    "ExecuteTime": {
     "start_time": "2024-01-18T12:01:01.784155071Z"
    }
   },
   "outputs": [],
   "source": [
    "humidity = data['Rel Hum (%)']\n",
    "\n",
    "# This is equivalent to fog = data['Fog'], etc.\n",
    "fog, drizzle, rain, snow, thunder = (data[x] for x in ['Fog', 'Drizzle', 'Rain', 'Snow', 'Thunderstorms'])\n",
    "\n",
    "plt.figure(figsize=(10,4))\n",
    "plt.boxplot(\n",
    "    [humidity[~fog], humidity[fog], \n",
    "     humidity[~drizzle], humidity[drizzle],\n",
    "     humidity[~rain], humidity[rain],\n",
    "     humidity[~snow], humidity[snow],\n",
    "     humidity[~thunder], humidity[thunder]], \n",
    "    labels=['No fog', 'Fog', 'No drizzle', 'Drizzle', 'No rain', 'Rain', 'No Snow', 'Snow', 'No thunder', 'Thunder']\n",
    ")\n",
    "plt.ylabel('Rel Hum (%)')"
   ]
  }
 ],
 "metadata": {
  "kernelspec": {
   "display_name": "Python 3",
   "language": "python",
   "name": "python3"
  },
  "language_info": {
   "codemirror_mode": {
    "name": "ipython",
    "version": 3
   },
   "file_extension": ".py",
   "mimetype": "text/x-python",
   "name": "python",
   "nbconvert_exporter": "python",
   "pygments_lexer": "ipython3",
   "version": "3.9.12"
  }
 },
 "nbformat": 4,
 "nbformat_minor": 2
}
